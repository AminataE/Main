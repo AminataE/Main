{
 "cells": [
  {
   "cell_type": "markdown",
   "metadata": {
    "id": "JIKIHe8_iaKx"
   },
   "source": [
    "# Projet 6 : Coordinate gradient descent"
   ]
  },
  {
   "cell_type": "code",
   "execution_count": 1,
   "metadata": {
    "id": "KIPoKQ6qh6dW"
   },
   "outputs": [],
   "source": [
    "from math import *\n",
    "import random\n",
    "import numpy as np\n",
    "from numpy.random import multivariate_normal, randn # Probability distributions on vectors\n",
    "\n",
    "import pandas as pd  #pandas pour la gestion des données \n",
    "import seaborn as sn\n",
    "import matplotlib.pyplot as plt\n",
    "from sklearn.model_selection import train_test_split\n",
    "from sklearn.linear_model import Ridge\n",
    "from sklearn.metrics import r2_score, mean_squared_error\n"
   ]
  },
  {
   "cell_type": "markdown",
   "metadata": {
    "id": "WpbZcRSDilzE"
   },
   "source": [
    "## Génération de la base de donnée"
   ]
  },
  {
   "cell_type": "markdown",
   "metadata": {
    "id": "88fEmE3MiqCo"
   },
   "source": [
    "J'ai décidé de travailler sur un dataset que j'ai généré aléatoirement composé de 6 variables décorrélées. \n",
    "Connaissant les coefficients de régression, il est aussi plus simple de s'assurer du bon fonctionnement de la méthode et de l'implémentation de l'algorithme ."
   ]
  },
  {
   "cell_type": "code",
   "execution_count": 2,
   "metadata": {
    "id": "-aSjS7T7i2m5"
   },
   "outputs": [],
   "source": [
    "random.seed(1)\n",
    "n=1000\n",
    "nbr_var=6\n",
    "x=np.zeros((n,nbr_var))\n",
    "sd=10\n",
    "mu=50\n",
    "for i in range(nbr_var):\n",
    "  x[:,i]= np.random.randn(n)*sd+mu\n",
    "design=pd.DataFrame(x,columns = ['X1', 'X2', 'X3', 'X4', 'X5', 'X6'])\n",
    "coef=np.array([6,4,0.8,0.02,7,3.8]).reshape(-1,1)\n",
    "y=np.dot(design,coef)+np.random.randn(n).reshape(-1,1)"
   ]
  },
  {
   "cell_type": "code",
   "execution_count": 3,
   "metadata": {
    "id": "t9S0VNVOi3lA"
   },
   "outputs": [],
   "source": [
    "#Séparation du training set et du test set\n",
    "X_train,X_test,y_train,y_test=train_test_split(design,y,test_size=0.33, random_state=1)"
   ]
  },
  {
   "cell_type": "code",
   "execution_count": 4,
   "metadata": {
    "colab": {
     "base_uri": "https://localhost:8080/"
    },
    "id": "xPQoDhFSi9JV",
    "outputId": "18254f01-b327-46f9-d590-62c036e1b95e"
   },
   "outputs": [
    {
     "data": {
      "text/plain": [
       "9.761200582556666e-08"
      ]
     },
     "execution_count": 4,
     "metadata": {},
     "output_type": "execute_result"
    }
   ],
   "source": [
    "#Plus grand valeur propre de la matrice de XX.T\n",
    "max_ev=max(np.linalg.eigvals(np.dot(X_train, X_train.T))).real\n",
    "# Nous obtenons la borne supérieur du pas que nous pouvons utilisant grace au résulat théorique suivant \n",
    "step=1/max_ev\n",
    "step"
   ]
  },
  {
   "cell_type": "markdown",
   "metadata": {
    "id": "d4vi6GMv70TH"
   },
   "source": [
    "## Implémentation de la fonction de perte ridge et de l'algorithme de descente de gradient classique"
   ]
  },
  {
   "cell_type": "code",
   "execution_count": 5,
   "metadata": {
    "id": "LIkRV7bSlgJa"
   },
   "outputs": [],
   "source": [
    "# Définition de la fonction de perte\n",
    "def ridge_error(y,X,beta,lambd):\n",
    "\n",
    "  return(((np.dot(X,beta)-y)**2).sum()/2+lambd*(beta**2).sum()/2)/len(y)"
   ]
  },
  {
   "cell_type": "code",
   "execution_count": 6,
   "metadata": {
    "id": "8Ls_TiDelhCL"
   },
   "outputs": [],
   "source": [
    "def gradient_descent_ridge(X, y,lambd, learningrate=1e-3, epochs=10000,epsilon=1e-2,monit=True,arret=True):\n",
    "    \"\"\"\n",
    "  Algorithme de descent de gradient avec pénalité ridge\n",
    "  \n",
    "  Parametres\n",
    "  ----------\n",
    "  X : np.array\n",
    "    matrice de design\n",
    "\n",
    "  y : np.array\n",
    "    vecteur du target\n",
    "\n",
    "  lambd: float\n",
    "    parametre de régularisation\n",
    "\n",
    "  epochs: int\n",
    "    Nombre d'epochs\n",
    "\n",
    "\n",
    "  monit : bool\n",
    "      Affiche l'itération en cours\n",
    "\n",
    "\n",
    "  \n",
    "  arret : bool\n",
    "      Algorithme s'arrete lorsque la condition d'arret est satisfaite\n",
    "  \n",
    "  std : float, default=1.\n",
    "      Standard-deviation of the noise\n",
    "\n",
    "  epsilon : float\n",
    "      Paramètre de précision pour la condition d'arret\n",
    "  \"\"\"  \n",
    "    ridge=[]\n",
    "    beta = pd.DataFrame([0,0,0,0,0,0]) # Initialisation des coefficients\n",
    "    for i in range(epochs):\n",
    "      if i%(epochs/100)==0 and monit: #monitoring\n",
    "        print(\"itération {} en cours ...\".format(i))\n",
    "      # Updating beta\n",
    "      delta =  np.subtract(np.dot(X,beta),y.reshape(-1,1))\n",
    "      gradient=np.dot(X.T,delta)+ lambd*beta\n",
    "      beta_new= beta-learningrate * gradient # on retire un gradient\n",
    "      ridge.append(ridge_error(y,X,beta_new,lambd)) # on calcule l'erreur\n",
    "      \n",
    "      if np.linalg.norm(gradient)<epsilon and arret: #condition d'arrêt\n",
    "        print(\"L'algorithme a convergé \")\n",
    "        break\n",
    "      beta=beta_new\n",
    "     \n",
    "    return beta,ridge"
   ]
  },
  {
   "cell_type": "markdown",
   "metadata": {
    "id": "29r7t4qqjxnp"
   },
   "source": [
    "## Question 1\n",
    "\n",
    "Rappelons la direction de descente de la random block cordinate descent:\n",
    "$$ \\nabla g_j(\\beta) = 2 \\left(X_j^T (X\\beta - y) + \\lambda \\beta_j \\right) $$\n",
    "\n",
    "- $X_j$ correspond à la colonne de la $j^{em}$ variable \n",
    "- $\\beta_j$ le coefficient correspondant à la $j^{em}$ variable."
   ]
  },
  {
   "cell_type": "code",
   "execution_count": 7,
   "metadata": {
    "id": "wAww-lfqmOHI"
   },
   "outputs": [],
   "source": [
    "# Cette fonction permet de calculer le gradient par bloc\n",
    "def grad_RBCD(X, y, beta, lambd, i):\n",
    "    return np.array(2 * (X[:, i].transpose().dot(X.dot(beta) - y) + lambd * beta[i]))\n",
    "\n",
    "def gradient_RBCD(X, y, lambd, iter, learningrate, b_size,arret=False):\n",
    "  \"\"\"\n",
    "  Algorithme de descent de gradient avec pénalité ridge\n",
    "  \n",
    "  Parametres\n",
    "  ----------\n",
    "  X : np.array\n",
    "    matrice de design\n",
    "\n",
    "  y : np.array\n",
    "    vecteur du target\n",
    "\n",
    "  lambd: float\n",
    "    parametre de régularisation\n",
    "\n",
    "  iter: int\n",
    "    Nombre d'itération\n",
    "\n",
    "  \"\"\"  \n",
    "  X=np.array(X)\n",
    "  y=np.array(y)\n",
    "  n, d = X.shape\n",
    "  beta = np.zeros(d).reshape(-1,1)  #On initialise beta\n",
    "  e_i = np.eye(d)\n",
    "  loss_ridge = []\n",
    "  \n",
    "  for nb_iter in range(iter):\n",
    "      block = random.sample(range(d), b_size) # On choisit les variables pour la descent de gradient par block\n",
    "      g=np.sum([grad_RBCD(X, y, beta, lambd, i) * e_i[i,:] for i in block], axis = 0) # On calcule la direction de descent\n",
    "      beta_new = beta - learningrate * g.reshape(-1,1)\n",
    "      loss_ridge.append( ridge_error(y,X,beta_new,lambd)) # On calcule l'erreur\n",
    "      beta = beta_new\n",
    "      \n",
    "      \n",
    "  return beta, loss_ridge"
   ]
  },
  {
   "cell_type": "code",
   "execution_count": 8,
   "metadata": {
    "id": "0sYqxaXis4Lm"
   },
   "outputs": [],
   "source": [
    "lambd = 2 \n",
    "b_size = 2 \n",
    "iter = 5000\n",
    "epsilon = 1e-8\n",
    "beta_RBCD, loss_beta_RBCD = gradient_RBCD(X_train, y_train, lambd, iter, step, b_size)\n",
    "beta_GD, loss_beta_GD = gradient_descent_ridge(X_train.values, y_train, lambd, step, iter, epsilon, monit=False, arret=False)"
   ]
  },
  {
   "cell_type": "code",
   "execution_count": 9,
   "metadata": {
    "colab": {
     "base_uri": "https://localhost:8080/"
    },
    "id": "bBvqOAdC2bND",
    "outputId": "657bb1ab-f0c9-4894-be72-0c1b2c781674"
   },
   "outputs": [
    {
     "data": {
      "text/plain": [
       "array([[5.9956142 ],\n",
       "       [4.00016886],\n",
       "       [0.80021973],\n",
       "       [0.02121203],\n",
       "       [7.00459645],\n",
       "       [3.79883527]])"
      ]
     },
     "execution_count": 9,
     "metadata": {},
     "output_type": "execute_result"
    }
   ],
   "source": [
    "beta_RBCD"
   ]
  },
  {
   "cell_type": "markdown",
   "metadata": {
    "id": "4xsEzP7N8AiP"
   },
   "source": [
    "Les coefficients trouvés sont proches des coefficients réels"
   ]
  },
  {
   "cell_type": "code",
   "execution_count": 10,
   "metadata": {
    "colab": {
     "base_uri": "https://localhost:8080/",
     "height": 294
    },
    "id": "-44uEDMjt5Rd",
    "outputId": "66cd84d6-06f5-4e6a-f6e3-5f30162cd68e"
   },
   "outputs": [
    {
     "data": {
      "image/png": "[encoded data removed]",
      "text/plain": [
       "<Figure size 432x288 with 1 Axes>"
      ]
     },
     "metadata": {
      "needs_background": "light"
     },
     "output_type": "display_data"
    }
   ],
   "source": [
    "plt.title(\"Vitesse de convergence GD vs RBCD\")\n",
    "plt.plot( np.log10(loss_beta_RBCD), color = \"red\", label = \"RBCD\")\n",
    "plt.plot( np.log10(loss_beta_GD), color = \"blue\", label = \"GD\")\n",
    "plt.legend(loc = \"upper right\")\n",
    "plt.xlabel(\"Itérationgs\")\n",
    "plt.ylabel('Erreur Ridge')\n",
    "plt.show()"
   ]
  },
  {
   "cell_type": "markdown",
   "metadata": {
    "id": "EbVRFpol5pgt"
   },
   "source": [
    "Sur le graphe ci-dessus, on observe que la descente de gradient converge plus vite que la descente de gradient  RBCD. Néanmoins si on prend en compte le temps d'execution, le RBCD est plus rapide car on divise le nombre de calcul et d'accès aux données par le nombre de block.\n",
    "\n"
   ]
  },
  {
   "cell_type": "markdown",
   "metadata": {
    "id": "AyLzpFtG8SNa"
   },
   "source": [
    "## Question 2:\n",
    "\n",
    "Nous allons combiner dans cette partie le gradient stochastique et le coordinate gradient descente.\n",
    "\n",
    "Nous utiliserons la direction de descente suivante:\n",
    "$$ \\nabla g_{ij}(\\beta) = 2 \\left(X_{i,j}^T (X_i\\beta - y_i) + \\lambda \\beta_j \\right) $$\n"
   ]
  },
  {
   "cell_type": "code",
   "execution_count": 11,
   "metadata": {
    "id": "f12uHUV58Rro"
   },
   "outputs": [],
   "source": [
    "#Fonction qui permet de calculer la direction de descente\n",
    "def grad_RBCD_SGD(X, y, beta, lambd, i, j):\n",
    "  return 2 * (X[i,j] * (X[i,:].dot(beta)-y[i]) + lambd * beta[j])\n",
    "\n",
    "def gradient_RBCD_SGD(X, y, lambd, iter, learningrate, b_size):\n",
    "  X=np.array(X)\n",
    "  y=np.array(y)\n",
    "  n, d = X.shape \n",
    "  beta = np.zeros(d) \n",
    "  e_i = np.eye(d)\n",
    "  loss_ridge = []\n",
    "  for epoch in range(iter):\n",
    "    for nb_iter in range(n):\n",
    "        \n",
    "      i = np.random.randint(0, n) #random observation for SGD\n",
    "      block = random.sample(range(d), b_size) #random block for RBCD\n",
    "      g=np.sum([grad_RBCD_SGD(X, y, beta, lambd, i, j) * e_i[j,:] for j in block], axis = 0)\n",
    "      beta_new = beta - learningrate * g\n",
    "      beta = beta_new \n",
    "\n",
    "    loss_ridge.append( ridge_error(y,X,beta,lambd))\n",
    "      \n",
    "     \n",
    "  return beta, loss_ridge"
   ]
  },
  {
   "cell_type": "code",
   "execution_count": 12,
   "metadata": {
    "id": "FeS19yBYA-oZ"
   },
   "outputs": [],
   "source": [
    "lambd = 10 \n",
    "b_size = 3 \n",
    "iter_max = 1000\n",
    "beta_RBCD_SGD, loss_beta_RBCD_SGD = gradient_RBCD_SGD(X_train, y_train, lambd, iter,step, b_size)"
   ]
  },
  {
   "cell_type": "code",
   "execution_count": 13,
   "metadata": {
    "colab": {
     "base_uri": "https://localhost:8080/"
    },
    "id": "zMhxlZUXBsX0",
    "outputId": "c5262360-b799-48e4-a4eb-a0a4901a7a54"
   },
   "outputs": [
    {
     "data": {
      "text/plain": [
       "array([5.76878665, 4.01813137, 1.00453469, 0.33724955, 6.70940877,\n",
       "       3.77912991])"
      ]
     },
     "execution_count": 13,
     "metadata": {},
     "output_type": "execute_result"
    }
   ],
   "source": [
    "beta_RBCD_SGD"
   ]
  },
  {
   "cell_type": "markdown",
   "metadata": {
    "id": "hYalz8wRKM7B"
   },
   "source": [
    "La solution trouvée par la combinaison de l'algorithme de coordinate descent et de l'algorithme de descent de gradient stochastique n'est pas aussi proche de la vraie solution que pour le RBCD seul ou encore la descente de gradient classique. Néanmois il s'agit d'une bonne approximation de la solution."
   ]
  },
  {
   "cell_type": "code",
   "execution_count": 14,
   "metadata": {
    "colab": {
     "base_uri": "https://localhost:8080/",
     "height": 294
    },
    "id": "NblGeEv8Ax-W",
    "outputId": "e511370c-c702-4699-b266-5100d040599c"
   },
   "outputs": [
    {
     "data": {
      "image/png": "[encoded data removed]",
      "text/plain": [
       "<Figure size 432x288 with 1 Axes>"
      ]
     },
     "metadata": {
      "needs_background": "light"
     },
     "output_type": "display_data"
    }
   ],
   "source": [
    "\n",
    "plt.title(\"Vitesse de convergence GD vs RBCD vs RBCD+ SGD\")\n",
    "plt.plot( np.log10(loss_beta_RBCD), color = \"r\", label = \"RBCD\")\n",
    "plt.plot( np.log10(loss_beta_GD), color = \"blue\", label = \"GD\")\n",
    "plt.plot( np.log10(loss_beta_RBCD_SGD), color = \"orange\", label = \"RBCD + SGD\")\n",
    "plt.legend(loc = \"upper right\")\n",
    "plt.xlabel(\"Itérations\")\n",
    "plt.ylabel('log Erreur ridge')\n",
    "plt.show()"
   ]
  },
  {
   "cell_type": "markdown",
   "metadata": {
    "id": "uphSjrmiJkUc"
   },
   "source": [
    "On peut observer le résultat théorique suivant: \n",
    "\n",
    "La descente de gradient stochastique ne converge qu'à un voisinage de la solution réelle.\n",
    "\n",
    "On peut observer également que la combinaison RBCD et SDG converge beaucoup plus vite même si ce n'est qu'à un voisinage de la solution.\n",
    "\n",
    "Ainsi l'intérêt de combiner l'algorithme de coordinate gradient descente et l'algorithme du gradient stochastique est d'accéler la vitesse de convergence.\n",
    "\n",
    "Une autre idée serait d'utiliser l'algorithme de minibatch stochastique gradient ou une autre méthode de réduction de variance pour arriver à un voisinage plus proche de la vraie solution tout en conservant l'avantage de la vitesse de convergence."
   ]
  }
 ],
 "metadata": {
  "colab": {
   "provenance": []
  },
  "kernelspec": {
   "display_name": "Python 3",
   "language": "python",
   "name": "python3"
  },
  "language_info": {
   "codemirror_mode": {
    "name": "ipython",
    "version": 3
   },
   "file_extension": ".py",
   "mimetype": "text/x-python",
   "name": "python",
   "nbconvert_exporter": "python",
   "pygments_lexer": "ipython3",
   "version": "3.7.6"
  }
 },
 "nbformat": 4,
 "nbformat_minor": 1
}
