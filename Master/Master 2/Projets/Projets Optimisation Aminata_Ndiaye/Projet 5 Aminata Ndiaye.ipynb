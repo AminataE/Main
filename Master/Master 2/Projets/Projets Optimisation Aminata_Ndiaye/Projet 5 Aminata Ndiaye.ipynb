{
 "cells": [
  {
   "cell_type": "markdown",
   "metadata": {
    "id": "REHtTU9QpvcG"
   },
   "source": [
    "# Projet 5: Le gradient Proximal"
   ]
  },
  {
   "cell_type": "markdown",
   "metadata": {
    "id": "7Q8BEGFqKAI4"
   },
   "source": [
    "## Préliminaires"
   ]
  },
  {
   "cell_type": "markdown",
   "metadata": {
    "id": "XyYbLk3L7XQH"
   },
   "source": [
    "### Importation des packages"
   ]
  },
  {
   "cell_type": "code",
   "execution_count": 1,
   "metadata": {
    "id": "bLW08Nj8e3yw"
   },
   "outputs": [],
   "source": [
    "from math import *\n",
    "import random\n",
    "import numpy as np\n",
    "from numpy.random import multivariate_normal, randn # Probability distributions on vectors\n",
    "\n",
    "import pandas as pd  #pandas pour la gestion des données \n",
    "import seaborn as sn\n",
    "import matplotlib.pyplot as plt\n",
    "from sklearn.model_selection import train_test_split\n",
    "from sklearn.linear_model import Ridge\n",
    "from sklearn.metrics import r2_score, mean_squared_error\n",
    "# SciPy - Efficient mathematical calculation\n",
    "from scipy.linalg.special_matrices import toeplitz # A special kind of matrices\n",
    "from scipy.linalg import svdvals # Singular values\n",
    "from scipy.linalg import norm # Euclidean norm\n"
   ]
  },
  {
   "cell_type": "markdown",
   "metadata": {
    "id": "88ttuWCH7cno"
   },
   "source": [
    "### Génération de la base de données"
   ]
  },
  {
   "cell_type": "markdown",
   "metadata": {
    "id": "Moy_y82MiTbO"
   },
   "source": [
    "J'ai décidé de travailler sur un dataset que j'ai généré aléatoirement composé de 6 variables avec un coefficient de corrélation de 0.3. \n",
    "Connaissant les coefficients de régression, il est aussi plus simple de s'assurer du bon fonctionnement de la méthode et de l'implémentation de l'algorithme de descente de gradient."
   ]
  },
  {
   "cell_type": "code",
   "execution_count": null,
   "metadata": {
    "id": "8AD5FXqX7Rg_"
   },
   "outputs": [],
   "source": [
    "# Data generation.\n",
    "# Code C. Royer lab session 1 et 2\n",
    "\n",
    "def simu_linmodel(x, n, std=3., corr=0.3):\n",
    "    \"\"\"\n",
    "    Simulation values obtained by a linear model with additive noise\n",
    "    \n",
    "    Parametres\n",
    "    ----------\n",
    "    x : np.ndarray, shape=(d,)\n",
    "        Les coefficients du modèle \n",
    "    \n",
    "    n : int\n",
    "        Nombre d'observations\n",
    "    \n",
    "    std : float, default=1.\n",
    "        écart-type du bruit\n",
    "\n",
    "    corr : float, default=0.3\n",
    "        Correlation de la matrice de design\n",
    "    \"\"\"    \n",
    "    d = x.shape[0]\n",
    "    cov = toeplitz(corr ** np.arange(0, d))\n",
    "    A = multivariate_normal(np.zeros(d), cov, size=n)*2\n",
    "    noise = std * randn(n)\n",
    "    y = A.dot(x) + noise\n",
    "    return A, y"
   ]
  },
  {
   "cell_type": "code",
   "execution_count": null,
   "metadata": {
    "id": "odRca4ft7iMd"
   },
   "outputs": [],
   "source": [
    "# On génére 1000 données composées de 6 variables\n",
    "np.random.seed(2)\n",
    "n=1000\n",
    "coef=np.array([6,4,0.8,0.02,7,3.8])\n",
    "X,y=simu_linmodel(coef,n)\n",
    "design=pd.DataFrame(X,columns = ['X1', 'X2', 'X3', 'X4', 'X5', 'X6'])"
   ]
  },
  {
   "cell_type": "code",
   "execution_count": null,
   "metadata": {
    "colab": {
     "base_uri": "https://localhost:8080/",
     "height": 411
    },
    "executionInfo": {
     "elapsed": 10,
     "status": "ok",
     "timestamp": 1673803931669,
     "user": {
      "displayName": "Aminata Elisabeth Ndiaye",
      "userId": "02344096682030999474"
     },
     "user_tz": -60
    },
    "id": "uBptMsZ9gPKf",
    "outputId": "d2e2a211-1e45-4a2d-946d-342ed9fb7d6c"
   },
   "outputs": [
    {
     "data": {
      "text/html": [
       "\n",
       "  <div id=\"df-bf4ce185-ee7c-4797-9a05-0dc52fab0ffa\">\n",
       "    <div class=\"colab-df-container\">\n",
       "      <div>\n",
       "<style scoped>\n",
       "    .dataframe tbody tr th:only-of-type {\n",
       "        vertical-align: middle;\n",
       "    }\n",
       "\n",
       "    .dataframe tbody tr th {\n",
       "        vertical-align: top;\n",
       "    }\n",
       "\n",
       "    .dataframe thead th {\n",
       "        text-align: right;\n",
       "    }\n",
       "</style>\n",
       "<table border=\"1\" class=\"dataframe\">\n",
       "  <thead>\n",
       "    <tr style=\"text-align: right;\">\n",
       "      <th></th>\n",
       "      <th>X1</th>\n",
       "      <th>X2</th>\n",
       "      <th>X3</th>\n",
       "      <th>X4</th>\n",
       "      <th>X5</th>\n",
       "      <th>X6</th>\n",
       "    </tr>\n",
       "  </thead>\n",
       "  <tbody>\n",
       "    <tr>\n",
       "      <th>0</th>\n",
       "      <td>5.274399</td>\n",
       "      <td>-1.812856</td>\n",
       "      <td>-1.122738</td>\n",
       "      <td>-0.049119</td>\n",
       "      <td>1.047518</td>\n",
       "      <td>2.030487</td>\n",
       "    </tr>\n",
       "    <tr>\n",
       "      <th>1</th>\n",
       "      <td>-2.364554</td>\n",
       "      <td>0.758303</td>\n",
       "      <td>-3.575054</td>\n",
       "      <td>-0.007266</td>\n",
       "      <td>-0.191838</td>\n",
       "      <td>3.260172</td>\n",
       "    </tr>\n",
       "    <tr>\n",
       "      <th>2</th>\n",
       "      <td>-2.663749</td>\n",
       "      <td>-0.477963</td>\n",
       "      <td>-0.630928</td>\n",
       "      <td>1.471575</td>\n",
       "      <td>-0.007127</td>\n",
       "      <td>1.473039</td>\n",
       "    </tr>\n",
       "    <tr>\n",
       "      <th>3</th>\n",
       "      <td>1.487323</td>\n",
       "      <td>0.808606</td>\n",
       "      <td>1.020364</td>\n",
       "      <td>-0.803193</td>\n",
       "      <td>1.857024</td>\n",
       "      <td>1.147829</td>\n",
       "    </tr>\n",
       "    <tr>\n",
       "      <th>4</th>\n",
       "      <td>0.528409</td>\n",
       "      <td>-0.401583</td>\n",
       "      <td>1.328396</td>\n",
       "      <td>-0.408052</td>\n",
       "      <td>-0.893387</td>\n",
       "      <td>3.012375</td>\n",
       "    </tr>\n",
       "    <tr>\n",
       "      <th>...</th>\n",
       "      <td>...</td>\n",
       "      <td>...</td>\n",
       "      <td>...</td>\n",
       "      <td>...</td>\n",
       "      <td>...</td>\n",
       "      <td>...</td>\n",
       "    </tr>\n",
       "    <tr>\n",
       "      <th>995</th>\n",
       "      <td>-0.734042</td>\n",
       "      <td>1.666495</td>\n",
       "      <td>0.523343</td>\n",
       "      <td>-1.469085</td>\n",
       "      <td>-0.901836</td>\n",
       "      <td>0.079112</td>\n",
       "    </tr>\n",
       "    <tr>\n",
       "      <th>996</th>\n",
       "      <td>-1.743097</td>\n",
       "      <td>-0.633492</td>\n",
       "      <td>-0.679026</td>\n",
       "      <td>-1.773226</td>\n",
       "      <td>0.651580</td>\n",
       "      <td>5.183884</td>\n",
       "    </tr>\n",
       "    <tr>\n",
       "      <th>997</th>\n",
       "      <td>-1.381542</td>\n",
       "      <td>-1.712876</td>\n",
       "      <td>2.307424</td>\n",
       "      <td>-0.351998</td>\n",
       "      <td>1.569736</td>\n",
       "      <td>0.151036</td>\n",
       "    </tr>\n",
       "    <tr>\n",
       "      <th>998</th>\n",
       "      <td>2.588537</td>\n",
       "      <td>3.378348</td>\n",
       "      <td>2.615572</td>\n",
       "      <td>-1.266597</td>\n",
       "      <td>-0.749053</td>\n",
       "      <td>0.095751</td>\n",
       "    </tr>\n",
       "    <tr>\n",
       "      <th>999</th>\n",
       "      <td>2.392193</td>\n",
       "      <td>0.365315</td>\n",
       "      <td>-0.449513</td>\n",
       "      <td>1.958253</td>\n",
       "      <td>-3.107230</td>\n",
       "      <td>-1.599360</td>\n",
       "    </tr>\n",
       "  </tbody>\n",
       "</table>\n",
       "<p>1000 rows × 6 columns</p>\n",
       "</div>\n",
       "      <button class=\"colab-df-convert\" onclick=\"convertToInteractive('df-bf4ce185-ee7c-4797-9a05-0dc52fab0ffa')\"\n",
       "              title=\"Convert this dataframe to an interactive table.\"\n",
       "              style=\"display:none;\">\n",
       "        \n",
       "  <svg xmlns=\"http://www.w3.org/2000/svg\" height=\"24px\"viewBox=\"0 0 24 24\"\n",
       "       width=\"24px\">\n",
       "    <path d=\"M0 0h24v24H0V0z\" fill=\"none\"/>\n",
       "    <path d=\"M18.56 5.44l.94 2.06.94-2.06 2.06-.94-2.06-.94-.94-2.06-.94 2.06-2.06.94zm-11 1L8.5 8.5l.94-2.06 2.06-.94-2.06-.94L8.5 2.5l-.94 2.06-2.06.94zm10 10l.94 2.06.94-2.06 2.06-.94-2.06-.94-.94-2.06-.94 2.06-2.06.94z\"/><path d=\"M17.41 7.96l-1.37-1.37c-.4-.4-.92-.59-1.43-.59-.52 0-1.04.2-1.43.59L10.3 9.45l-7.72 7.72c-.78.78-.78 2.05 0 2.83L4 21.41c.39.39.9.59 1.41.59.51 0 1.02-.2 1.41-.59l7.78-7.78 2.81-2.81c.8-.78.8-2.07 0-2.86zM5.41 20L4 18.59l7.72-7.72 1.47 1.35L5.41 20z\"/>\n",
       "  </svg>\n",
       "      </button>\n",
       "      \n",
       "  <style>\n",
       "    .colab-df-container {\n",
       "      display:flex;\n",
       "      flex-wrap:wrap;\n",
       "      gap: 12px;\n",
       "    }\n",
       "\n",
       "    .colab-df-convert {\n",
       "      background-color: #E8F0FE;\n",
       "      border: none;\n",
       "      border-radius: 50%;\n",
       "      cursor: pointer;\n",
       "      display: none;\n",
       "      fill: #1967D2;\n",
       "      height: 32px;\n",
       "      padding: 0 0 0 0;\n",
       "      width: 32px;\n",
       "    }\n",
       "\n",
       "    .colab-df-convert:hover {\n",
       "      background-color: #E2EBFA;\n",
       "      box-shadow: 0px 1px 2px rgba(60, 64, 67, 0.3), 0px 1px 3px 1px rgba(60, 64, 67, 0.15);\n",
       "      fill: #174EA6;\n",
       "    }\n",
       "\n",
       "    [theme=dark] .colab-df-convert {\n",
       "      background-color: #3B4455;\n",
       "      fill: #D2E3FC;\n",
       "    }\n",
       "\n",
       "    [theme=dark] .colab-df-convert:hover {\n",
       "      background-color: #434B5C;\n",
       "      box-shadow: 0px 1px 3px 1px rgba(0, 0, 0, 0.15);\n",
       "      filter: drop-shadow(0px 1px 2px rgba(0, 0, 0, 0.3));\n",
       "      fill: #FFFFFF;\n",
       "    }\n",
       "  </style>\n",
       "\n",
       "      <script>\n",
       "        const buttonEl =\n",
       "          document.querySelector('#df-bf4ce185-ee7c-4797-9a05-0dc52fab0ffa button.colab-df-convert');\n",
       "        buttonEl.style.display =\n",
       "          google.colab.kernel.accessAllowed ? 'block' : 'none';\n",
       "\n",
       "        async function convertToInteractive(key) {\n",
       "          const element = document.querySelector('#df-bf4ce185-ee7c-4797-9a05-0dc52fab0ffa');\n",
       "          const dataTable =\n",
       "            await google.colab.kernel.invokeFunction('convertToInteractive',\n",
       "                                                     [key], {});\n",
       "          if (!dataTable) return;\n",
       "\n",
       "          const docLinkHtml = 'Like what you see? Visit the ' +\n",
       "            '<a target=\"_blank\" href=https://colab.research.google.com/notebooks/data_table.ipynb>data table notebook</a>'\n",
       "            + ' to learn more about interactive tables.';\n",
       "          element.innerHTML = '';\n",
       "          dataTable['output_type'] = 'display_data';\n",
       "          await google.colab.output.renderOutput(dataTable, element);\n",
       "          const docLink = document.createElement('div');\n",
       "          docLink.innerHTML = docLinkHtml;\n",
       "          element.appendChild(docLink);\n",
       "        }\n",
       "      </script>\n",
       "    </div>\n",
       "  </div>\n",
       "  "
      ],
      "text/plain": [
       "           X1        X2        X3        X4        X5        X6\n",
       "0    5.274399 -1.812856 -1.122738 -0.049119  1.047518  2.030487\n",
       "1   -2.364554  0.758303 -3.575054 -0.007266 -0.191838  3.260172\n",
       "2   -2.663749 -0.477963 -0.630928  1.471575 -0.007127  1.473039\n",
       "3    1.487323  0.808606  1.020364 -0.803193  1.857024  1.147829\n",
       "4    0.528409 -0.401583  1.328396 -0.408052 -0.893387  3.012375\n",
       "..        ...       ...       ...       ...       ...       ...\n",
       "995 -0.734042  1.666495  0.523343 -1.469085 -0.901836  0.079112\n",
       "996 -1.743097 -0.633492 -0.679026 -1.773226  0.651580  5.183884\n",
       "997 -1.381542 -1.712876  2.307424 -0.351998  1.569736  0.151036\n",
       "998  2.588537  3.378348  2.615572 -1.266597 -0.749053  0.095751\n",
       "999  2.392193  0.365315 -0.449513  1.958253 -3.107230 -1.599360\n",
       "\n",
       "[1000 rows x 6 columns]"
      ]
     },
     "execution_count": 13,
     "metadata": {},
     "output_type": "execute_result"
    }
   ],
   "source": [
    "dataset=design\n",
    "dataset"
   ]
  },
  {
   "cell_type": "markdown",
   "metadata": {
    "id": "6xYWl0_fhOBU"
   },
   "source": [
    "Nous obtenons la matrice de corrélation suivante."
   ]
  },
  {
   "cell_type": "code",
   "execution_count": null,
   "metadata": {
    "colab": {
     "base_uri": "https://localhost:8080/",
     "height": 268
    },
    "executionInfo": {
     "elapsed": 342,
     "status": "ok",
     "timestamp": 1673803934231,
     "user": {
      "displayName": "Aminata Elisabeth Ndiaye",
      "userId": "02344096682030999474"
     },
     "user_tz": -60
    },
    "id": "IZNri75Qhp-e",
    "outputId": "9b595815-5d56-4ec0-9e5a-2f58ba88d341"
   },
   "outputs": [
    {
     "data": {
      "image/png": "[encoded data removed]",
      "text/plain": [
       "<Figure size 432x288 with 2 Axes>"
      ]
     },
     "metadata": {
      "needs_background": "light"
     },
     "output_type": "display_data"
    }
   ],
   "source": [
    "\n",
    "#Matrice de corrélation\n",
    "corrMatrix = dataset.corr()\n",
    "sn.heatmap(corrMatrix, annot=False)\n",
    "plt.show()"
   ]
  },
  {
   "cell_type": "markdown",
   "metadata": {
    "id": "5Zi18FmVMyxs"
   },
   "source": [
    "### Séparation du training et du test set"
   ]
  },
  {
   "cell_type": "code",
   "execution_count": null,
   "metadata": {
    "id": "PEhCAjGgkYts"
   },
   "outputs": [],
   "source": [
    "#Séparation du training set et du test set\n",
    "X_train,X_test,y_train,y_test=train_test_split(design,y,test_size=0.33, random_state=1)\n",
    "\n"
   ]
  },
  {
   "cell_type": "markdown",
   "metadata": {
    "id": "gSFSVm4oM7EG"
   },
   "source": [
    "### Détermination de la borne supérieure pour le learningrate"
   ]
  },
  {
   "cell_type": "code",
   "execution_count": null,
   "metadata": {
    "colab": {
     "base_uri": "https://localhost:8080/"
    },
    "executionInfo": {
     "elapsed": 545,
     "status": "ok",
     "timestamp": 1673803938087,
     "user": {
      "displayName": "Aminata Elisabeth Ndiaye",
      "userId": "02344096682030999474"
     },
     "user_tz": -60
    },
    "id": "Sq1Pvc5EPHqN",
    "outputId": "2c4ef6e1-5b48-491f-874d-bccce38dddea"
   },
   "outputs": [
    {
     "data": {
      "text/plain": [
       "0.0002124782842013496"
      ]
     },
     "execution_count": 16,
     "metadata": {},
     "output_type": "execute_result"
    }
   ],
   "source": [
    "#Plus grand valeur propre de la matrice de XX.T\n",
    "max_ev=max(np.linalg.eigvals(np.dot(X_train, X_train.T))).real\n",
    "# Nous obtenons la borne supérieur du pas que nous pouvons utilisant grace au résulat théorique suivant \n",
    "step=1/max_ev\n",
    "step"
   ]
  },
  {
   "cell_type": "markdown",
   "metadata": {
    "id": "3q7-ArHINKUq"
   },
   "source": [
    "### Définition de la fonction de perte ridge "
   ]
  },
  {
   "cell_type": "code",
   "execution_count": null,
   "metadata": {
    "id": "MrCl6cdgjewD"
   },
   "outputs": [],
   "source": [
    "# Définition de la fonction de perte\n",
    "def ridge_error(y,X,beta,lambd):\n",
    "\n",
    "  return(((np.dot(X,beta)-y)**2).sum()/2+lambd*(beta**2).sum()/2)/len(y)"
   ]
  },
  {
   "cell_type": "markdown",
   "metadata": {
    "id": "MhYkSSaQb0k6"
   },
   "source": [
    "## Question 1: \n",
    "Add an l2 regularization term to your objective function from Part 1 or Part 3. Compare the solution of the unregularized problem to those obtained while solving the problem with:\n",
    " a) a small value for the regularization parameter \n",
    " b) a large value for the regularization parameter"
   ]
  },
  {
   "cell_type": "markdown",
   "metadata": {
    "id": "S5l3tmVAY4f1"
   },
   "source": [
    "Dans cette partie nous cherchons à résoudre le problème suivant à l'aide de l'algorithme du gradient proximal:\n",
    "\n",
    "$$\\underset{β}{minimiser} \\frac{1}{2n}\\lVert X β-Y \\rVert_{2}^2+\\frac{λ}{2} \\lVertβ \\rVert_{2}^2$$\n",
    "\n",
    "."
   ]
  },
  {
   "cell_type": "code",
   "execution_count": null,
   "metadata": {
    "id": "QpIdL9d4pPbG"
   },
   "outputs": [],
   "source": [
    "batch_size=1\n",
    "def gradient_stochastique_descent_prox_l2(X, y,lambd, learningrate=1e-2, epochs=1000000,epsilon=1e-5, batch_size=batch_size,arret=True, monit=True):\n",
    "  \"\"\"\n",
    "  Algorithme de descent de gradient avec pénalité ridge\n",
    "  \n",
    "  Parametres\n",
    "  ----------\n",
    "  X : np.array\n",
    "    matrice de design\n",
    "\n",
    "  y : np.array\n",
    "    vecteur du target\n",
    "\n",
    "  lambd: float\n",
    "    parametre de régularisation\n",
    "\n",
    "  epochs: int\n",
    "    Nombre d'epochs\n",
    "\n",
    "\n",
    "  monit : bool\n",
    "      Affiche l'itération en cours\n",
    "\n",
    "\n",
    "  \n",
    "  arret : bool\n",
    "      Algorithme s'arrete lorsque la condition d'arret est satisfaite\n",
    "  \n",
    "\n",
    "  epsilon : float\n",
    "      Paramètre de précision pour la condition d'arret\n",
    "  \"\"\"  \n",
    "  n=np.shape(X)[0]\n",
    "  X=np.array(X)\n",
    "  beta = np.array([0,0,0,0,0,0]).reshape(-1,1) # Initialisation des coefficients\n",
    "  for i in range(epochs+1):\n",
    "    if i%(epochs/10)==0 and monit:\n",
    "      print(\"itération {} en cours ...\".format(i))\n",
    "    # Updating beta\n",
    "    ind=np.random.randint(0,n-1,batch_size) # On choisit les indices sur lesquels on effectue la descente de gradient aléatoirement\n",
    "    X_ind=np.array([X[i] for i  in ind ])\n",
    "    y_ind=np.array([y[i] for i  in ind ]).reshape(-1,1)\n",
    "    delta =  np.dot(X_ind,beta)-y_ind\n",
    "    gradient=np.dot(X_ind.T,delta) # On calcule le gradient\n",
    "    pas= learningrate/(1+lambd*learningrate)\n",
    "    beta_new= beta-pas * gradient # on retire un gradient\n",
    "    \n",
    "    if arret and np.linalg.norm(gradient)<epsilon: #Condition d'arrêt\n",
    "      print(\"L'algorithme a convergé \")\n",
    "      break\n",
    "    beta=beta_new\n",
    "    \n",
    "  return beta\n",
    "\n",
    "def gradient_descent_prox_l2(X, y,lambd, learningrate=1e-3, epochs=10000,epsilon=1e-5,arret=True, monit=True):\n",
    "  \"\"\"\n",
    "  Algorithme de descent de gradient avec pénalité ridge\n",
    "  \n",
    "  Parametres\n",
    "  ----------\n",
    "  X : np.array\n",
    "    matrice de design\n",
    "\n",
    "  y : np.array\n",
    "    vecteur du target\n",
    "\n",
    "  lambd: float\n",
    "    parametre de régularisation\n",
    "\n",
    "  epochs: int\n",
    "    Nombre d'epochs\n",
    "\n",
    "\n",
    "  monit : bool\n",
    "      Affiche l'itération en cours\n",
    "\n",
    "  \n",
    "  arret : bool\n",
    "      Algorithme s'arrete lorsque la condition d'arret est satisfaite\n",
    "  \n",
    "\n",
    "  epsilon : float\n",
    "      Paramètre de précision pour la condition d'arret\n",
    "  \"\"\"  \n",
    "  beta = np.array([0,0,0,0,0,0]).reshape(-1,1) # Initialisation des coefficients\n",
    "  for i in range(epochs+1):\n",
    "    if monit and i%(epochs/10)==0: #monitoring\n",
    "      print(\"itération {} en cours ...\".format(i))\n",
    "    # Updating beta\n",
    "    delta =  np.subtract(np.dot(X,beta),y.reshape(-1,1))\n",
    "    gradient=np.dot(X.T,delta)\n",
    "    pas= learningrate/(1+lambd*learningrate)\n",
    "    beta_new= beta-pas * gradient # on retire un gradient\n",
    "\n",
    "    if arret and np.linalg.norm((np.array(beta)-np.array(beta_new)))<epsilon: #condition d'arrêt\n",
    "      print(\"L'algorithme a convergé \")\n",
    "      break\n",
    "    beta=beta_new\n",
    "    \n",
    "  return beta\n"
   ]
  },
  {
   "cell_type": "markdown",
   "metadata": {
    "id": "Q-sqhs581ZBO"
   },
   "source": [
    "Nous allons comparer à l'aide d'un tableau les solutions des différents problèmes avec les vrais coefficients de regression. Nous allons également comparer les résultats entre eux."
   ]
  },
  {
   "cell_type": "code",
   "execution_count": null,
   "metadata": {
    "id": "GyyhbGLkzYj2"
   },
   "outputs": [],
   "source": [
    "# On initialise le tableau des résultats\n",
    "resultats = pd.DataFrame(columns = ['X1', \n",
    "                                 'X2','X3','X4','X5','X6'], \n",
    "                      index = ['Coefficients réels',\n",
    "                               'GD unregularized', \n",
    "                               'SGD unregularized', \n",
    "                               'GD small regularization', \n",
    "                               'SGD small regularization',\n",
    "                               'GD large regularization', \n",
    "                               'SGD large regularization',])\n",
    "resultats.loc['Coefficients réels']= np.ravel(coef)"
   ]
  },
  {
   "cell_type": "markdown",
   "metadata": {
    "id": "6zgOCDTmf2l_"
   },
   "source": [
    "Pour la petite valeur de régularisation nous choisissons $λ=10$\n",
    "\n",
    "Pour la grande valeur de régularisation nous choisissons  $λ=10^9$"
   ]
  },
  {
   "cell_type": "code",
   "execution_count": null,
   "metadata": {
    "colab": {
     "base_uri": "https://localhost:8080/"
    },
    "executionInfo": {
     "elapsed": 84069,
     "status": "ok",
     "timestamp": 1673804306265,
     "user": {
      "displayName": "Aminata Elisabeth Ndiaye",
      "userId": "02344096682030999474"
     },
     "user_tz": -60
    },
    "id": "GN5rKK_s3QEI",
    "outputId": "dfe52928-ebb0-4ddf-9d5e-9978f0a13198"
   },
   "outputs": [
    {
     "name": "stdout",
     "output_type": "stream",
     "text": [
      "L'algorithme a convergé \n",
      "L'algorithme a convergé \n",
      "L'algorithme a convergé \n"
     ]
    }
   ],
   "source": [
    "resultats.loc['GD unregularized'] =np.ravel(gradient_descent_prox_l2(X_train,y_train,lambd=0,learningrate=step, monit=False))\n",
    "resultats.loc['GD small regularization'] =np.ravel(gradient_descent_prox_l2(X_train,y_train,lambd=10,learningrate=step, monit=False))\n",
    "resultats.loc['GD large regularization'] =np.ravel(gradient_descent_prox_l2(X_train,y_train,lambd=1e9,learningrate=step, monit=False))\n",
    "resultats.loc['SGD unregularized'] =np.ravel(gradient_stochastique_descent_prox_l2(X_train,y_train,lambd=0, batch_size=1,learningrate=step, monit=False))\n",
    "resultats.loc['SGD small regularization'] =np.ravel(gradient_stochastique_descent_prox_l2(X_train,y_train,lambd=2, batch_size=1,learningrate=step, monit=False))\n",
    "resultats.loc['SGD large regularization'] =np.ravel(gradient_stochastique_descent_prox_l2(X_train,y_train,lambd=1e9, batch_size=1,learningrate=step, monit=False))"
   ]
  },
  {
   "cell_type": "code",
   "execution_count": null,
   "metadata": {
    "colab": {
     "base_uri": "https://localhost:8080/",
     "height": 261
    },
    "executionInfo": {
     "elapsed": 316,
     "status": "ok",
     "timestamp": 1673804517213,
     "user": {
      "displayName": "Aminata Elisabeth Ndiaye",
      "userId": "02344096682030999474"
     },
     "user_tz": -60
    },
    "id": "5JhQI-UM4uhJ",
    "outputId": "6b54c1bb-0ebe-459c-b930-fa38b26f5de9"
   },
   "outputs": [
    {
     "data": {
      "text/html": [
       "\n",
       "  <div id=\"df-69e3be73-d0ff-46e5-bb86-930e1d0c4074\">\n",
       "    <div class=\"colab-df-container\">\n",
       "      <div>\n",
       "<style scoped>\n",
       "    .dataframe tbody tr th:only-of-type {\n",
       "        vertical-align: middle;\n",
       "    }\n",
       "\n",
       "    .dataframe tbody tr th {\n",
       "        vertical-align: top;\n",
       "    }\n",
       "\n",
       "    .dataframe thead th {\n",
       "        text-align: right;\n",
       "    }\n",
       "</style>\n",
       "<table border=\"1\" class=\"dataframe\">\n",
       "  <thead>\n",
       "    <tr style=\"text-align: right;\">\n",
       "      <th></th>\n",
       "      <th>X1</th>\n",
       "      <th>X2</th>\n",
       "      <th>X3</th>\n",
       "      <th>X4</th>\n",
       "      <th>X5</th>\n",
       "      <th>X6</th>\n",
       "    </tr>\n",
       "  </thead>\n",
       "  <tbody>\n",
       "    <tr>\n",
       "      <th>Coefficients réels</th>\n",
       "      <td>6.0</td>\n",
       "      <td>4.0</td>\n",
       "      <td>0.8</td>\n",
       "      <td>0.02</td>\n",
       "      <td>7.0</td>\n",
       "      <td>3.8</td>\n",
       "    </tr>\n",
       "    <tr>\n",
       "      <th>GD unregularized</th>\n",
       "      <td>6.035348</td>\n",
       "      <td>3.988605</td>\n",
       "      <td>0.693973</td>\n",
       "      <td>-0.003638</td>\n",
       "      <td>6.958999</td>\n",
       "      <td>3.910213</td>\n",
       "    </tr>\n",
       "    <tr>\n",
       "      <th>SGD unregularized</th>\n",
       "      <td>6.050385</td>\n",
       "      <td>3.995194</td>\n",
       "      <td>0.688877</td>\n",
       "      <td>-0.043551</td>\n",
       "      <td>6.970376</td>\n",
       "      <td>3.950053</td>\n",
       "    </tr>\n",
       "    <tr>\n",
       "      <th>GD small regularization</th>\n",
       "      <td>6.035348</td>\n",
       "      <td>3.988605</td>\n",
       "      <td>0.693973</td>\n",
       "      <td>-0.003638</td>\n",
       "      <td>6.958998</td>\n",
       "      <td>3.910213</td>\n",
       "    </tr>\n",
       "    <tr>\n",
       "      <th>SGD small regularization</th>\n",
       "      <td>6.024083</td>\n",
       "      <td>3.974387</td>\n",
       "      <td>0.684549</td>\n",
       "      <td>-0.042604</td>\n",
       "      <td>7.025692</td>\n",
       "      <td>3.933603</td>\n",
       "    </tr>\n",
       "    <tr>\n",
       "      <th>GD large regularization</th>\n",
       "      <td>0.219309</td>\n",
       "      <td>0.189297</td>\n",
       "      <td>0.068891</td>\n",
       "      <td>0.083426</td>\n",
       "      <td>0.235597</td>\n",
       "      <td>0.158228</td>\n",
       "    </tr>\n",
       "    <tr>\n",
       "      <th>SGD large regularization</th>\n",
       "      <td>0.033334</td>\n",
       "      <td>0.028726</td>\n",
       "      <td>0.010529</td>\n",
       "      <td>0.012809</td>\n",
       "      <td>0.035847</td>\n",
       "      <td>0.024029</td>\n",
       "    </tr>\n",
       "  </tbody>\n",
       "</table>\n",
       "</div>\n",
       "      <button class=\"colab-df-convert\" onclick=\"convertToInteractive('df-69e3be73-d0ff-46e5-bb86-930e1d0c4074')\"\n",
       "              title=\"Convert this dataframe to an interactive table.\"\n",
       "              style=\"display:none;\">\n",
       "        \n",
       "  <svg xmlns=\"http://www.w3.org/2000/svg\" height=\"24px\"viewBox=\"0 0 24 24\"\n",
       "       width=\"24px\">\n",
       "    <path d=\"M0 0h24v24H0V0z\" fill=\"none\"/>\n",
       "    <path d=\"M18.56 5.44l.94 2.06.94-2.06 2.06-.94-2.06-.94-.94-2.06-.94 2.06-2.06.94zm-11 1L8.5 8.5l.94-2.06 2.06-.94-2.06-.94L8.5 2.5l-.94 2.06-2.06.94zm10 10l.94 2.06.94-2.06 2.06-.94-2.06-.94-.94-2.06-.94 2.06-2.06.94z\"/><path d=\"M17.41 7.96l-1.37-1.37c-.4-.4-.92-.59-1.43-.59-.52 0-1.04.2-1.43.59L10.3 9.45l-7.72 7.72c-.78.78-.78 2.05 0 2.83L4 21.41c.39.39.9.59 1.41.59.51 0 1.02-.2 1.41-.59l7.78-7.78 2.81-2.81c.8-.78.8-2.07 0-2.86zM5.41 20L4 18.59l7.72-7.72 1.47 1.35L5.41 20z\"/>\n",
       "  </svg>\n",
       "      </button>\n",
       "      \n",
       "  <style>\n",
       "    .colab-df-container {\n",
       "      display:flex;\n",
       "      flex-wrap:wrap;\n",
       "      gap: 12px;\n",
       "    }\n",
       "\n",
       "    .colab-df-convert {\n",
       "      background-color: #E8F0FE;\n",
       "      border: none;\n",
       "      border-radius: 50%;\n",
       "      cursor: pointer;\n",
       "      display: none;\n",
       "      fill: #1967D2;\n",
       "      height: 32px;\n",
       "      padding: 0 0 0 0;\n",
       "      width: 32px;\n",
       "    }\n",
       "\n",
       "    .colab-df-convert:hover {\n",
       "      background-color: #E2EBFA;\n",
       "      box-shadow: 0px 1px 2px rgba(60, 64, 67, 0.3), 0px 1px 3px 1px rgba(60, 64, 67, 0.15);\n",
       "      fill: #174EA6;\n",
       "    }\n",
       "\n",
       "    [theme=dark] .colab-df-convert {\n",
       "      background-color: #3B4455;\n",
       "      fill: #D2E3FC;\n",
       "    }\n",
       "\n",
       "    [theme=dark] .colab-df-convert:hover {\n",
       "      background-color: #434B5C;\n",
       "      box-shadow: 0px 1px 3px 1px rgba(0, 0, 0, 0.15);\n",
       "      filter: drop-shadow(0px 1px 2px rgba(0, 0, 0, 0.3));\n",
       "      fill: #FFFFFF;\n",
       "    }\n",
       "  </style>\n",
       "\n",
       "      <script>\n",
       "        const buttonEl =\n",
       "          document.querySelector('#df-69e3be73-d0ff-46e5-bb86-930e1d0c4074 button.colab-df-convert');\n",
       "        buttonEl.style.display =\n",
       "          google.colab.kernel.accessAllowed ? 'block' : 'none';\n",
       "\n",
       "        async function convertToInteractive(key) {\n",
       "          const element = document.querySelector('#df-69e3be73-d0ff-46e5-bb86-930e1d0c4074');\n",
       "          const dataTable =\n",
       "            await google.colab.kernel.invokeFunction('convertToInteractive',\n",
       "                                                     [key], {});\n",
       "          if (!dataTable) return;\n",
       "\n",
       "          const docLinkHtml = 'Like what you see? Visit the ' +\n",
       "            '<a target=\"_blank\" href=https://colab.research.google.com/notebooks/data_table.ipynb>data table notebook</a>'\n",
       "            + ' to learn more about interactive tables.';\n",
       "          element.innerHTML = '';\n",
       "          dataTable['output_type'] = 'display_data';\n",
       "          await google.colab.output.renderOutput(dataTable, element);\n",
       "          const docLink = document.createElement('div');\n",
       "          docLink.innerHTML = docLinkHtml;\n",
       "          element.appendChild(docLink);\n",
       "        }\n",
       "      </script>\n",
       "    </div>\n",
       "  </div>\n",
       "  "
      ],
      "text/plain": [
       "                                X1        X2        X3        X4        X5  \\\n",
       "Coefficients réels             6.0       4.0       0.8      0.02       7.0   \n",
       "GD unregularized          6.035348  3.988605  0.693973 -0.003638  6.958999   \n",
       "SGD unregularized         6.050385  3.995194  0.688877 -0.043551  6.970376   \n",
       "GD small regularization   6.035348  3.988605  0.693973 -0.003638  6.958998   \n",
       "SGD small regularization  6.024083  3.974387  0.684549 -0.042604  7.025692   \n",
       "GD large regularization   0.219309  0.189297  0.068891  0.083426  0.235597   \n",
       "SGD large regularization  0.033334  0.028726  0.010529  0.012809  0.035847   \n",
       "\n",
       "                                X6  \n",
       "Coefficients réels             3.8  \n",
       "GD unregularized          3.910213  \n",
       "SGD unregularized         3.950053  \n",
       "GD small regularization   3.910213  \n",
       "SGD small regularization  3.933603  \n",
       "GD large regularization   0.158228  \n",
       "SGD large regularization  0.024029  "
      ]
     },
     "execution_count": 27,
     "metadata": {},
     "output_type": "execute_result"
    }
   ],
   "source": [
    "resultats"
   ]
  },
  {
   "cell_type": "markdown",
   "metadata": {
    "id": "nfxyz0ku-S7Y"
   },
   "source": [
    "Grâce au tableau des résultats ci-dessus, nous pouvons faire les remarques suivantes:\n",
    "\n",
    "- Avec la constante de régularisation large les algorithmes ne convergent pas vers la solution, les coefficients sont plus petits et s'approchent de zéro.\n",
    "- Il n'y a pas de différence significative entre les résulats des algos sans régularisation et avec une faible régularisation pour ce problème.\n"
   ]
  },
  {
   "cell_type": "markdown",
   "metadata": {
    "id": "_ZuZoIKJ76yh"
   },
   "source": [
    "## Question 2: \n",
    "Add a l-1 regularization term to your objective function from Part 1 or Part 3 and solve the resulting problem. Can you find a value of the regularization parameter that yields a sparse solution? Does it provide a good value for the data-fitting term?"
   ]
  },
  {
   "cell_type": "markdown",
   "metadata": {
    "id": "jvBwusvBZNvr"
   },
   "source": [
    "Dans cette partie nous cherchons à résoudre le problème suivant à l'aide de l'algorithme du gradient proximal:\n",
    "\n",
    "$$\\underset{β}{minimiser} \\frac{1}{2n}\\lVert X β-Y \\rVert_{2}^2+\\frac{λ}{2} \\lVertβ \\rVert_{1}$$\n",
    "\n"
   ]
  },
  {
   "cell_type": "code",
   "execution_count": null,
   "metadata": {
    "id": "6h23Kl6Q5xxP"
   },
   "outputs": [],
   "source": [
    "#soft-thresholding function \n",
    "def soft_thresholding(t,mu):\n",
    "  if t <= -mu :\n",
    "    return t+mu\n",
    "  if  t >= mu:\n",
    "    return t-mu\n",
    "  else:\n",
    "    return 0.0\n",
    "  \n",
    "def gradient_stochastique_descent_prox_lasso(X, y,lambd, learningrate=1e-3, epochs=10000,epsilon=1e-2, batch_size=batch_size,arret=True, monit=True):\n",
    "    \n",
    "    n=np.shape(X)[0]\n",
    "    X=np.array(X)\n",
    "    beta = np.array([0,0,0,0,0,0]).reshape(-1,1) # Initialisation des coefficients\n",
    "    for i in range(epochs+1):\n",
    "      if monit and  i%(epochs/10)==0:\n",
    "        print(\"itération {} en cours ...\".format(i))\n",
    "      # Updating beta\n",
    "      ind=np.random.randint(0,n-1,batch_size) # On choisit les indices sur lesquels on effectue la descente de gradient aléatoirement\n",
    "      X_ind=np.array([X[i] for i  in ind ])\n",
    "      y_ind=np.array([y[i] for i  in ind ]).reshape(-1,1)\n",
    "      delta =  np.subtract(np.dot(X_ind,beta.reshape(-1,1)),y_ind)\n",
    "      gradient=np.dot(X_ind.T,delta)  # On calcule le gradient\n",
    "      t=np.subtract(beta,learningrate*gradient).ravel()\n",
    "      \n",
    "      beta_new= [0,0,0,0,0,0]\n",
    "      for j in range(len(gradient)):\n",
    "        beta_new[j]=soft_thresholding(t[j],learningrate*lambd)\n",
    "\n",
    "      if arret and  np.sum(gradient**2)<epsilon: #Condition d'arrêt\n",
    "        print(\"L'algorithme a convergé \")\n",
    "        break\n",
    "      beta=np.array(beta_new).reshape(-1,1)\n",
    "     \n",
    "    return beta\n",
    "\n",
    "def gradient_descent_prox_lasso(X, y,lambd, learningrate=1e-3, epochs=3000,epsilon=1e-5,arret=True, monit=True):\n",
    "    beta = np.array([0,0,0,0,0,0]).reshape(-1,1) # Initialisation des coefficients\n",
    "    for i in range(epochs+1):\n",
    "      if monit and i%(epochs/10)==0: #monitoring\n",
    "        print(\"itération {} en cours ...\".format(i))\n",
    "        \n",
    "      # Updating beta\n",
    "      delta =  np.subtract(np.dot(X,beta.reshape(-1,1)),y.reshape(-1,1))\n",
    "      gradient=np.dot(X.T,delta) \n",
    "      t=np.subtract(beta ,learningrate*gradient)\n",
    "      #print(beta)\n",
    "      beta_new= np.array([0.0,0.0,0.0,0.0,0.0,0.0])\n",
    "      for j in range(len(gradient)):\n",
    "        beta_new[j]=soft_thresholding(t[j], learningrate*lambd)\n",
    "        \n",
    "\n",
    "\n",
    "      if arret and np.sum(gradient**2)<epsilon: #condition d'arrêt\n",
    "        print(\"L'algorithme a convergé \")\n",
    "        break\n",
    "      beta=beta_new.reshape(-1,1)\n",
    "      \n",
    "     \n",
    "    return beta\n"
   ]
  },
  {
   "cell_type": "markdown",
   "metadata": {
    "id": "ewGKVtjqaehU"
   },
   "source": [
    "#### Pour la descente de gradient classique"
   ]
  },
  {
   "cell_type": "markdown",
   "metadata": {
    "id": "SRAgMrzVallf"
   },
   "source": [
    "On initialise un tableau avec les différentes valeurs de la constante de régularisation en lignes et les 6 coefficients à trouver en colonnes."
   ]
  },
  {
   "cell_type": "code",
   "execution_count": null,
   "metadata": {
    "id": "OTBMe4czRnaF"
   },
   "outputs": [],
   "source": [
    "regularizers=[45,1e2,1e4,1e6]   #np.ceil(np.linspace(1,1000,10))\n",
    "resultats_lasso_GD = pd.DataFrame(columns = ['X1', \n",
    "                                 'X2','X3','X4','X5','X6'], \n",
    "                      index =regularizers)\n",
    "resultats_lasso_GD.loc['Coefficients réels']= np.ravel(coef)"
   ]
  },
  {
   "cell_type": "code",
   "execution_count": null,
   "metadata": {
    "colab": {
     "base_uri": "https://localhost:8080/"
    },
    "executionInfo": {
     "elapsed": 2695,
     "status": "ok",
     "timestamp": 1673804801480,
     "user": {
      "displayName": "Aminata Elisabeth Ndiaye",
      "userId": "02344096682030999474"
     },
     "user_tz": -60
    },
    "id": "3zVDZgs7evcB",
    "outputId": "d3d86d5c-d39e-4b3b-971c-8fefe4dcbcac"
   },
   "outputs": [
    {
     "name": "stdout",
     "output_type": "stream",
     "text": [
      "45\n",
      "100.0\n",
      "10000.0\n",
      "1000000.0\n"
     ]
    }
   ],
   "source": [
    "# Gradient proximal pour descente de gradient \n",
    "for lambd in regularizers:\n",
    "  print(lambd)\n",
    "  resultats_lasso_GD.loc[lambd] =np.ravel(gradient_descent_prox_lasso(X_train,y_train, learningrate=step, epochs=3000,lambd=float(lambd),monit=False))\n"
   ]
  },
  {
   "cell_type": "code",
   "execution_count": null,
   "metadata": {
    "colab": {
     "base_uri": "https://localhost:8080/",
     "height": 201
    },
    "executionInfo": {
     "elapsed": 14,
     "status": "ok",
     "timestamp": 1673804801482,
     "user": {
      "displayName": "Aminata Elisabeth Ndiaye",
      "userId": "02344096682030999474"
     },
     "user_tz": -60
    },
    "id": "CDaKeENgUWEB",
    "outputId": "4209acf1-acf9-478f-a53a-cd137c19ec51"
   },
   "outputs": [
    {
     "data": {
      "text/html": [
       "\n",
       "  <div id=\"df-1e3a63db-89c0-43d1-af4d-9decf1a46df7\">\n",
       "    <div class=\"colab-df-container\">\n",
       "      <div>\n",
       "<style scoped>\n",
       "    .dataframe tbody tr th:only-of-type {\n",
       "        vertical-align: middle;\n",
       "    }\n",
       "\n",
       "    .dataframe tbody tr th {\n",
       "        vertical-align: top;\n",
       "    }\n",
       "\n",
       "    .dataframe thead th {\n",
       "        text-align: right;\n",
       "    }\n",
       "</style>\n",
       "<table border=\"1\" class=\"dataframe\">\n",
       "  <thead>\n",
       "    <tr style=\"text-align: right;\">\n",
       "      <th></th>\n",
       "      <th>X1</th>\n",
       "      <th>X2</th>\n",
       "      <th>X3</th>\n",
       "      <th>X4</th>\n",
       "      <th>X5</th>\n",
       "      <th>X6</th>\n",
       "    </tr>\n",
       "  </thead>\n",
       "  <tbody>\n",
       "    <tr>\n",
       "      <th>45.0</th>\n",
       "      <td>6.023354</td>\n",
       "      <td>3.981223</td>\n",
       "      <td>0.679686</td>\n",
       "      <td>0.00</td>\n",
       "      <td>6.947688</td>\n",
       "      <td>3.896714</td>\n",
       "    </tr>\n",
       "    <tr>\n",
       "      <th>100.0</th>\n",
       "      <td>6.008488</td>\n",
       "      <td>3.972481</td>\n",
       "      <td>0.663508</td>\n",
       "      <td>0.00</td>\n",
       "      <td>6.935255</td>\n",
       "      <td>3.879902</td>\n",
       "    </tr>\n",
       "    <tr>\n",
       "      <th>10000.0</th>\n",
       "      <td>3.468712</td>\n",
       "      <td>1.785167</td>\n",
       "      <td>0.000000</td>\n",
       "      <td>0.00</td>\n",
       "      <td>4.542243</td>\n",
       "      <td>0.879054</td>\n",
       "    </tr>\n",
       "    <tr>\n",
       "      <th>1000000.0</th>\n",
       "      <td>0.000000</td>\n",
       "      <td>0.000000</td>\n",
       "      <td>0.000000</td>\n",
       "      <td>0.00</td>\n",
       "      <td>0.000000</td>\n",
       "      <td>0.000000</td>\n",
       "    </tr>\n",
       "    <tr>\n",
       "      <th>Coefficients réels</th>\n",
       "      <td>6.000000</td>\n",
       "      <td>4.000000</td>\n",
       "      <td>0.800000</td>\n",
       "      <td>0.02</td>\n",
       "      <td>7.000000</td>\n",
       "      <td>3.800000</td>\n",
       "    </tr>\n",
       "  </tbody>\n",
       "</table>\n",
       "</div>\n",
       "      <button class=\"colab-df-convert\" onclick=\"convertToInteractive('df-1e3a63db-89c0-43d1-af4d-9decf1a46df7')\"\n",
       "              title=\"Convert this dataframe to an interactive table.\"\n",
       "              style=\"display:none;\">\n",
       "        \n",
       "  <svg xmlns=\"http://www.w3.org/2000/svg\" height=\"24px\"viewBox=\"0 0 24 24\"\n",
       "       width=\"24px\">\n",
       "    <path d=\"M0 0h24v24H0V0z\" fill=\"none\"/>\n",
       "    <path d=\"M18.56 5.44l.94 2.06.94-2.06 2.06-.94-2.06-.94-.94-2.06-.94 2.06-2.06.94zm-11 1L8.5 8.5l.94-2.06 2.06-.94-2.06-.94L8.5 2.5l-.94 2.06-2.06.94zm10 10l.94 2.06.94-2.06 2.06-.94-2.06-.94-.94-2.06-.94 2.06-2.06.94z\"/><path d=\"M17.41 7.96l-1.37-1.37c-.4-.4-.92-.59-1.43-.59-.52 0-1.04.2-1.43.59L10.3 9.45l-7.72 7.72c-.78.78-.78 2.05 0 2.83L4 21.41c.39.39.9.59 1.41.59.51 0 1.02-.2 1.41-.59l7.78-7.78 2.81-2.81c.8-.78.8-2.07 0-2.86zM5.41 20L4 18.59l7.72-7.72 1.47 1.35L5.41 20z\"/>\n",
       "  </svg>\n",
       "      </button>\n",
       "      \n",
       "  <style>\n",
       "    .colab-df-container {\n",
       "      display:flex;\n",
       "      flex-wrap:wrap;\n",
       "      gap: 12px;\n",
       "    }\n",
       "\n",
       "    .colab-df-convert {\n",
       "      background-color: #E8F0FE;\n",
       "      border: none;\n",
       "      border-radius: 50%;\n",
       "      cursor: pointer;\n",
       "      display: none;\n",
       "      fill: #1967D2;\n",
       "      height: 32px;\n",
       "      padding: 0 0 0 0;\n",
       "      width: 32px;\n",
       "    }\n",
       "\n",
       "    .colab-df-convert:hover {\n",
       "      background-color: #E2EBFA;\n",
       "      box-shadow: 0px 1px 2px rgba(60, 64, 67, 0.3), 0px 1px 3px 1px rgba(60, 64, 67, 0.15);\n",
       "      fill: #174EA6;\n",
       "    }\n",
       "\n",
       "    [theme=dark] .colab-df-convert {\n",
       "      background-color: #3B4455;\n",
       "      fill: #D2E3FC;\n",
       "    }\n",
       "\n",
       "    [theme=dark] .colab-df-convert:hover {\n",
       "      background-color: #434B5C;\n",
       "      box-shadow: 0px 1px 3px 1px rgba(0, 0, 0, 0.15);\n",
       "      filter: drop-shadow(0px 1px 2px rgba(0, 0, 0, 0.3));\n",
       "      fill: #FFFFFF;\n",
       "    }\n",
       "  </style>\n",
       "\n",
       "      <script>\n",
       "        const buttonEl =\n",
       "          document.querySelector('#df-1e3a63db-89c0-43d1-af4d-9decf1a46df7 button.colab-df-convert');\n",
       "        buttonEl.style.display =\n",
       "          google.colab.kernel.accessAllowed ? 'block' : 'none';\n",
       "\n",
       "        async function convertToInteractive(key) {\n",
       "          const element = document.querySelector('#df-1e3a63db-89c0-43d1-af4d-9decf1a46df7');\n",
       "          const dataTable =\n",
       "            await google.colab.kernel.invokeFunction('convertToInteractive',\n",
       "                                                     [key], {});\n",
       "          if (!dataTable) return;\n",
       "\n",
       "          const docLinkHtml = 'Like what you see? Visit the ' +\n",
       "            '<a target=\"_blank\" href=https://colab.research.google.com/notebooks/data_table.ipynb>data table notebook</a>'\n",
       "            + ' to learn more about interactive tables.';\n",
       "          element.innerHTML = '';\n",
       "          dataTable['output_type'] = 'display_data';\n",
       "          await google.colab.output.renderOutput(dataTable, element);\n",
       "          const docLink = document.createElement('div');\n",
       "          docLink.innerHTML = docLinkHtml;\n",
       "          element.appendChild(docLink);\n",
       "        }\n",
       "      </script>\n",
       "    </div>\n",
       "  </div>\n",
       "  "
      ],
      "text/plain": [
       "                          X1        X2        X3    X4        X5        X6\n",
       "45.0                6.023354  3.981223  0.679686  0.00  6.947688  3.896714\n",
       "100.0               6.008488  3.972481  0.663508  0.00  6.935255  3.879902\n",
       "10000.0             3.468712  1.785167  0.000000  0.00  4.542243  0.879054\n",
       "1000000.0           0.000000  0.000000  0.000000  0.00  0.000000  0.000000\n",
       "Coefficients réels  6.000000  4.000000  0.800000  0.02  7.000000  3.800000"
      ]
     },
     "execution_count": 43,
     "metadata": {},
     "output_type": "execute_result"
    }
   ],
   "source": [
    "resultats_lasso_GD"
   ]
  },
  {
   "cell_type": "markdown",
   "metadata": {
    "id": "ETchjfFNNqR9"
   },
   "source": [
    "On remarque qu'avec une valeur de λ (le paramètre de régularition) égale à $45$ ou encore 100, on obtient une solution avec un coefficient nul (X4). Avec $λ=10^4$ également (les coefficients pour X3 et X4 sont nuls).\n",
    "\n",
    "On remarque aussi que plus la pénalité est grande, moins les coefficients obtenus sont proches des coefficients réels .\n",
    "Lasso n'est pas efficace pour trouver la valeur des coefficients mais permet de trouver assez facilement les coefficients nuls ou très proches de zéro."
   ]
  },
  {
   "cell_type": "markdown",
   "metadata": {
    "id": "45GStp5laV5f"
   },
   "source": [
    "#### Pour le Gradient stochastique"
   ]
  },
  {
   "cell_type": "markdown",
   "metadata": {
    "id": "B6eSB6JMbE27"
   },
   "source": [
    "On initialise un tableau avec les différentes valeurs de la constante de régularisation en lignes et les 6 coefficients à trouver en colonnes."
   ]
  },
  {
   "cell_type": "code",
   "execution_count": null,
   "metadata": {
    "id": "jvrGzMXFX4Ds"
   },
   "outputs": [],
   "source": [
    "regularizers_SGD=np.array(range(0,30,5))\n",
    "resultats_lasso_SGD = pd.DataFrame(columns = ['X1', \n",
    "                                 'X2','X3','X4','X5','X6'], \n",
    "                      index =regularizers_SGD)\n",
    "resultats_lasso_SGD.loc['Coefficients réels']= np.ravel(coef)"
   ]
  },
  {
   "cell_type": "code",
   "execution_count": null,
   "metadata": {
    "colab": {
     "base_uri": "https://localhost:8080/"
    },
    "executionInfo": {
     "elapsed": 350,
     "status": "ok",
     "timestamp": 1673805317494,
     "user": {
      "displayName": "Aminata Elisabeth Ndiaye",
      "userId": "02344096682030999474"
     },
     "user_tz": -60
    },
    "id": "iCQAh7dHRuBX",
    "outputId": "732fe9d8-fc62-44cf-8c23-6f6887507be1"
   },
   "outputs": [
    {
     "name": "stdout",
     "output_type": "stream",
     "text": [
      "L'algorithme a convergé \n",
      "L'algorithme a convergé \n",
      "L'algorithme a convergé \n",
      "L'algorithme a convergé \n",
      "L'algorithme a convergé \n",
      "L'algorithme a convergé \n"
     ]
    }
   ],
   "source": [
    "# Gradient proximal pour descente de gradient stochastique\n",
    "for lambd in regularizers_SGD: \n",
    "  resultats_lasso_SGD.loc[lambd] = np.ravel(gradient_stochastique_descent_prox_lasso(X_train,y_train,lambd=lambd, learningrate=step, epochs=30000, monit=False))"
   ]
  },
  {
   "cell_type": "code",
   "execution_count": null,
   "metadata": {
    "colab": {
     "base_uri": "https://localhost:8080/",
     "height": 261
    },
    "executionInfo": {
     "elapsed": 9,
     "status": "ok",
     "timestamp": 1673805317727,
     "user": {
      "displayName": "Aminata Elisabeth Ndiaye",
      "userId": "02344096682030999474"
     },
     "user_tz": -60
    },
    "id": "59hQhJcsYXyj",
    "outputId": "1fc6a45f-69b6-49bf-e3fc-9aebbbd1dc99"
   },
   "outputs": [
    {
     "data": {
      "text/html": [
       "\n",
       "  <div id=\"df-7313be9c-bcfd-4e08-8a22-626db783dfa3\">\n",
       "    <div class=\"colab-df-container\">\n",
       "      <div>\n",
       "<style scoped>\n",
       "    .dataframe tbody tr th:only-of-type {\n",
       "        vertical-align: middle;\n",
       "    }\n",
       "\n",
       "    .dataframe tbody tr th {\n",
       "        vertical-align: top;\n",
       "    }\n",
       "\n",
       "    .dataframe thead th {\n",
       "        text-align: right;\n",
       "    }\n",
       "</style>\n",
       "<table border=\"1\" class=\"dataframe\">\n",
       "  <thead>\n",
       "    <tr style=\"text-align: right;\">\n",
       "      <th></th>\n",
       "      <th>X1</th>\n",
       "      <th>X2</th>\n",
       "      <th>X3</th>\n",
       "      <th>X4</th>\n",
       "      <th>X5</th>\n",
       "      <th>X6</th>\n",
       "    </tr>\n",
       "  </thead>\n",
       "  <tbody>\n",
       "    <tr>\n",
       "      <th>0</th>\n",
       "      <td>2.131280</td>\n",
       "      <td>1.746384</td>\n",
       "      <td>0.617407</td>\n",
       "      <td>0.464827</td>\n",
       "      <td>2.065778</td>\n",
       "      <td>1.266705</td>\n",
       "    </tr>\n",
       "    <tr>\n",
       "      <th>5</th>\n",
       "      <td>2.054975</td>\n",
       "      <td>1.553037</td>\n",
       "      <td>0.398605</td>\n",
       "      <td>0.432946</td>\n",
       "      <td>2.117425</td>\n",
       "      <td>1.401592</td>\n",
       "    </tr>\n",
       "    <tr>\n",
       "      <th>10</th>\n",
       "      <td>4.058033</td>\n",
       "      <td>2.527267</td>\n",
       "      <td>0.006315</td>\n",
       "      <td>0.007683</td>\n",
       "      <td>4.503922</td>\n",
       "      <td>2.104234</td>\n",
       "    </tr>\n",
       "    <tr>\n",
       "      <th>15</th>\n",
       "      <td>2.314293</td>\n",
       "      <td>1.611235</td>\n",
       "      <td>-0.020570</td>\n",
       "      <td>0.000000</td>\n",
       "      <td>2.605307</td>\n",
       "      <td>0.882349</td>\n",
       "    </tr>\n",
       "    <tr>\n",
       "      <th>20</th>\n",
       "      <td>0.097556</td>\n",
       "      <td>0.099435</td>\n",
       "      <td>0.040618</td>\n",
       "      <td>0.016501</td>\n",
       "      <td>0.125087</td>\n",
       "      <td>0.042109</td>\n",
       "    </tr>\n",
       "    <tr>\n",
       "      <th>25</th>\n",
       "      <td>1.491555</td>\n",
       "      <td>0.047507</td>\n",
       "      <td>0.010247</td>\n",
       "      <td>0.000000</td>\n",
       "      <td>2.005318</td>\n",
       "      <td>0.005455</td>\n",
       "    </tr>\n",
       "    <tr>\n",
       "      <th>Coefficients réels</th>\n",
       "      <td>6.000000</td>\n",
       "      <td>4.000000</td>\n",
       "      <td>0.800000</td>\n",
       "      <td>0.020000</td>\n",
       "      <td>7.000000</td>\n",
       "      <td>3.800000</td>\n",
       "    </tr>\n",
       "  </tbody>\n",
       "</table>\n",
       "</div>\n",
       "      <button class=\"colab-df-convert\" onclick=\"convertToInteractive('df-7313be9c-bcfd-4e08-8a22-626db783dfa3')\"\n",
       "              title=\"Convert this dataframe to an interactive table.\"\n",
       "              style=\"display:none;\">\n",
       "        \n",
       "  <svg xmlns=\"http://www.w3.org/2000/svg\" height=\"24px\"viewBox=\"0 0 24 24\"\n",
       "       width=\"24px\">\n",
       "    <path d=\"M0 0h24v24H0V0z\" fill=\"none\"/>\n",
       "    <path d=\"M18.56 5.44l.94 2.06.94-2.06 2.06-.94-2.06-.94-.94-2.06-.94 2.06-2.06.94zm-11 1L8.5 8.5l.94-2.06 2.06-.94-2.06-.94L8.5 2.5l-.94 2.06-2.06.94zm10 10l.94 2.06.94-2.06 2.06-.94-2.06-.94-.94-2.06-.94 2.06-2.06.94z\"/><path d=\"M17.41 7.96l-1.37-1.37c-.4-.4-.92-.59-1.43-.59-.52 0-1.04.2-1.43.59L10.3 9.45l-7.72 7.72c-.78.78-.78 2.05 0 2.83L4 21.41c.39.39.9.59 1.41.59.51 0 1.02-.2 1.41-.59l7.78-7.78 2.81-2.81c.8-.78.8-2.07 0-2.86zM5.41 20L4 18.59l7.72-7.72 1.47 1.35L5.41 20z\"/>\n",
       "  </svg>\n",
       "      </button>\n",
       "      \n",
       "  <style>\n",
       "    .colab-df-container {\n",
       "      display:flex;\n",
       "      flex-wrap:wrap;\n",
       "      gap: 12px;\n",
       "    }\n",
       "\n",
       "    .colab-df-convert {\n",
       "      background-color: #E8F0FE;\n",
       "      border: none;\n",
       "      border-radius: 50%;\n",
       "      cursor: pointer;\n",
       "      display: none;\n",
       "      fill: #1967D2;\n",
       "      height: 32px;\n",
       "      padding: 0 0 0 0;\n",
       "      width: 32px;\n",
       "    }\n",
       "\n",
       "    .colab-df-convert:hover {\n",
       "      background-color: #E2EBFA;\n",
       "      box-shadow: 0px 1px 2px rgba(60, 64, 67, 0.3), 0px 1px 3px 1px rgba(60, 64, 67, 0.15);\n",
       "      fill: #174EA6;\n",
       "    }\n",
       "\n",
       "    [theme=dark] .colab-df-convert {\n",
       "      background-color: #3B4455;\n",
       "      fill: #D2E3FC;\n",
       "    }\n",
       "\n",
       "    [theme=dark] .colab-df-convert:hover {\n",
       "      background-color: #434B5C;\n",
       "      box-shadow: 0px 1px 3px 1px rgba(0, 0, 0, 0.15);\n",
       "      filter: drop-shadow(0px 1px 2px rgba(0, 0, 0, 0.3));\n",
       "      fill: #FFFFFF;\n",
       "    }\n",
       "  </style>\n",
       "\n",
       "      <script>\n",
       "        const buttonEl =\n",
       "          document.querySelector('#df-7313be9c-bcfd-4e08-8a22-626db783dfa3 button.colab-df-convert');\n",
       "        buttonEl.style.display =\n",
       "          google.colab.kernel.accessAllowed ? 'block' : 'none';\n",
       "\n",
       "        async function convertToInteractive(key) {\n",
       "          const element = document.querySelector('#df-7313be9c-bcfd-4e08-8a22-626db783dfa3');\n",
       "          const dataTable =\n",
       "            await google.colab.kernel.invokeFunction('convertToInteractive',\n",
       "                                                     [key], {});\n",
       "          if (!dataTable) return;\n",
       "\n",
       "          const docLinkHtml = 'Like what you see? Visit the ' +\n",
       "            '<a target=\"_blank\" href=https://colab.research.google.com/notebooks/data_table.ipynb>data table notebook</a>'\n",
       "            + ' to learn more about interactive tables.';\n",
       "          element.innerHTML = '';\n",
       "          dataTable['output_type'] = 'display_data';\n",
       "          await google.colab.output.renderOutput(dataTable, element);\n",
       "          const docLink = document.createElement('div');\n",
       "          docLink.innerHTML = docLinkHtml;\n",
       "          element.appendChild(docLink);\n",
       "        }\n",
       "      </script>\n",
       "    </div>\n",
       "  </div>\n",
       "  "
      ],
      "text/plain": [
       "                          X1        X2        X3        X4        X5        X6\n",
       "0                   2.131280  1.746384  0.617407  0.464827  2.065778  1.266705\n",
       "5                   2.054975  1.553037  0.398605  0.432946  2.117425  1.401592\n",
       "10                  4.058033  2.527267  0.006315  0.007683  4.503922  2.104234\n",
       "15                  2.314293  1.611235 -0.020570  0.000000  2.605307  0.882349\n",
       "20                  0.097556  0.099435  0.040618  0.016501  0.125087  0.042109\n",
       "25                  1.491555  0.047507  0.010247  0.000000  2.005318  0.005455\n",
       "Coefficients réels  6.000000  4.000000  0.800000  0.020000  7.000000  3.800000"
      ]
     },
     "execution_count": 53,
     "metadata": {},
     "output_type": "execute_result"
    }
   ],
   "source": [
    "resultats_lasso_SGD"
   ]
  },
  {
   "cell_type": "markdown",
   "metadata": {
    "id": "x6TmBbDlZ0fD"
   },
   "source": [
    "Même constat que pour le gradient classique."
   ]
  }
 ],
 "metadata": {
  "colab": {
   "authorship_tag": "ABX9TyMndffoACVxN6In5NiSlJ8k",
   "provenance": [
    {
     "file_id": "13dTaOorqFlk5MoGshkY-dbP0dCYn7so-",
     "timestamp": 1673802906612
    }
   ]
  },
  "kernelspec": {
   "display_name": "Python 3",
   "language": "python",
   "name": "python3"
  },
  "language_info": {
   "codemirror_mode": {
    "name": "ipython",
    "version": 3
   },
   "file_extension": ".py",
   "mimetype": "text/x-python",
   "name": "python",
   "nbconvert_exporter": "python",
   "pygments_lexer": "ipython3",
   "version": "3.7.6"
  }
 },
 "nbformat": 4,
 "nbformat_minor": 1
}
