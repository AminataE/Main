{
 "cells": [
  {
   "cell_type": "markdown",
   "metadata": {
    "id": "REHtTU9QpvcG"
   },
   "source": [
    "# Projet 3: Descente de gradient stochastique"
   ]
  },
  {
   "cell_type": "markdown",
   "metadata": {
    "id": "7Q8BEGFqKAI4"
   },
   "source": [
    "##Préliminaires"
   ]
  },
  {
   "cell_type": "markdown",
   "metadata": {
    "id": "XyYbLk3L7XQH"
   },
   "source": [
    "### Importation des packages"
   ]
  },
  {
   "cell_type": "code",
   "execution_count": 1,
   "metadata": {
    "id": "bLW08Nj8e3yw"
   },
   "outputs": [],
   "source": [
    "from math import *\n",
    "import random\n",
    "import numpy as np\n",
    "from numpy.random import multivariate_normal, randn # Probability distributions on vectors\n",
    "\n",
    "import pandas as pd  #pandas pour la gestion des données \n",
    "import seaborn as sn\n",
    "import matplotlib.pyplot as plt\n",
    "from sklearn.model_selection import train_test_split\n",
    "from sklearn.linear_model import Ridge\n",
    "from sklearn.metrics import r2_score, mean_squared_error\n"
   ]
  },
  {
   "cell_type": "markdown",
   "metadata": {
    "id": "88ttuWCH7cno"
   },
   "source": [
    "### Génération de la base de données"
   ]
  },
  {
   "cell_type": "markdown",
   "metadata": {
    "id": "Moy_y82MiTbO"
   },
   "source": [
    "J'ai décidé de travailler sur un dataset que j'ai généré aléatoirement composé de 6 variables décorrélées. \n",
    "Connaissant les coefficients de régression, il est aussi plus simple de s'assurer du bon fonctionnement de la méthode et de l'implémentation de l'algorithme de descente de gradient."
   ]
  },
  {
   "cell_type": "code",
   "execution_count": 2,
   "metadata": {
    "id": "ZaPESYeXsWv1"
   },
   "outputs": [],
   "source": [
    "np.random.seed(4)\n",
    "n=1000\n",
    "nbr_var=6\n",
    "x=np.zeros((n,nbr_var))\n",
    "sd=10\n",
    "mu=50\n",
    "for i in range(nbr_var):\n",
    "  x[:,i]= np.random.randn(n)*sd+mu\n",
    "design=pd.DataFrame(x,columns = ['X1', 'X2', 'X3', 'X4', 'X5', 'X6'])\n",
    "coef=np.array([6,4,0.8,0.02,7,3.8]).reshape(-1,1)\n",
    "y=np.dot(design,coef)+np.random.randn(n).reshape(-1,1)"
   ]
  },
  {
   "cell_type": "code",
   "execution_count": 3,
   "metadata": {
    "colab": {
     "base_uri": "https://localhost:8080/",
     "height": 411
    },
    "id": "uBptMsZ9gPKf",
    "outputId": "8add4cbf-05c2-434e-e4dd-bd55a2ecc5e0"
   },
   "outputs": [
    {
     "data": {
      "text/html": [
       "\n",
       "  <div id=\"df-45e59740-987f-41d7-b81d-09fa3df374ae\">\n",
       "    <div class=\"colab-df-container\">\n",
       "      <div>\n",
       "<style scoped>\n",
       "    .dataframe tbody tr th:only-of-type {\n",
       "        vertical-align: middle;\n",
       "    }\n",
       "\n",
       "    .dataframe tbody tr th {\n",
       "        vertical-align: top;\n",
       "    }\n",
       "\n",
       "    .dataframe thead th {\n",
       "        text-align: right;\n",
       "    }\n",
       "</style>\n",
       "<table border=\"1\" class=\"dataframe\">\n",
       "  <thead>\n",
       "    <tr style=\"text-align: right;\">\n",
       "      <th></th>\n",
       "      <th>X1</th>\n",
       "      <th>X2</th>\n",
       "      <th>X3</th>\n",
       "      <th>X4</th>\n",
       "      <th>X5</th>\n",
       "      <th>X6</th>\n",
       "    </tr>\n",
       "  </thead>\n",
       "  <tbody>\n",
       "    <tr>\n",
       "      <th>0</th>\n",
       "      <td>50.505617</td>\n",
       "      <td>48.696894</td>\n",
       "      <td>50.295385</td>\n",
       "      <td>40.192077</td>\n",
       "      <td>64.293718</td>\n",
       "      <td>52.412063</td>\n",
       "    </tr>\n",
       "    <tr>\n",
       "      <th>1</th>\n",
       "      <td>54.999513</td>\n",
       "      <td>31.111271</td>\n",
       "      <td>44.140924</td>\n",
       "      <td>58.286383</td>\n",
       "      <td>47.378074</td>\n",
       "      <td>42.620170</td>\n",
       "    </tr>\n",
       "    <tr>\n",
       "      <th>2</th>\n",
       "      <td>40.040911</td>\n",
       "      <td>31.057035</td>\n",
       "      <td>53.082340</td>\n",
       "      <td>66.513806</td>\n",
       "      <td>56.034249</td>\n",
       "      <td>54.876799</td>\n",
       "    </tr>\n",
       "    <tr>\n",
       "      <th>3</th>\n",
       "      <td>56.935985</td>\n",
       "      <td>42.358665</td>\n",
       "      <td>58.081081</td>\n",
       "      <td>43.839962</td>\n",
       "      <td>47.762371</td>\n",
       "      <td>41.660726</td>\n",
       "    </tr>\n",
       "    <tr>\n",
       "      <th>4</th>\n",
       "      <td>45.816985</td>\n",
       "      <td>58.248199</td>\n",
       "      <td>51.340520</td>\n",
       "      <td>46.276674</td>\n",
       "      <td>46.635936</td>\n",
       "      <td>57.481332</td>\n",
       "    </tr>\n",
       "    <tr>\n",
       "      <th>...</th>\n",
       "      <td>...</td>\n",
       "      <td>...</td>\n",
       "      <td>...</td>\n",
       "      <td>...</td>\n",
       "      <td>...</td>\n",
       "      <td>...</td>\n",
       "    </tr>\n",
       "    <tr>\n",
       "      <th>995</th>\n",
       "      <td>48.325473</td>\n",
       "      <td>40.090112</td>\n",
       "      <td>42.060183</td>\n",
       "      <td>37.207292</td>\n",
       "      <td>59.217622</td>\n",
       "      <td>59.130322</td>\n",
       "    </tr>\n",
       "    <tr>\n",
       "      <th>996</th>\n",
       "      <td>66.809791</td>\n",
       "      <td>45.170529</td>\n",
       "      <td>43.691978</td>\n",
       "      <td>35.219584</td>\n",
       "      <td>54.505177</td>\n",
       "      <td>48.683805</td>\n",
       "    </tr>\n",
       "    <tr>\n",
       "      <th>997</th>\n",
       "      <td>41.714710</td>\n",
       "      <td>53.582580</td>\n",
       "      <td>67.778976</td>\n",
       "      <td>54.752323</td>\n",
       "      <td>62.686795</td>\n",
       "      <td>68.366000</td>\n",
       "    </tr>\n",
       "    <tr>\n",
       "      <th>998</th>\n",
       "      <td>53.693850</td>\n",
       "      <td>50.323201</td>\n",
       "      <td>42.637406</td>\n",
       "      <td>58.305153</td>\n",
       "      <td>64.310586</td>\n",
       "      <td>61.257871</td>\n",
       "    </tr>\n",
       "    <tr>\n",
       "      <th>999</th>\n",
       "      <td>41.058795</td>\n",
       "      <td>27.435728</td>\n",
       "      <td>28.180498</td>\n",
       "      <td>32.679995</td>\n",
       "      <td>56.933730</td>\n",
       "      <td>53.227525</td>\n",
       "    </tr>\n",
       "  </tbody>\n",
       "</table>\n",
       "<p>1000 rows × 6 columns</p>\n",
       "</div>\n",
       "      <button class=\"colab-df-convert\" onclick=\"convertToInteractive('df-45e59740-987f-41d7-b81d-09fa3df374ae')\"\n",
       "              title=\"Convert this dataframe to an interactive table.\"\n",
       "              style=\"display:none;\">\n",
       "        \n",
       "  <svg xmlns=\"http://www.w3.org/2000/svg\" height=\"24px\"viewBox=\"0 0 24 24\"\n",
       "       width=\"24px\">\n",
       "    <path d=\"M0 0h24v24H0V0z\" fill=\"none\"/>\n",
       "    <path d=\"M18.56 5.44l.94 2.06.94-2.06 2.06-.94-2.06-.94-.94-2.06-.94 2.06-2.06.94zm-11 1L8.5 8.5l.94-2.06 2.06-.94-2.06-.94L8.5 2.5l-.94 2.06-2.06.94zm10 10l.94 2.06.94-2.06 2.06-.94-2.06-.94-.94-2.06-.94 2.06-2.06.94z\"/><path d=\"M17.41 7.96l-1.37-1.37c-.4-.4-.92-.59-1.43-.59-.52 0-1.04.2-1.43.59L10.3 9.45l-7.72 7.72c-.78.78-.78 2.05 0 2.83L4 21.41c.39.39.9.59 1.41.59.51 0 1.02-.2 1.41-.59l7.78-7.78 2.81-2.81c.8-.78.8-2.07 0-2.86zM5.41 20L4 18.59l7.72-7.72 1.47 1.35L5.41 20z\"/>\n",
       "  </svg>\n",
       "      </button>\n",
       "      \n",
       "  <style>\n",
       "    .colab-df-container {\n",
       "      display:flex;\n",
       "      flex-wrap:wrap;\n",
       "      gap: 12px;\n",
       "    }\n",
       "\n",
       "    .colab-df-convert {\n",
       "      background-color: #E8F0FE;\n",
       "      border: none;\n",
       "      border-radius: 50%;\n",
       "      cursor: pointer;\n",
       "      display: none;\n",
       "      fill: #1967D2;\n",
       "      height: 32px;\n",
       "      padding: 0 0 0 0;\n",
       "      width: 32px;\n",
       "    }\n",
       "\n",
       "    .colab-df-convert:hover {\n",
       "      background-color: #E2EBFA;\n",
       "      box-shadow: 0px 1px 2px rgba(60, 64, 67, 0.3), 0px 1px 3px 1px rgba(60, 64, 67, 0.15);\n",
       "      fill: #174EA6;\n",
       "    }\n",
       "\n",
       "    [theme=dark] .colab-df-convert {\n",
       "      background-color: #3B4455;\n",
       "      fill: #D2E3FC;\n",
       "    }\n",
       "\n",
       "    [theme=dark] .colab-df-convert:hover {\n",
       "      background-color: #434B5C;\n",
       "      box-shadow: 0px 1px 3px 1px rgba(0, 0, 0, 0.15);\n",
       "      filter: drop-shadow(0px 1px 2px rgba(0, 0, 0, 0.3));\n",
       "      fill: #FFFFFF;\n",
       "    }\n",
       "  </style>\n",
       "\n",
       "      <script>\n",
       "        const buttonEl =\n",
       "          document.querySelector('#df-45e59740-987f-41d7-b81d-09fa3df374ae button.colab-df-convert');\n",
       "        buttonEl.style.display =\n",
       "          google.colab.kernel.accessAllowed ? 'block' : 'none';\n",
       "\n",
       "        async function convertToInteractive(key) {\n",
       "          const element = document.querySelector('#df-45e59740-987f-41d7-b81d-09fa3df374ae');\n",
       "          const dataTable =\n",
       "            await google.colab.kernel.invokeFunction('convertToInteractive',\n",
       "                                                     [key], {});\n",
       "          if (!dataTable) return;\n",
       "\n",
       "          const docLinkHtml = 'Like what you see? Visit the ' +\n",
       "            '<a target=\"_blank\" href=https://colab.research.google.com/notebooks/data_table.ipynb>data table notebook</a>'\n",
       "            + ' to learn more about interactive tables.';\n",
       "          element.innerHTML = '';\n",
       "          dataTable['output_type'] = 'display_data';\n",
       "          await google.colab.output.renderOutput(dataTable, element);\n",
       "          const docLink = document.createElement('div');\n",
       "          docLink.innerHTML = docLinkHtml;\n",
       "          element.appendChild(docLink);\n",
       "        }\n",
       "      </script>\n",
       "    </div>\n",
       "  </div>\n",
       "  "
      ],
      "text/plain": [
       "            X1         X2         X3         X4         X5         X6\n",
       "0    50.505617  48.696894  50.295385  40.192077  64.293718  52.412063\n",
       "1    54.999513  31.111271  44.140924  58.286383  47.378074  42.620170\n",
       "2    40.040911  31.057035  53.082340  66.513806  56.034249  54.876799\n",
       "3    56.935985  42.358665  58.081081  43.839962  47.762371  41.660726\n",
       "4    45.816985  58.248199  51.340520  46.276674  46.635936  57.481332\n",
       "..         ...        ...        ...        ...        ...        ...\n",
       "995  48.325473  40.090112  42.060183  37.207292  59.217622  59.130322\n",
       "996  66.809791  45.170529  43.691978  35.219584  54.505177  48.683805\n",
       "997  41.714710  53.582580  67.778976  54.752323  62.686795  68.366000\n",
       "998  53.693850  50.323201  42.637406  58.305153  64.310586  61.257871\n",
       "999  41.058795  27.435728  28.180498  32.679995  56.933730  53.227525\n",
       "\n",
       "[1000 rows x 6 columns]"
      ]
     },
     "execution_count": 3,
     "metadata": {},
     "output_type": "execute_result"
    }
   ],
   "source": [
    "dataset=design\n",
    "dataset"
   ]
  },
  {
   "cell_type": "markdown",
   "metadata": {
    "id": "6xYWl0_fhOBU"
   },
   "source": [
    "Nous obtenons la matrice de corrélation suivante."
   ]
  },
  {
   "cell_type": "code",
   "execution_count": 4,
   "metadata": {
    "colab": {
     "base_uri": "https://localhost:8080/",
     "height": 268
    },
    "id": "IZNri75Qhp-e",
    "outputId": "5d2301a0-fac0-4ba7-91aa-fece00788208"
   },
   "outputs": [
    {
     "data": {
      "image/png": "[encoded data removed]",
      "text/plain": [
       "<Figure size 432x288 with 2 Axes>"
      ]
     },
     "metadata": {
      "needs_background": "light"
     },
     "output_type": "display_data"
    }
   ],
   "source": [
    "\n",
    "#Matrice de corrélation\n",
    "corrMatrix = dataset.corr()\n",
    "sn.heatmap(corrMatrix, annot=False)\n",
    "plt.show()"
   ]
  },
  {
   "cell_type": "markdown",
   "metadata": {
    "id": "5Zi18FmVMyxs"
   },
   "source": [
    "### Séparation du training et du test set"
   ]
  },
  {
   "cell_type": "code",
   "execution_count": 5,
   "metadata": {
    "id": "PEhCAjGgkYts"
   },
   "outputs": [],
   "source": [
    "#Séparation du training set et du test set\n",
    "X_train,X_test,y_train,y_test=train_test_split(design,y,test_size=0.33, random_state=1)\n",
    "\n"
   ]
  },
  {
   "cell_type": "markdown",
   "metadata": {
    "id": "gSFSVm4oM7EG"
   },
   "source": [
    "### Détermination de la borne supérieure pour le learningrate"
   ]
  },
  {
   "cell_type": "code",
   "execution_count": 6,
   "metadata": {
    "colab": {
     "base_uri": "https://localhost:8080/"
    },
    "id": "Sq1Pvc5EPHqN",
    "outputId": "56b500dd-f2a1-40d2-cd7e-741891f9c997"
   },
   "outputs": [
    {
     "data": {
      "text/plain": [
       "9.914984017788875e-08"
      ]
     },
     "execution_count": 6,
     "metadata": {},
     "output_type": "execute_result"
    }
   ],
   "source": [
    "#Plus grand valeur propre de la matrice de XX.T\n",
    "max_ev=max(np.linalg.eigvals(np.dot(X_train.T, X_train))).real\n",
    "min_ev=min(np.linalg.eigvals(np.dot(X_train.T, X_train))).real\n",
    "# Nous obtenons la borne supérieur du pas que nous pouvons utilisant grace au résulat théorique suivant \n",
    "step=1/max_ev\n",
    "step"
   ]
  },
  {
   "cell_type": "code",
   "execution_count": 7,
   "metadata": {
    "colab": {
     "base_uri": "https://localhost:8080/"
    },
    "id": "zxdL9Yo2JN9M",
    "outputId": "f99bc861-72e0-4c7e-812a-103f96850338"
   },
   "outputs": [
    {
     "data": {
      "text/plain": [
       "59268.91510975949"
      ]
     },
     "execution_count": 7,
     "metadata": {},
     "output_type": "execute_result"
    }
   ],
   "source": [
    "min_ev"
   ]
  },
  {
   "cell_type": "code",
   "execution_count": 8,
   "metadata": {
    "id": "MrCl6cdgjewD"
   },
   "outputs": [],
   "source": [
    "# Définition de la fonction de perte\n",
    "def ridge_error(y,X,beta,lambd):\n",
    "\n",
    "  return(((np.dot(X,beta)-y)**2).sum()/2+lambd*(beta**2).sum()/2)/len(y)"
   ]
  },
  {
   "cell_type": "code",
   "execution_count": 9,
   "metadata": {
    "id": "DfYHqqPcnhka"
   },
   "outputs": [],
   "source": [
    "def gradient_descent_ridge(X, y,lambd, learningrate=1e-3, epochs=10000,epsilon=1e-2,monit=True,arret=True):\n",
    "    \"\"\"\n",
    "  Algorithme de descent de gradient avec pénalité ridge\n",
    "  \n",
    "  Parametres\n",
    "  ----------\n",
    "  X : np.array\n",
    "    matrice de design\n",
    "\n",
    "  y : np.array\n",
    "    vecteur du target\n",
    "\n",
    "  lambd: float\n",
    "    parametre de régularisation\n",
    "\n",
    "  epochs: int\n",
    "    Nombre d'epochs\n",
    "\n",
    "\n",
    "  monit : bool\n",
    "      Affiche l'itération en cours\n",
    "\n",
    "\n",
    "  \n",
    "  arret : bool\n",
    "      Algorithme s'arrete lorsque la condition d'arret est satisfaite\n",
    "  \n",
    "  std : float, default=1.\n",
    "      Standard-deviation of the noise\n",
    "\n",
    "  epsilon : float\n",
    "      Paramètre de précision pour la condition d'arret\n",
    "  \"\"\"  \n",
    "    ridge=[]\n",
    "    beta = pd.DataFrame([0,0,0,0,0,0]) # Initialisation des coefficients\n",
    "    for i in range(epochs+1):\n",
    "      if i%(epochs/100)==0 and monit: #monitoring\n",
    "        print(\"itération {} en cours ...\".format(i))\n",
    "      # Updating beta\n",
    "      delta =  np.subtract(np.dot(X,beta),y.reshape(-1,1))\n",
    "      gradient=np.dot(X.T,delta)+ lambd*beta\n",
    "      beta_new= beta-learningrate * gradient # on retire un gradient\n",
    "      ridge.append(ridge_error(y,X,beta_new,lambd)) # on calcule l'erreur\n",
    "      \n",
    "      if np.linalg.norm(gradient)<epsilon and arret: #condition d'arrêt\n",
    "        print(\"L'algorithme a convergé \")\n",
    "        break\n",
    "      beta=beta_new\n",
    "     \n",
    "    return beta,ridge"
   ]
  },
  {
   "cell_type": "markdown",
   "metadata": {
    "id": "gD8Yx5nYoXFf"
   },
   "source": [
    "## Question 1"
   ]
  },
  {
   "cell_type": "markdown",
   "metadata": {
    "id": "hly1jCTINnYM"
   },
   "source": [
    "### Algorithme de descente de gradient stochastique"
   ]
  },
  {
   "cell_type": "code",
   "execution_count": 10,
   "metadata": {
    "id": "lrfCR76DU-8O"
   },
   "outputs": [],
   "source": [
    "batch_size=1\n",
    "def gradient_stochastique_descent_ridge(X, y,lambd, learningrate=step, iters=1000,epsilon=1e-4, batch_size=batch_size,monit=True,arret=True):\n",
    "    ridge=[]\n",
    "    n=np.shape(X)[0]\n",
    "    X=np.array(X)\n",
    "    beta = np.array([0,0,0,0,0,0]).reshape(-1,1) # Initialisation des coefficients\n",
    "    \n",
    "    for i in range(iters):\n",
    "      \n",
    "      # Updating beta\n",
    "      ind=np.random.randint(0,n-1,batch_size) # On choisit les indices sur lesquels on effectue la descente de gradient aléatoirement\n",
    "      X_ind=np.array([X[i] for i  in ind ])\n",
    "      y_ind=np.array([y[i] for i  in ind ]).reshape(-1,1)\n",
    "      delta =  np.dot(X_ind,beta)-y_ind\n",
    "      gradient=np.add(np.dot(X_ind.T,delta) , lambd*beta) # On calcule le gradient\n",
    "      beta_new= beta-learningrate * gradient # on retire un gradient\n",
    "      ridge.append(ridge_error(y,X,beta_new,lambd))\n",
    "      if monit :\n",
    "        print(\"itération {} en cours ...\".format(i))\n",
    "      if np.linalg.norm(gradient)<epsilon and arret: #Condition d'arrêt\n",
    "        print(\"L'algorithme a convergé \")\n",
    "        break\n",
    "      beta=beta_new\n",
    "     \n",
    "    return beta,ridge\n"
   ]
  },
  {
   "cell_type": "markdown",
   "metadata": {
    "id": "mrUNxt6UNtyy"
   },
   "source": [
    "### Vitesse de convergence de l'algorithme"
   ]
  },
  {
   "cell_type": "markdown",
   "metadata": {
    "id": "41F3dzF2lgfj"
   },
   "source": [
    "Nous tracons le graphique de la log fonction de perte en fonction du nombre d'itérations. Nous pouvons ainsi observer la vitesse de convergence.\n"
   ]
  },
  {
   "cell_type": "code",
   "execution_count": null,
   "metadata": {
    "colab": {
     "base_uri": "https://localhost:8080/",
     "height": 310
    },
    "id": "zR48VgS-HLMm",
    "outputId": "1c53dba9-566e-4fda-8234-a1ddcdf050e0"
   },
   "outputs": [
    {
     "data": {
      "text/plain": [
       "Text(0.5, 1.0, \"Fonction de perte ridge en fonction du nombre d'itération\")"
      ]
     },
     "execution_count": 59,
     "metadata": {},
     "output_type": "execute_result"
    },
    {
     "data": {
      "image/png": "[encoded data removed]",
      "text/plain": [
       "<Figure size 432x288 with 1 Axes>"
      ]
     },
     "metadata": {
      "needs_background": "light"
     },
     "output_type": "display_data"
    }
   ],
   "source": [
    "\n",
    "beta_sto,ridge_sto=gradient_stochastique_descent_ridge(X_train,y_train,lambd=0,learningrate=1*step, batch_size=1,iters=500000,monit=False)\n",
    "plt.plot(np.log(ridge_sto))\n",
    "plt.xlabel(\"nombre d'itérations\")\n",
    "plt.ylabel(\"log de la fonction de perte\")\n",
    "plt.title(\"Fonction de perte ridge en fonction du nombre d'itération\")"
   ]
  },
  {
   "cell_type": "markdown",
   "metadata": {
    "id": "yu1_bEEfxUxF"
   },
   "source": []
  },
  {
   "cell_type": "code",
   "execution_count": null,
   "metadata": {
    "colab": {
     "base_uri": "https://localhost:8080/"
    },
    "id": "rEZ3TrzcsI8m",
    "outputId": "a2bc2e2a-9622-4bcc-ecad-dac0eb3adc98"
   },
   "outputs": [
    {
     "data": {
      "text/plain": [
       "array([[5.96723138],\n",
       "       [4.0078377 ],\n",
       "       [0.82327477],\n",
       "       [0.04201116],\n",
       "       [6.97983696],\n",
       "       [3.80071965]])"
      ]
     },
     "execution_count": 60,
     "metadata": {},
     "output_type": "execute_result"
    }
   ],
   "source": [
    "beta_sto"
   ]
  },
  {
   "cell_type": "markdown",
   "metadata": {
    "id": "am2YS5UyxmmS"
   },
   "source": [
    "Le gradient stochastique converge en plus d'itération que le gradient classique mais il est aussi beaucoup plus rapide en terme de calculs car il n'accède qu'a une seule donnée pour chaque itération alors que le gradient classique accède aux n observations à chaque itération.\n",
    "De plus le gradient stochastique à tendance à converger vers un voisinage de la solution et à avoir une forte variance"
   ]
  },
  {
   "cell_type": "code",
   "execution_count": null,
   "metadata": {
    "colab": {
     "base_uri": "https://localhost:8080/",
     "height": 310
    },
    "id": "L7GJdbY6jmji",
    "outputId": "a0c9e216-e450-41ea-e878-1d7156f3aa77"
   },
   "outputs": [
    {
     "data": {
      "text/plain": [
       "Text(0.5, 1.0, \"Fonction de perte ridge en fonction du nombre d'itération\")"
      ]
     },
     "execution_count": 43,
     "metadata": {},
     "output_type": "execute_result"
    },
    {
     "data": {
      "image/png": "[encoded data removed]",
      "text/plain": [
       "<Figure size 432x288 with 1 Axes>"
      ]
     },
     "metadata": {
      "needs_background": "light"
     },
     "output_type": "display_data"
    }
   ],
   "source": [
    "#beta_sto,ridge_sto=gradient_stochastique_descent_ridge(X_train,y_train,lambd=0,learningrate=2*step, batch_size=1,epochs=100,monit=False,arret=False)\n",
    "plt.plot(np.log(ridge_sto)[450000:])\n",
    "plt.xlabel(\"nombre d'itérations\")\n",
    "plt.ylabel(\"log de la fonction de perte\")\n",
    "plt.title(\"Fonction de perte ridge en fonction du nombre d'itération\")"
   ]
  },
  {
   "cell_type": "markdown",
   "metadata": {
    "id": "RFgxQNPfyaf7"
   },
   "source": [
    "En zoomant sur la courbe on peut observer des oscillations."
   ]
  },
  {
   "cell_type": "markdown",
   "metadata": {
    "id": "y04aQRPHN-lY"
   },
   "source": [
    "### Descente de gradient vs gradient stochastique (Vitesse de convergence)"
   ]
  },
  {
   "cell_type": "markdown",
   "metadata": {
    "id": "oep_2wC6k31n"
   },
   "source": [
    "Dans cette partie nous allons comparer le gradient stochastique et la descente de gradient classique pour un même stepsize."
   ]
  },
  {
   "cell_type": "code",
   "execution_count": null,
   "metadata": {
    "colab": {
     "base_uri": "https://localhost:8080/",
     "height": 294
    },
    "id": "GoOjwrkWgbFu",
    "outputId": "d2586751-5c63-41fb-cca1-245729f55575"
   },
   "outputs": [
    {
     "data": {
      "image/png": "[encoded data removed]",
      "text/plain": [
       "<Figure size 432x288 with 1 Axes>"
      ]
     },
     "metadata": {
      "needs_background": "light"
     },
     "output_type": "display_data"
    }
   ],
   "source": [
    "n=np.shape(X_train)[0]\n",
    "beta,ridge=gradient_descent_ridge(X_train,y_train,lambd=0,learningrate=step,epochs=10000,arret=False, monit=False)\n",
    "beta_sto,ridge_sto=gradient_stochastique_descent_ridge(X_train,y_train,lambd=0,learningrate=step, iters=10000,batch_size=1,arret=False, monit=False)\n",
    "plt.plot(np.log(ridge)[1:],label=\"gradient classique\")\n",
    "plt.plot(np.log(ridge_sto)[1:],label=\"gradient stochastique\")\n",
    "plt.xlabel(\"nombre d'itérations\")\n",
    "plt.ylabel(\"log de la fonction de perte\")\n",
    "plt.legend()\n",
    "plt.title(\"Fonction de perte ridge en fonction du nombre d'itération\")\n",
    "plt.show()"
   ]
  },
  {
   "cell_type": "markdown",
   "metadata": {
    "id": "xjkfuT8Zz5dZ"
   },
   "source": [
    "Le gradient classique a une courbe lisse."
   ]
  },
  {
   "cell_type": "code",
   "execution_count": null,
   "metadata": {
    "colab": {
     "base_uri": "https://localhost:8080/",
     "height": 294
    },
    "id": "8DLyrBLCwzOZ",
    "outputId": "83f4c90c-3379-47e4-cf6e-4b9d0746baa9"
   },
   "outputs": [
    {
     "data": {
      "image/png": "[encoded data removed]",
      "text/plain": [
       "<Figure size 432x288 with 1 Axes>"
      ]
     },
     "metadata": {
      "needs_background": "light"
     },
     "output_type": "display_data"
    }
   ],
   "source": [
    "plt.plot(np.log(ridge)[9900:],label=\"gradient classique\")\n",
    "\n",
    "plt.xlabel(\"nombre d'itérations\")\n",
    "plt.ylabel(\"log de la fonction de perte\")\n",
    "plt.legend()\n",
    "plt.title(\"Fonction de perte ridge en fonction du nombre d'itération\")\n",
    "plt.show()"
   ]
  },
  {
   "cell_type": "markdown",
   "metadata": {
    "id": "Dd0rUvOXz_1c"
   },
   "source": [
    "Le gradient stochastique a une courbe qui oscille."
   ]
  },
  {
   "cell_type": "code",
   "execution_count": null,
   "metadata": {
    "colab": {
     "base_uri": "https://localhost:8080/",
     "height": 294
    },
    "id": "8QwZ3Gsaz0Jx",
    "outputId": "d85fcab8-9f50-411d-a0ec-45e9b253944c"
   },
   "outputs": [
    {
     "data": {
      "image/png": "[encoded data removed]",
      "text/plain": [
       "<Figure size 432x288 with 1 Axes>"
      ]
     },
     "metadata": {
      "needs_background": "light"
     },
     "output_type": "display_data"
    }
   ],
   "source": [
    "plt.plot(np.log(ridge_sto)[9900:],label=\"gradient stochastique\",c='orange')\n",
    "plt.xlabel(\"nombre d'itérations\")\n",
    "plt.ylabel(\"log de la fonction de perte\")\n",
    "plt.legend()\n",
    "plt.title(\"Fonction de perte ridge en fonction du nombre d'itération\")\n",
    "plt.show()"
   ]
  },
  {
   "cell_type": "markdown",
   "metadata": {
    "id": "hWuTeU24QU5e"
   },
   "source": [
    "Nous pouvons observer les résultats suivants:\n",
    "- la descente de gradient stochastique est plus rapide en temps d'exécution que la descente de gradient classique\n",
    "- la descent de gradient stochastique donne un bon résultat pour l'estimation des patramètres\n",
    "-la descente de gradient stochastique a une forte variance.\n",
    "\n",
    "D'après la théorie , la descente de gradient stochastique a une forte variance comparée à la descente de gradient classsique. On peut observer ce résultat expérimentalement. \n",
    "\n",
    "La courbe du gradient stochastique oscille contrairement à celle du gradient classique. Une méthode pour limiter cette variance est d'utiliser l'algorithme de batch stochastique gradient. Cet algorithme est un compromis entre la descente de gradient stochastique et la descente de gradient classique. En effet, au lieu de calculer le gradient stochastique sur une seule observation nous allons le calculer sur plusieurs observations. Le nombre d'observations utilisées pour calculer le gradient est appelé batch size. Remarquons que lorsque le batch size est égal à n (le nombre d'observations), on retrouve le gradient classique."
   ]
  },
  {
   "cell_type": "markdown",
   "metadata": {
    "id": "oyV1qutgn7KH"
   },
   "source": [
    "## Question 2"
   ]
  },
  {
   "cell_type": "markdown",
   "metadata": {
    "id": "GqntjnqRn-Ai"
   },
   "source": [
    "Dans cette partie nous cherchons à trouver le bon compromis entre la descente de gradient classique et la descente de gradient stochastique en utilisant le batch stochastique gradient."
   ]
  },
  {
   "cell_type": "markdown",
   "metadata": {
    "id": "DEbg9JS_oSc3"
   },
   "source": [
    "On crée une liste de batch size grossière, nous l'affinerons par la suite."
   ]
  },
  {
   "cell_type": "code",
   "execution_count": null,
   "metadata": {
    "colab": {
     "base_uri": "https://localhost:8080/"
    },
    "id": "NhI4QzukW1bs",
    "outputId": "12305eaf-96b1-4e7b-9f59-f2f4e27842b1"
   },
   "outputs": [
    {
     "data": {
      "text/plain": [
       "[1, 4, 7, 10, 13, 16, 19]"
      ]
     },
     "execution_count": 227,
     "metadata": {},
     "output_type": "execute_result"
    }
   ],
   "source": [
    "BS=range(1,20,3)\n",
    "list(BS)"
   ]
  },
  {
   "cell_type": "code",
   "execution_count": null,
   "metadata": {
    "colab": {
     "base_uri": "https://localhost:8080/",
     "height": 281
    },
    "id": "at5Jv6fLxF0x",
    "outputId": "46b95025-356f-42cf-a102-5755802f78a4"
   },
   "outputs": [
    {
     "data": {
      "text/plain": [
       "<function matplotlib.pyplot.show(*args, **kw)>"
      ]
     },
     "execution_count": 54,
     "metadata": {},
     "output_type": "execute_result"
    },
    {
     "data": {
      "image/png": "[encoded data removed]",
      "text/plain": [
       "<Figure size 432x288 with 1 Axes>"
      ]
     },
     "metadata": {
      "needs_background": "light"
     },
     "output_type": "display_data"
    }
   ],
   "source": [
    "n=np.shape(X_train)[0]\n",
    "from math import *\n",
    "BS=[n/2,n/5,n/100,n/10,1]\n",
    "error_test=[]\n",
    "plt.figure()\n",
    "for batch_size in BS:\n",
    "  beta,ridge=gradient_stochastique_descent_ridge(X_train,y_train,lambd=0,learningrate=2*step,batch_size=ceil(batch_size),epochs=5000,monit=False,arret=False)\n",
    "  plt.plot(np.log(ridge),label='batch size'+str(batch_size))\n",
    "beta,ridge=gradient_descent_ridge(X_train,y_train,lambd=0,learningrate=1.1*step,epochs=5000,monit=False,arret=False)\n",
    "plt.plot(np.log(ridge),label='GD')\n",
    "plt.legend()\n",
    "plt.show\n"
   ]
  },
  {
   "cell_type": "markdown",
   "metadata": {
    "id": "Z_yekAkjcGZt"
   },
   "source": [
    "On peut observer sur le graphique ci-dessus qu'on arrive à la convergence avec quasiment le même nombre d'itérations que pour la descente de gradient classique avec un batch size de $\\frac{n}{2}$.\n",
    "\n",
    " C'est à dire qu'avec 2 fois moins d'accès aux données, on a le même résultat qu'avec la descente de gradient classique. \n",
    " \n",
    " Pour un batch size de $\\frac{n}{5}$, il faut 2 fois plus d'itérations mais 5 fois moins d'accès aux données et pour un batch size de $\\frac{n}{10}$ il faut 4 fois plus d'itérations pour 10 fois moins d'accès aux données. \n",
    " On peut donc choisir un batch size de $\\frac{n}{2}$ . \n",
    " \n",
    " Pour trouver rigoureusementle batch size optimal, il faudrait calculer le cout de calcul relatif d'une itération supplémentaire par rapport à la réduction du nombre d'accès aux données."
   ]
  },
  {
   "cell_type": "markdown",
   "metadata": {
    "id": "a1MkOTQwZHfx"
   },
   "source": [
    "## Question 3: Advanced stochastique gradient "
   ]
  },
  {
   "cell_type": "markdown",
   "metadata": {
    "id": "KmgwH_6XloTA"
   },
   "source": [
    "Nous allons implémenter l'algorithme SVRG Stochastic Variance-Reduced Gradient. Avec cette méthode la variance est réduite car nous calculons un gradient complet arès chaque cycle de m sous-itérations "
   ]
  },
  {
   "cell_type": "code",
   "execution_count": 21,
   "metadata": {
    "id": "ovhlvj6JqICW"
   },
   "outputs": [],
   "source": [
    "def SVRG(X, y,lambd, learningrate=1e-7,m_=10, iters=1000,epsilon=1e-2,monit=True,arret=True):\n",
    "    ridge=[]\n",
    "    n=np.shape(X)[0]\n",
    "    X=np.array(X)\n",
    "    beta = np.array([0,0,0,0,0,0]).reshape(-1,1) # Initialisation des coefficients\n",
    "    for i in range(iters):\n",
    "      if monit and i%(iters/100)==0 : #monitoring\n",
    "        print(\"itération {} en cours ...\".format(i))\n",
    "      # calcul full gradient\n",
    "      delta =  np.subtract(np.dot(X,beta),y.reshape(-1,1))\n",
    "      gradient=(np.dot(X.T,delta)+ lambd*beta)\n",
    "      beta_tilde=beta\n",
    "      #beta_new= beta-learningrate * gradient # on retire un gradient\n",
    "      choix_beta=[]\n",
    "      for ii in range(m_):\n",
    "        ind=random.randint(0,n-1) # On choisit les indices sur lesquels on effectue la descente de gradient aléatoirement\n",
    "        X_ind=X[ind].reshape(1,-1)\n",
    "        y_ind=y[ind] .reshape(-1,1)\n",
    "        gradient_ii =  np.add(np.dot(X_ind.T,np.dot(X_ind,beta)-y_ind) , lambd*beta) # On calcule le gradient stochastique au point beta\n",
    "        gradient_ii_tilde=np.add(np.dot(X_ind.T,np.dot(X_ind,beta_tilde)-y_ind) , lambd*beta_tilde) # On calcule le gradient stochastique au point beta_tilde\n",
    "        g_tilde=gradient_ii_tilde-gradient_ii+gradient # On calcule g_tilde qui va etre utiliser comme direction de descente pour mettre à jour beta_tilde\n",
    "        beta_tilde=beta_tilde - learningrate* g_tilde\n",
    "        choix_beta.append(beta_tilde)\n",
    "      choix=random.randint(0,m_-1) # On choisit l'indice entre 0 et m_ de la valeur de beta que l'on choisit\n",
    "      beta=choix_beta[choix] \n",
    "      \n",
    "      ridge.append(ridge_error(y,X,beta,lambd))\n",
    "      \n",
    "      if np.linalg.norm(gradient)<epsilon and arret: #condition d'arrêt\n",
    "        print(\"L'algorithme a convergé \")\n",
    "        break\n",
    "      \n",
    "     \n",
    "    return beta,ridge"
   ]
  },
  {
   "cell_type": "code",
   "execution_count": 36,
   "metadata": {
    "id": "zjK_U2TzCjwZ"
   },
   "outputs": [],
   "source": [
    "beta_svrg,erreur_svrg=SVRG(X_train, y_train,lambd=0, learningrate=(0.7*step),m_=5, iters=1000,epsilon=1e-2,monit=False,arret=True)"
   ]
  },
  {
   "cell_type": "markdown",
   "metadata": {
    "id": "9F6rpbf-F-AI"
   },
   "source": [
    "La solution de SVRG est:"
   ]
  },
  {
   "cell_type": "code",
   "execution_count": 37,
   "metadata": {
    "colab": {
     "base_uri": "https://localhost:8080/"
    },
    "id": "UkJSl_eHEBDS",
    "outputId": "60c6b884-0e5c-45f1-b005-7a8ea73a7651"
   },
   "outputs": [
    {
     "data": {
      "text/plain": [
       "array([[5.99731749],\n",
       "       [4.00016591],\n",
       "       [0.79463008],\n",
       "       [0.02268103],\n",
       "       [7.00286685],\n",
       "       [3.80335464]])"
      ]
     },
     "execution_count": 37,
     "metadata": {},
     "output_type": "execute_result"
    }
   ],
   "source": [
    "beta_svrg"
   ]
  },
  {
   "cell_type": "markdown",
   "metadata": {
    "id": "59pG4heNGC_E"
   },
   "source": [
    "Une prédiction très proche  des coefficients réels:"
   ]
  },
  {
   "cell_type": "code",
   "execution_count": 26,
   "metadata": {
    "colab": {
     "base_uri": "https://localhost:8080/"
    },
    "id": "EIr0Eg4EGLnX",
    "outputId": "5e572d31-f54f-48a9-d7d8-3e25d35449c2"
   },
   "outputs": [
    {
     "data": {
      "text/plain": [
       "array([[6.  ],\n",
       "       [4.  ],\n",
       "       [0.8 ],\n",
       "       [0.02],\n",
       "       [7.  ],\n",
       "       [3.8 ]])"
      ]
     },
     "execution_count": 26,
     "metadata": {},
     "output_type": "execute_result"
    }
   ],
   "source": [
    "coef"
   ]
  },
  {
   "cell_type": "code",
   "execution_count": 38,
   "metadata": {
    "colab": {
     "base_uri": "https://localhost:8080/",
     "height": 310
    },
    "id": "VG_VZdiGv71p",
    "outputId": "5d708f43-0a9a-4cda-8134-301a4de5fd0a"
   },
   "outputs": [
    {
     "data": {
      "text/plain": [
       "<function matplotlib.pyplot.show(*args, **kw)>"
      ]
     },
     "execution_count": 38,
     "metadata": {},
     "output_type": "execute_result"
    },
    {
     "data": {
      "image/png": "[encoded data removed]",
      "text/plain": [
       "<Figure size 432x288 with 1 Axes>"
      ]
     },
     "metadata": {
      "needs_background": "light"
     },
     "output_type": "display_data"
    }
   ],
   "source": [
    "\n",
    "plt.figure()\n",
    "beta,ridge=SVRG(X_train, y_train,lambd=2, learningrate=step,m_=5, iters=10000,epsilon=1e-2,monit=False,arret=False)\n",
    "plt.plot(np.log(ridge),label='SVRG')\n",
    "beta,ridge=gradient_stochastique_descent_ridge(X_train, y_train,lambd=2, learningrate=step,batch_size=1, iters=10000,epsilon=1e-2,monit=False,arret=False)\n",
    "plt.plot(np.log(ridge),label='gradient stochastique')\n",
    "plt.title('Vitesse de convergence SVRG vs gradient stochastique')\n",
    "plt.ylabel('log de la perte ridge')\n",
    "plt.xlabel('Itérations')\n",
    "plt.legend()\n",
    "plt.show"
   ]
  },
  {
   "cell_type": "markdown",
   "metadata": {
    "id": "mSMT8Aj3FwZq"
   },
   "source": [
    "SVRG a une bien meilleur convergence mais il est également plus couteux."
   ]
  }
 ],
 "metadata": {
  "colab": {
   "provenance": []
  },
  "kernelspec": {
   "display_name": "Python 3",
   "language": "python",
   "name": "python3"
  },
  "language_info": {
   "codemirror_mode": {
    "name": "ipython",
    "version": 3
   },
   "file_extension": ".py",
   "mimetype": "text/x-python",
   "name": "python",
   "nbconvert_exporter": "python",
   "pygments_lexer": "ipython3",
   "version": "3.7.6"
  }
 },
 "nbformat": 4,
 "nbformat_minor": 1
}
