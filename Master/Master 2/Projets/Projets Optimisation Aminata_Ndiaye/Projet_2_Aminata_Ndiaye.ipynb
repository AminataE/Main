{
 "cells": [
  {
   "cell_type": "markdown",
   "metadata": {
    "id": "s6sk9HGMBUi6"
   },
   "source": [
    "# Projet 4"
   ]
  },
  {
   "cell_type": "code",
   "execution_count": 2,
   "metadata": {
    "id": "64kH8sWi4-ED"
   },
   "outputs": [],
   "source": [
    "import numpy as np\n"
   ]
  },
  {
   "cell_type": "code",
   "execution_count": 31,
   "metadata": {
    "id": "OkWyX41oGZtl"
   },
   "outputs": [],
   "source": [
    "def dot(W, x):\n",
    "    value = np.dot(W, x)\n",
    "\n",
    "    def vjp(u):\n",
    "        return np.outer(u, x), W.T.dot(u)\n",
    "\n",
    "    return value, vjp\n",
    "\n"
   ]
  },
  {
   "cell_type": "markdown",
   "metadata": {
    "id": "gEhm6EDT1T1H"
   },
   "source": [
    "#1) Implémenter la fonction relu  et son VJP"
   ]
  },
  {
   "cell_type": "code",
   "execution_count": 29,
   "metadata": {
    "colab": {
     "base_uri": "https://localhost:8080/"
    },
    "id": "9SikfNE8yawb",
    "outputId": "4d5d0f36-1cc6-45e3-a998-617098c67e63"
   },
   "outputs": [
    {
     "name": "stdout",
     "output_type": "stream",
     "text": [
      "[1. 0.]\n",
      "(array([-2.,  0.]),)\n"
     ]
    }
   ],
   "source": [
    "#Compute the VJP of the relu function\n",
    "\n",
    "\n",
    "def relu(x):\n",
    "  value=np.zeros(len(x))\n",
    "  value[x>=0]=1\n",
    "  def vjp(u):\n",
    "    vjp_wrt_x = u * value\n",
    "    return vjp_wrt_x,  # The comma is important!\n",
    "\n",
    "  return value, vjp\n",
    "  \n",
    "x=np.array([1, -9])\n",
    "u=np.array([-2, 1])\n",
    "value, vjp = relu(x)\n",
    "print(value)\n",
    "print(vjp(u))\n"
   ]
  },
  {
   "cell_type": "code",
   "execution_count": 30,
   "metadata": {
    "colab": {
     "base_uri": "https://localhost:8080/"
    },
    "id": "1Gb-u7ZpxKBM",
    "outputId": "72fb7803-c85c-4304-bf13-ae6cfb518020"
   },
   "outputs": [
    {
     "name": "stdout",
     "output_type": "stream",
     "text": [
      "[1 0]\n",
      "[-2.  0.]\n"
     ]
    }
   ],
   "source": [
    "def df_relu(x):\n",
    "    n = len(x)\n",
    "    value = np.maximum(x, 0)\n",
    "    def vjp(u):\n",
    "        epsilon = 1e-6\n",
    "        e= np.ones(n) \n",
    "        vjp_wrt_x = 1/ epsilon* (u * (np.maximum(x + epsilon*e, 0) - np.maximum(x, 0))) \n",
    "        return vjp_wrt_x\n",
    "    \n",
    "    return value, vjp\n",
    "\n",
    "x=np.array([1, -9])\n",
    "u=np.array([-2, 1])\n",
    "\n",
    "value, df_vjp = df_relu(x)\n",
    "print(value)\n",
    "print(df_vjp(u))\n",
    "\n"
   ]
  },
  {
   "cell_type": "markdown",
   "metadata": {
    "id": "AkXplBnR2Kpf"
   },
   "source": [
    "On obtient le même résultat"
   ]
  },
  {
   "cell_type": "markdown",
   "metadata": {
    "id": "DLvVU_KG99yz"
   },
   "source": [
    "##2) Question 2"
   ]
  },
  {
   "cell_type": "code",
   "execution_count": 35,
   "metadata": {
    "colab": {
     "base_uri": "https://localhost:8080/"
    },
    "id": "6g9rGNLl99P8",
    "outputId": "6bd04f29-71f7-49c4-a891-bb87dddc31be"
   },
   "outputs": [
    {
     "name": "stdout",
     "output_type": "stream",
     "text": [
      "[2. 2.]\n",
      "(array([[-8.],\n",
      "       [-4.]]), array([[-4., -4.],\n",
      "       [-4., -4.]]), array([[ 0.,  0.],\n",
      "       [-4., -4.]]))\n"
     ]
    }
   ],
   "source": [
    "def mlp2(x, W1, W2):\n",
    "  \n",
    "  dot_W1_x, vjp_dot = dot(W1, x)\n",
    "  relu_W1_x, vjp_relu = relu(dot_W1_x)\n",
    "  value, vjp_dot_W2 = dot(W2, relu_W1_x)\n",
    "  \n",
    "  \n",
    "  def vjp(u):\n",
    "      vjpW2, vjp_x2 = vjp_dot_W2(u)\n",
    "      vjp_x1 = vjp_relu(vjp_x2.T)\n",
    "      vjpW1, vjpx = vjp_dot(np.array(vjp_x1).T)\n",
    "      \n",
    "      return vjpx, vjpW1, vjpW2\n",
    "      \n",
    "  \n",
    "  return value, vjp\n",
    "x=np.array([1,  1])\n",
    "W1=np.array([[1,2],[1,-1]])\n",
    "W2=np.ones((2, 2))\n",
    "u=np.array([0, -4])\n",
    "value, vjp = mlp2(x, W1, W2)\n",
    "print(value)\n",
    "print(vjp(u))\n"
   ]
  },
  {
   "cell_type": "markdown",
   "metadata": {
    "id": "WWwAfIynwk2F"
   },
   "source": [
    "On vérifie notre implémentation en utilisant les différences finies"
   ]
  },
  {
   "cell_type": "markdown",
   "metadata": {
    "id": "1z2zvQN9PG47"
   },
   "source": [
    "#3) Question 3"
   ]
  },
  {
   "cell_type": "code",
   "execution_count": 32,
   "metadata": {
    "colab": {
     "base_uri": "https://localhost:8080/"
    },
    "id": "5HJh0VsGPGYE",
    "outputId": "50cc9f8d-01cc-457d-94a6-0413e9ce86b5"
   },
   "outputs": [
    {
     "name": "stdout",
     "output_type": "stream",
     "text": [
      "[18.5]\n",
      "(array([24,  4]), array([-24,  -4]))\n"
     ]
    }
   ],
   "source": [
    "def squared_loss(y_pred, y):\n",
    "    residual = y_pred - y\n",
    "    \n",
    "    def vjp(u):\n",
    "        vjp_y_pred, vjp_y = residual * u, -residual * u\n",
    "        return vjp_y_pred, vjp_y\n",
    "\n",
    "    value = 0.5 * np.sum(residual ** 2)\n",
    "    # The code requires every output to be an array.\n",
    "    return np.array([value]), vjp\n",
    "\n",
    "\n",
    "\n",
    "value, vjp = squared_loss(np.array([6, 5]), np.array([0, 4]))\n",
    "print(value)\n",
    "print(vjp(4))"
   ]
  },
  {
   "cell_type": "markdown",
   "metadata": {
    "id": "PEwiP_r3NhW9"
   },
   "source": [
    "## 4) Question 4"
   ]
  },
  {
   "cell_type": "code",
   "execution_count": 41,
   "metadata": {
    "colab": {
     "base_uri": "https://localhost:8080/"
    },
    "id": "sE6mVVl8j5hR",
    "outputId": "6577b285-6fe2-4a87-95ca-828f48f972d9"
   },
   "outputs": [
    {
     "name": "stdout",
     "output_type": "stream",
     "text": [
      "[6.5]\n",
      "(array([[15.],\n",
      "       [-9.]]), array([-2.,  3.]), array([[ 2.,  0.],\n",
      "       [13.,  0.]]), array([[ 2.,  2.],\n",
      "       [-3., -3.]]))\n"
     ]
    }
   ],
   "source": [
    "def loss(x, y, W1, W2):\n",
    "  value_mlp2, vjp_mlp2 = mlp2(x,W1, W2)\n",
    "  value_squaredloss, vjp_squaredloss = squared_loss(value_mlp2,y)\n",
    "  def vjp(u):\n",
    "    vjp_x_sl, vjp_wrt_y = vjp_squaredloss(u)\n",
    "    vjp_wrt_x, vjp_wrt_W1, vjp_wrt_W2 = vjp_mlp2 (vjp_x_sl)\n",
    "    return  vjp_wrt_x,vjp_wrt_y, vjp_wrt_W1, vjp_wrt_W2\n",
    "\n",
    "  value=value_squaredloss\n",
    "  return value, vjp\n",
    "\n",
    "x=np.array([1, 0])\n",
    "y=np.array([1, 0])\n",
    "w1=np.array([[1, 2],[4, 1]])\n",
    "W2=np.array([[1, 2],[0, -3]])\n",
    "\n",
    "value, vjp = loss(x, y ,W1, W2)\n",
    "print(value)\n",
    "print(vjp(1))"
   ]
  }
 ],
 "metadata": {
  "colab": {
   "provenance": []
  },
  "kernelspec": {
   "display_name": "Python 3",
   "language": "python",
   "name": "python3"
  },
  "language_info": {
   "codemirror_mode": {
    "name": "ipython",
    "version": 3
   },
   "file_extension": ".py",
   "mimetype": "text/x-python",
   "name": "python",
   "nbconvert_exporter": "python",
   "pygments_lexer": "ipython3",
   "version": "3.7.6"
  }
 },
 "nbformat": 4,
 "nbformat_minor": 1
}
