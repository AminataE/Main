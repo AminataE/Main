{
 "cells": [
  {
   "cell_type": "markdown",
   "metadata": {
    "id": "REHtTU9QpvcG"
   },
   "source": [
    "# Projet 1: Descente de gradient"
   ]
  },
  {
   "cell_type": "markdown",
   "metadata": {
    "id": "7Q8BEGFqKAI4"
   },
   "source": [
    "## Question 1"
   ]
  },
  {
   "cell_type": "markdown",
   "metadata": {
    "id": "XyYbLk3L7XQH"
   },
   "source": [
    "### Importation des packages"
   ]
  },
  {
   "cell_type": "code",
   "execution_count": 3,
   "metadata": {
    "id": "bLW08Nj8e3yw"
   },
   "outputs": [],
   "source": [
    "from math import *\n",
    "import random\n",
    "import numpy as np\n",
    "from numpy.random import multivariate_normal, randn # Probability distributions on vectors\n",
    "\n",
    "import pandas as pd  #pandas pour la gestion des données \n",
    "import seaborn as sn\n",
    "import matplotlib.pyplot as plt\n",
    "from sklearn.model_selection import train_test_split\n",
    "from sklearn.linear_model import Ridge\n",
    "from sklearn.metrics import r2_score, mean_squared_error\n",
    "# SciPy - Efficient mathematical calculation\n",
    "from scipy.linalg.special_matrices import toeplitz # A special kind of matrices\n",
    "from scipy.linalg import svdvals # Singular values\n",
    "from scipy.linalg import norm # Euclidean norm\n",
    "from scipy.optimize import check_grad # Check accuracy between objective and gradient values\n",
    "from scipy.optimize import fmin_l_bfgs_b # Efficient optimizer"
   ]
  },
  {
   "cell_type": "markdown",
   "metadata": {
    "id": "88ttuWCH7cno"
   },
   "source": [
    "### Génération de la base de données"
   ]
  },
  {
   "cell_type": "markdown",
   "metadata": {
    "id": "Moy_y82MiTbO"
   },
   "source": [
    "J'ai décidé de travailler sur un dataset que j'ai généré aléatoirement composé de 6 variables décorrélées. \n",
    "Connaissant les coefficients de régression, il est aussi plus simple de s'assurer du bon fonctionnement de la méthode et de l'implémentation de l'algorithme de descente de gradient."
   ]
  },
  {
   "cell_type": "code",
   "execution_count": 53,
   "metadata": {
    "id": "ZaPESYeXsWv1"
   },
   "outputs": [],
   "source": [
    "np.random.seed(1)\n",
    "n=1000\n",
    "nbr_var=6\n",
    "x=np.zeros((n,nbr_var))\n",
    "sd=10\n",
    "mu=50\n",
    "for i in range(nbr_var):\n",
    "  x[:,i]= np.random.randn(n)*sd+mu\n",
    "design=pd.DataFrame(x,columns = ['X1', 'X2', 'X3', 'X4', 'X5', 'X6'])\n",
    "coef=np.array([6,4,0.8,0.02,7,3.8]).reshape(-1,1)\n",
    "y=np.dot(design,coef)+np.random.randn(n).reshape(-1,1)"
   ]
  },
  {
   "cell_type": "code",
   "execution_count": 54,
   "metadata": {
    "colab": {
     "base_uri": "https://localhost:8080/",
     "height": 411
    },
    "id": "uBptMsZ9gPKf",
    "outputId": "a356a561-c205-4a3d-a7ab-257193c942bc"
   },
   "outputs": [
    {
     "data": {
      "text/html": [
       "\n",
       "  <div id=\"df-42cc2e9b-cc98-42d8-bc79-c72e33134cb6\">\n",
       "    <div class=\"colab-df-container\">\n",
       "      <div>\n",
       "<style scoped>\n",
       "    .dataframe tbody tr th:only-of-type {\n",
       "        vertical-align: middle;\n",
       "    }\n",
       "\n",
       "    .dataframe tbody tr th {\n",
       "        vertical-align: top;\n",
       "    }\n",
       "\n",
       "    .dataframe thead th {\n",
       "        text-align: right;\n",
       "    }\n",
       "</style>\n",
       "<table border=\"1\" class=\"dataframe\">\n",
       "  <thead>\n",
       "    <tr style=\"text-align: right;\">\n",
       "      <th></th>\n",
       "      <th>X1</th>\n",
       "      <th>X2</th>\n",
       "      <th>X3</th>\n",
       "      <th>X4</th>\n",
       "      <th>X5</th>\n",
       "      <th>X6</th>\n",
       "    </tr>\n",
       "  </thead>\n",
       "  <tbody>\n",
       "    <tr>\n",
       "      <th>0</th>\n",
       "      <td>66.243454</td>\n",
       "      <td>48.467638</td>\n",
       "      <td>54.895166</td>\n",
       "      <td>49.228930</td>\n",
       "      <td>48.596290</td>\n",
       "      <td>40.752447</td>\n",
       "    </tr>\n",
       "    <tr>\n",
       "      <th>1</th>\n",
       "      <td>43.882436</td>\n",
       "      <td>25.674915</td>\n",
       "      <td>52.387959</td>\n",
       "      <td>52.078253</td>\n",
       "      <td>51.416417</td>\n",
       "      <td>61.288899</td>\n",
       "    </tr>\n",
       "    <tr>\n",
       "      <th>2</th>\n",
       "      <td>44.718282</td>\n",
       "      <td>55.079843</td>\n",
       "      <td>45.518882</td>\n",
       "      <td>59.861959</td>\n",
       "      <td>53.119686</td>\n",
       "      <td>38.712087</td>\n",
       "    </tr>\n",
       "    <tr>\n",
       "      <th>3</th>\n",
       "      <td>39.270314</td>\n",
       "      <td>46.759677</td>\n",
       "      <td>43.892050</td>\n",
       "      <td>64.327564</td>\n",
       "      <td>57.690852</td>\n",
       "      <td>42.752624</td>\n",
       "    </tr>\n",
       "    <tr>\n",
       "      <th>4</th>\n",
       "      <td>58.654076</td>\n",
       "      <td>34.889234</td>\n",
       "      <td>29.700549</td>\n",
       "      <td>55.282585</td>\n",
       "      <td>55.842858</td>\n",
       "      <td>56.235712</td>\n",
       "    </tr>\n",
       "    <tr>\n",
       "      <th>...</th>\n",
       "      <td>...</td>\n",
       "      <td>...</td>\n",
       "      <td>...</td>\n",
       "      <td>...</td>\n",
       "      <td>...</td>\n",
       "      <td>...</td>\n",
       "    </tr>\n",
       "    <tr>\n",
       "      <th>995</th>\n",
       "      <td>48.835559</td>\n",
       "      <td>51.885829</td>\n",
       "      <td>42.281095</td>\n",
       "      <td>48.740969</td>\n",
       "      <td>66.045462</td>\n",
       "      <td>52.246046</td>\n",
       "    </tr>\n",
       "    <tr>\n",
       "      <th>996</th>\n",
       "      <td>27.227020</td>\n",
       "      <td>55.609181</td>\n",
       "      <td>43.773434</td>\n",
       "      <td>40.396536</td>\n",
       "      <td>55.666131</td>\n",
       "      <td>45.228558</td>\n",
       "    </tr>\n",
       "    <tr>\n",
       "      <th>997</th>\n",
       "      <td>49.303755</td>\n",
       "      <td>40.783409</td>\n",
       "      <td>48.493404</td>\n",
       "      <td>41.560867</td>\n",
       "      <td>42.240122</td>\n",
       "      <td>43.087882</td>\n",
       "    </tr>\n",
       "    <tr>\n",
       "      <th>998</th>\n",
       "      <td>53.538704</td>\n",
       "      <td>56.473751</td>\n",
       "      <td>35.999771</td>\n",
       "      <td>56.283417</td>\n",
       "      <td>60.848887</td>\n",
       "      <td>42.112688</td>\n",
       "    </tr>\n",
       "    <tr>\n",
       "      <th>999</th>\n",
       "      <td>48.130450</td>\n",
       "      <td>63.868256</td>\n",
       "      <td>36.989339</td>\n",
       "      <td>55.372145</td>\n",
       "      <td>72.419895</td>\n",
       "      <td>52.641846</td>\n",
       "    </tr>\n",
       "  </tbody>\n",
       "</table>\n",
       "<p>1000 rows × 6 columns</p>\n",
       "</div>\n",
       "      <button class=\"colab-df-convert\" onclick=\"convertToInteractive('df-42cc2e9b-cc98-42d8-bc79-c72e33134cb6')\"\n",
       "              title=\"Convert this dataframe to an interactive table.\"\n",
       "              style=\"display:none;\">\n",
       "        \n",
       "  <svg xmlns=\"http://www.w3.org/2000/svg\" height=\"24px\"viewBox=\"0 0 24 24\"\n",
       "       width=\"24px\">\n",
       "    <path d=\"M0 0h24v24H0V0z\" fill=\"none\"/>\n",
       "    <path d=\"M18.56 5.44l.94 2.06.94-2.06 2.06-.94-2.06-.94-.94-2.06-.94 2.06-2.06.94zm-11 1L8.5 8.5l.94-2.06 2.06-.94-2.06-.94L8.5 2.5l-.94 2.06-2.06.94zm10 10l.94 2.06.94-2.06 2.06-.94-2.06-.94-.94-2.06-.94 2.06-2.06.94z\"/><path d=\"M17.41 7.96l-1.37-1.37c-.4-.4-.92-.59-1.43-.59-.52 0-1.04.2-1.43.59L10.3 9.45l-7.72 7.72c-.78.78-.78 2.05 0 2.83L4 21.41c.39.39.9.59 1.41.59.51 0 1.02-.2 1.41-.59l7.78-7.78 2.81-2.81c.8-.78.8-2.07 0-2.86zM5.41 20L4 18.59l7.72-7.72 1.47 1.35L5.41 20z\"/>\n",
       "  </svg>\n",
       "      </button>\n",
       "      \n",
       "  <style>\n",
       "    .colab-df-container {\n",
       "      display:flex;\n",
       "      flex-wrap:wrap;\n",
       "      gap: 12px;\n",
       "    }\n",
       "\n",
       "    .colab-df-convert {\n",
       "      background-color: #E8F0FE;\n",
       "      border: none;\n",
       "      border-radius: 50%;\n",
       "      cursor: pointer;\n",
       "      display: none;\n",
       "      fill: #1967D2;\n",
       "      height: 32px;\n",
       "      padding: 0 0 0 0;\n",
       "      width: 32px;\n",
       "    }\n",
       "\n",
       "    .colab-df-convert:hover {\n",
       "      background-color: #E2EBFA;\n",
       "      box-shadow: 0px 1px 2px rgba(60, 64, 67, 0.3), 0px 1px 3px 1px rgba(60, 64, 67, 0.15);\n",
       "      fill: #174EA6;\n",
       "    }\n",
       "\n",
       "    [theme=dark] .colab-df-convert {\n",
       "      background-color: #3B4455;\n",
       "      fill: #D2E3FC;\n",
       "    }\n",
       "\n",
       "    [theme=dark] .colab-df-convert:hover {\n",
       "      background-color: #434B5C;\n",
       "      box-shadow: 0px 1px 3px 1px rgba(0, 0, 0, 0.15);\n",
       "      filter: drop-shadow(0px 1px 2px rgba(0, 0, 0, 0.3));\n",
       "      fill: #FFFFFF;\n",
       "    }\n",
       "  </style>\n",
       "\n",
       "      <script>\n",
       "        const buttonEl =\n",
       "          document.querySelector('#df-42cc2e9b-cc98-42d8-bc79-c72e33134cb6 button.colab-df-convert');\n",
       "        buttonEl.style.display =\n",
       "          google.colab.kernel.accessAllowed ? 'block' : 'none';\n",
       "\n",
       "        async function convertToInteractive(key) {\n",
       "          const element = document.querySelector('#df-42cc2e9b-cc98-42d8-bc79-c72e33134cb6');\n",
       "          const dataTable =\n",
       "            await google.colab.kernel.invokeFunction('convertToInteractive',\n",
       "                                                     [key], {});\n",
       "          if (!dataTable) return;\n",
       "\n",
       "          const docLinkHtml = 'Like what you see? Visit the ' +\n",
       "            '<a target=\"_blank\" href=https://colab.research.google.com/notebooks/data_table.ipynb>data table notebook</a>'\n",
       "            + ' to learn more about interactive tables.';\n",
       "          element.innerHTML = '';\n",
       "          dataTable['output_type'] = 'display_data';\n",
       "          await google.colab.output.renderOutput(dataTable, element);\n",
       "          const docLink = document.createElement('div');\n",
       "          docLink.innerHTML = docLinkHtml;\n",
       "          element.appendChild(docLink);\n",
       "        }\n",
       "      </script>\n",
       "    </div>\n",
       "  </div>\n",
       "  "
      ],
      "text/plain": [
       "            X1         X2         X3         X4         X5         X6\n",
       "0    66.243454  48.467638  54.895166  49.228930  48.596290  40.752447\n",
       "1    43.882436  25.674915  52.387959  52.078253  51.416417  61.288899\n",
       "2    44.718282  55.079843  45.518882  59.861959  53.119686  38.712087\n",
       "3    39.270314  46.759677  43.892050  64.327564  57.690852  42.752624\n",
       "4    58.654076  34.889234  29.700549  55.282585  55.842858  56.235712\n",
       "..         ...        ...        ...        ...        ...        ...\n",
       "995  48.835559  51.885829  42.281095  48.740969  66.045462  52.246046\n",
       "996  27.227020  55.609181  43.773434  40.396536  55.666131  45.228558\n",
       "997  49.303755  40.783409  48.493404  41.560867  42.240122  43.087882\n",
       "998  53.538704  56.473751  35.999771  56.283417  60.848887  42.112688\n",
       "999  48.130450  63.868256  36.989339  55.372145  72.419895  52.641846\n",
       "\n",
       "[1000 rows x 6 columns]"
      ]
     },
     "execution_count": 54,
     "metadata": {},
     "output_type": "execute_result"
    }
   ],
   "source": [
    "dataset=design\n",
    "dataset"
   ]
  },
  {
   "cell_type": "markdown",
   "metadata": {
    "id": "6xYWl0_fhOBU"
   },
   "source": [
    "Nous obtenons la matrice de corrélation suivante."
   ]
  },
  {
   "cell_type": "code",
   "execution_count": 55,
   "metadata": {
    "colab": {
     "base_uri": "https://localhost:8080/",
     "height": 268
    },
    "id": "IZNri75Qhp-e",
    "outputId": "3d02fc00-863f-446d-8d87-ba10217d0884"
   },
   "outputs": [
    {
     "data": {
      "image/png": "[encoded data removed]",
      "text/plain": [
       "<Figure size 432x288 with 2 Axes>"
      ]
     },
     "metadata": {
      "needs_background": "light"
     },
     "output_type": "display_data"
    }
   ],
   "source": [
    "\n",
    "#Matrice de corrélation\n",
    "corrMatrix = dataset.corr()\n",
    "sn.heatmap(corrMatrix, annot=False)\n",
    "plt.show()"
   ]
  },
  {
   "cell_type": "markdown",
   "metadata": {
    "id": "5Zi18FmVMyxs"
   },
   "source": [
    "### Séparation du training et du test set"
   ]
  },
  {
   "cell_type": "code",
   "execution_count": 56,
   "metadata": {
    "id": "PEhCAjGgkYts"
   },
   "outputs": [],
   "source": [
    "#Séparation du training set et du test set\n",
    "X_train,X_test,y_train,y_test=train_test_split(design,y,test_size=0.33, random_state=1)\n",
    "\n"
   ]
  },
  {
   "cell_type": "markdown",
   "metadata": {
    "id": "gSFSVm4oM7EG"
   },
   "source": [
    "### Détermination de la borne supérieure pour le learningrate"
   ]
  },
  {
   "cell_type": "code",
   "execution_count": 57,
   "metadata": {
    "colab": {
     "base_uri": "https://localhost:8080/"
    },
    "id": "Sq1Pvc5EPHqN",
    "outputId": "60af8378-e35c-4d23-bd89-7473dd060358"
   },
   "outputs": [
    {
     "data": {
      "text/plain": [
       "9.861533615619182e-08"
      ]
     },
     "execution_count": 57,
     "metadata": {},
     "output_type": "execute_result"
    }
   ],
   "source": [
    "#Plus grand valeur propre de la matrice de XX.T\n",
    "max_ev=max(np.linalg.eigvals(np.dot(X_train, X_train.T))).real\n",
    "# Nous obtenons la borne supérieur du pas que nous pouvons utilisant grace au résulat théorique suivant \n",
    "step=1/max_ev\n",
    "step"
   ]
  },
  {
   "cell_type": "markdown",
   "metadata": {
    "id": "rrQFTh8FKHeV"
   },
   "source": [
    "## Question 2"
   ]
  },
  {
   "cell_type": "markdown",
   "metadata": {
    "id": "3q7-ArHINKUq"
   },
   "source": [
    "### Définition de la fonction de perte ridge et algorithme de descente de gradient"
   ]
  },
  {
   "cell_type": "code",
   "execution_count": 58,
   "metadata": {
    "id": "MrCl6cdgjewD"
   },
   "outputs": [],
   "source": [
    "# Définition de la fonction de perte\n",
    "def ridge_error(y,X,beta,lambd):\n",
    "  return(((np.dot(X,beta)-y)**2).sum()/2+lambd*(beta**2).sum()/2)/len(y)"
   ]
  },
  {
   "cell_type": "code",
   "execution_count": 59,
   "metadata": {
    "id": "DfYHqqPcnhka"
   },
   "outputs": [],
   "source": [
    "def gradient_descent_ridge(X, y,lambd, learningrate=1e-3, epochs=10000,epsilon=1e-2,monit=True,arret=True):\n",
    "\n",
    "  \"\"\"\n",
    "  Algorithme de descent de gradient avec pénalité ridge\n",
    "  \n",
    "  Parametres\n",
    "  ----------\n",
    "  X : np.array\n",
    "    matrice de design\n",
    "\n",
    "  y : np.array\n",
    "    vecteur du target\n",
    "\n",
    "  lambd: float\n",
    "    parametre de régularisation\n",
    "\n",
    "  epochs: int\n",
    "    Nombre d'epochs\n",
    "\n",
    "\n",
    "  monit : bool\n",
    "      Affiche l'itération en cours\n",
    "\n",
    "\n",
    "  \n",
    "  arret : bool\n",
    "      Algorithme s'arrete lorsque la condition d'arret est satisfaite\n",
    "\n",
    "  epsilon : float\n",
    "      Paramètre de précision pour la condition d'arret\n",
    "  \"\"\"  \n",
    "  ridge=[]\n",
    "  beta = pd.DataFrame([0,0,0,0,0,0]) # Initialisation des coefficients\n",
    "  for i in range(epochs+1):\n",
    "    if i%(epochs/100)==0 and monit: #monitoring\n",
    "      print(\"itération {} en cours ...\".format(i))\n",
    "    # Updating beta\n",
    "    delta =  np.subtract(np.dot(X,beta),y.reshape(-1,1))\n",
    "    gradient=np.dot(X.T,delta)+ lambd*beta\n",
    "    beta_new= beta-learningrate * gradient # on retire un gradient\n",
    "    ridge.append(ridge_error(y,X,beta_new,lambd)) # on calcule l'erreur\n",
    "    \n",
    "    if np.linalg.norm(gradient)<epsilon and arret: #condition d'arrêt\n",
    "      print(\"L'algorithme a convergé \")\n",
    "      break\n",
    "    beta=beta_new\n",
    "    \n",
    "  return beta,ridge"
   ]
  },
  {
   "cell_type": "markdown",
   "metadata": {
    "id": "KyNPlhnSNSJs"
   },
   "source": [
    "### Vitesse de convergence de la descente de gradient"
   ]
  },
  {
   "cell_type": "markdown",
   "metadata": {
    "id": "gmJXTvuBiYQk"
   },
   "source": [
    "Nous tracons le graphique de la log fonction de perte en fonction du nombre d'itérations. Nous pouvons ainsi observer la vitesse de convergence."
   ]
  },
  {
   "cell_type": "code",
   "execution_count": 60,
   "metadata": {
    "colab": {
     "base_uri": "https://localhost:8080/",
     "height": 310
    },
    "id": "h0mVX69z4HQK",
    "outputId": "673e410b-7d1e-4ac7-fba0-363ceb06ed8f"
   },
   "outputs": [
    {
     "data": {
      "text/plain": [
       "Text(0.5, 1.0, \"Fonction de perte ridge en fonction du nombre d'itération\")"
      ]
     },
     "execution_count": 60,
     "metadata": {},
     "output_type": "execute_result"
    },
    {
     "data": {
      "image/png": "[encoded data removed]",
      "text/plain": [
       "<Figure size 432x288 with 1 Axes>"
      ]
     },
     "metadata": {
      "needs_background": "light"
     },
     "output_type": "display_data"
    }
   ],
   "source": [
    "beta,ridge=gradient_descent_ridge(X_train,y_train,lambd=0.3,learningrate=1*step, epochs=3000,epsilon=1e-3,monit=False)\n",
    "plt.plot(np.log(ridge))\n",
    "plt.xlabel(\"nombre d'itérations\")\n",
    "plt.ylabel(\"log de la fonction de perte\")\n",
    "plt.title(\"Fonction de perte ridge en fonction du nombre d'itération\")"
   ]
  },
  {
   "cell_type": "code",
   "execution_count": 42,
   "metadata": {
    "colab": {
     "base_uri": "https://localhost:8080/"
    },
    "id": "3cS7L81qzQHo",
    "outputId": "eb9bc146-8fe5-404e-c285-3e162490a3d7"
   },
   "outputs": [
    {
     "data": {
      "text/plain": [
       "array([[6.  ],\n",
       "       [4.  ],\n",
       "       [0.8 ],\n",
       "       [0.02],\n",
       "       [7.  ],\n",
       "       [3.8 ]])"
      ]
     },
     "execution_count": 42,
     "metadata": {},
     "output_type": "execute_result"
    }
   ],
   "source": [
    "coef"
   ]
  },
  {
   "cell_type": "code",
   "execution_count": 61,
   "metadata": {
    "colab": {
     "base_uri": "https://localhost:8080/",
     "height": 231
    },
    "id": "A1lv_k7VAXaz",
    "outputId": "8efb535f-5bf3-40b9-bca3-6d328167a04b"
   },
   "outputs": [
    {
     "data": {
      "text/html": [
       "\n",
       "  <div id=\"df-b55d4983-b342-4961-b42f-f2c6d6c14c4d\">\n",
       "    <div class=\"colab-df-container\">\n",
       "      <div>\n",
       "<style scoped>\n",
       "    .dataframe tbody tr th:only-of-type {\n",
       "        vertical-align: middle;\n",
       "    }\n",
       "\n",
       "    .dataframe tbody tr th {\n",
       "        vertical-align: top;\n",
       "    }\n",
       "\n",
       "    .dataframe thead th {\n",
       "        text-align: right;\n",
       "    }\n",
       "</style>\n",
       "<table border=\"1\" class=\"dataframe\">\n",
       "  <thead>\n",
       "    <tr style=\"text-align: right;\">\n",
       "      <th></th>\n",
       "      <th>0</th>\n",
       "    </tr>\n",
       "  </thead>\n",
       "  <tbody>\n",
       "    <tr>\n",
       "      <th>0</th>\n",
       "      <td>5.997643</td>\n",
       "    </tr>\n",
       "    <tr>\n",
       "      <th>1</th>\n",
       "      <td>3.995093</td>\n",
       "    </tr>\n",
       "    <tr>\n",
       "      <th>2</th>\n",
       "      <td>0.811739</td>\n",
       "    </tr>\n",
       "    <tr>\n",
       "      <th>3</th>\n",
       "      <td>0.015615</td>\n",
       "    </tr>\n",
       "    <tr>\n",
       "      <th>4</th>\n",
       "      <td>6.997811</td>\n",
       "    </tr>\n",
       "    <tr>\n",
       "      <th>5</th>\n",
       "      <td>3.801480</td>\n",
       "    </tr>\n",
       "  </tbody>\n",
       "</table>\n",
       "</div>\n",
       "      <button class=\"colab-df-convert\" onclick=\"convertToInteractive('df-b55d4983-b342-4961-b42f-f2c6d6c14c4d')\"\n",
       "              title=\"Convert this dataframe to an interactive table.\"\n",
       "              style=\"display:none;\">\n",
       "        \n",
       "  <svg xmlns=\"http://www.w3.org/2000/svg\" height=\"24px\"viewBox=\"0 0 24 24\"\n",
       "       width=\"24px\">\n",
       "    <path d=\"M0 0h24v24H0V0z\" fill=\"none\"/>\n",
       "    <path d=\"M18.56 5.44l.94 2.06.94-2.06 2.06-.94-2.06-.94-.94-2.06-.94 2.06-2.06.94zm-11 1L8.5 8.5l.94-2.06 2.06-.94-2.06-.94L8.5 2.5l-.94 2.06-2.06.94zm10 10l.94 2.06.94-2.06 2.06-.94-2.06-.94-.94-2.06-.94 2.06-2.06.94z\"/><path d=\"M17.41 7.96l-1.37-1.37c-.4-.4-.92-.59-1.43-.59-.52 0-1.04.2-1.43.59L10.3 9.45l-7.72 7.72c-.78.78-.78 2.05 0 2.83L4 21.41c.39.39.9.59 1.41.59.51 0 1.02-.2 1.41-.59l7.78-7.78 2.81-2.81c.8-.78.8-2.07 0-2.86zM5.41 20L4 18.59l7.72-7.72 1.47 1.35L5.41 20z\"/>\n",
       "  </svg>\n",
       "      </button>\n",
       "      \n",
       "  <style>\n",
       "    .colab-df-container {\n",
       "      display:flex;\n",
       "      flex-wrap:wrap;\n",
       "      gap: 12px;\n",
       "    }\n",
       "\n",
       "    .colab-df-convert {\n",
       "      background-color: #E8F0FE;\n",
       "      border: none;\n",
       "      border-radius: 50%;\n",
       "      cursor: pointer;\n",
       "      display: none;\n",
       "      fill: #1967D2;\n",
       "      height: 32px;\n",
       "      padding: 0 0 0 0;\n",
       "      width: 32px;\n",
       "    }\n",
       "\n",
       "    .colab-df-convert:hover {\n",
       "      background-color: #E2EBFA;\n",
       "      box-shadow: 0px 1px 2px rgba(60, 64, 67, 0.3), 0px 1px 3px 1px rgba(60, 64, 67, 0.15);\n",
       "      fill: #174EA6;\n",
       "    }\n",
       "\n",
       "    [theme=dark] .colab-df-convert {\n",
       "      background-color: #3B4455;\n",
       "      fill: #D2E3FC;\n",
       "    }\n",
       "\n",
       "    [theme=dark] .colab-df-convert:hover {\n",
       "      background-color: #434B5C;\n",
       "      box-shadow: 0px 1px 3px 1px rgba(0, 0, 0, 0.15);\n",
       "      filter: drop-shadow(0px 1px 2px rgba(0, 0, 0, 0.3));\n",
       "      fill: #FFFFFF;\n",
       "    }\n",
       "  </style>\n",
       "\n",
       "      <script>\n",
       "        const buttonEl =\n",
       "          document.querySelector('#df-b55d4983-b342-4961-b42f-f2c6d6c14c4d button.colab-df-convert');\n",
       "        buttonEl.style.display =\n",
       "          google.colab.kernel.accessAllowed ? 'block' : 'none';\n",
       "\n",
       "        async function convertToInteractive(key) {\n",
       "          const element = document.querySelector('#df-b55d4983-b342-4961-b42f-f2c6d6c14c4d');\n",
       "          const dataTable =\n",
       "            await google.colab.kernel.invokeFunction('convertToInteractive',\n",
       "                                                     [key], {});\n",
       "          if (!dataTable) return;\n",
       "\n",
       "          const docLinkHtml = 'Like what you see? Visit the ' +\n",
       "            '<a target=\"_blank\" href=https://colab.research.google.com/notebooks/data_table.ipynb>data table notebook</a>'\n",
       "            + ' to learn more about interactive tables.';\n",
       "          element.innerHTML = '';\n",
       "          dataTable['output_type'] = 'display_data';\n",
       "          await google.colab.output.renderOutput(dataTable, element);\n",
       "          const docLink = document.createElement('div');\n",
       "          docLink.innerHTML = docLinkHtml;\n",
       "          element.appendChild(docLink);\n",
       "        }\n",
       "      </script>\n",
       "    </div>\n",
       "  </div>\n",
       "  "
      ],
      "text/plain": [
       "          0\n",
       "0  5.997643\n",
       "1  3.995093\n",
       "2  0.811739\n",
       "3  0.015615\n",
       "4  6.997811\n",
       "5  3.801480"
      ]
     },
     "execution_count": 61,
     "metadata": {},
     "output_type": "execute_result"
    }
   ],
   "source": [
    "beta"
   ]
  },
  {
   "cell_type": "markdown",
   "metadata": {
    "id": "kEpcVo5Pi10S"
   },
   "source": [
    "Les paramètres trouvés par l'algorithme de descent de gradient sont très proches des paramètres réels."
   ]
  },
  {
   "cell_type": "markdown",
   "metadata": {
    "id": "U8PVa1ZvKWq5"
   },
   "source": [
    "## Question 3"
   ]
  },
  {
   "cell_type": "markdown",
   "metadata": {
    "id": "mbzlR_2tkWG1"
   },
   "source": [
    "On trace les vitesses de convergence de l'algorithme pour différentes valeurs de learning rate. Nous notons step l'inverse de la plus grande valeur propre. Dans la théorie, le gradient converge lorsque le learningrate est inférieure à $2 \\times$step et diverge sinon."
   ]
  },
  {
   "cell_type": "code",
   "execution_count": 62,
   "metadata": {
    "colab": {
     "base_uri": "https://localhost:8080/",
     "height": 280
    },
    "id": "MBQUZBPPSsdQ",
    "outputId": "5a56c2b9-fac8-42d3-ee0c-afc08bcc2695"
   },
   "outputs": [
    {
     "data": {
      "image/png": "[encoded data removed]",
      "text/plain": [
       "<Figure size 432x288 with 1 Axes>"
      ]
     },
     "metadata": {
      "needs_background": "light"
     },
     "output_type": "display_data"
    }
   ],
   "source": [
    "\n",
    "LR=np.array([0.1,1.5,2.5])\n",
    "plt.figure()\n",
    "plt.title(\"Vitesse de convergence en fonction du learning rate\")\n",
    "for learningrate in LR:\n",
    "  beta,ridge=gradient_descent_ridge(X_train,y_train,lambd=2,learningrate=learningrate*step, epochs=50,epsilon=1e-3,monit=False,arret=False)\n",
    "  plt.plot(np.log(ridge),label=\"learning rate=\"+str(learningrate)+\"*step\")\n",
    "plt.legend()\n",
    "plt.ylim()\n",
    "plt.show()"
   ]
  },
  {
   "cell_type": "markdown",
   "metadata": {
    "id": "IaluT1EEGukE"
   },
   "source": [
    "\n",
    "\n",
    "Les résultats expérimentaux sont cohérents avec les résultats théoriques.Pour un learningrate de $2.5 \\times$step l'algorithme ne converge pas, l'erreur explose tandis que lorsque l'on choisit un learning rate inférieur à $2 \\times$step l'algorithme converge. Ainsi le learningrate optimal est inférieur à cette borne."
   ]
  },
  {
   "cell_type": "code",
   "execution_count": null,
   "metadata": {
    "colab": {
     "base_uri": "https://localhost:8080/",
     "height": 280
    },
    "id": "rhxqk4jWUB7u",
    "outputId": "a82df713-55c0-46e0-e731-4042af794a84"
   },
   "outputs": [
    {
     "data": {
      "image/png": "[encoded data removed]",
      "text/plain": [
       "<Figure size 432x288 with 1 Axes>"
      ]
     },
     "metadata": {
      "needs_background": "light"
     },
     "output_type": "display_data"
    }
   ],
   "source": [
    "LR=np.linspace(1,1.99,5)\n",
    "plt.figure()\n",
    "plt.title(\"Vitesse de convergence en fonction du learning rate\")\n",
    "for learningrate in LR:\n",
    "  beta,ridge=gradient_descent_ridge(X_train,y_train,lambd=0.3,learningrate=learningrate*step, epochs=800,epsilon=1e-2,monit=False,arret=False)\n",
    "  plt.plot(np.log(ridge),label=\"learning rate=\"+str(learningrate)+\"*step\")\n",
    "plt.legend()\n",
    "plt.ylim()\n",
    "plt.show()"
   ]
  },
  {
   "cell_type": "markdown",
   "metadata": {
    "id": "-9bKLZe-V0jg"
   },
   "source": [
    "$1.7425 \\times$Step (avec step qui correspond à l'inverse de la plus grande valeur propre) semble etre le meilleur choix pour le learningrate. En effet avec cette valeur du paramètre la convergence est plus rapide. Le learningrate optimal est dans un voisinage de cette valeur."
   ]
  },
  {
   "cell_type": "markdown",
   "metadata": {
    "id": "Q0yI2zixLxVZ"
   },
   "source": [
    "## Question 4"
   ]
  },
  {
   "cell_type": "markdown",
   "metadata": {
    "id": "hgr8j_C3kpsk"
   },
   "source": [
    "On cherche la valeur λ de la pénalité ridge optimale. Pour cela nous allons tracer l'erreur sur le test set en fonction de la valeur de λ et nous choisirons le λ qui minimise cette erreur."
   ]
  },
  {
   "cell_type": "code",
   "execution_count": null,
   "metadata": {
    "colab": {
     "base_uri": "https://localhost:8080/",
     "height": 527
    },
    "id": "kMH3H5NuLw0c",
    "outputId": "4370fa6e-a458-470e-e46e-ce5a446ef768"
   },
   "outputs": [
    {
     "name": "stdout",
     "output_type": "stream",
     "text": [
      "L'algorithme a convergé \n",
      "L'algorithme a convergé \n",
      "L'algorithme a convergé \n",
      "L'algorithme a convergé \n",
      "L'algorithme a convergé \n",
      "L'algorithme a convergé \n",
      "L'algorithme a convergé \n",
      "L'algorithme a convergé \n",
      "L'algorithme a convergé \n",
      "L'algorithme a convergé \n",
      "L'algorithme a convergé \n",
      "L'algorithme a convergé \n",
      "L'algorithme a convergé \n",
      "L'algorithme a convergé \n"
     ]
    },
    {
     "data": {
      "text/plain": [
       "<function matplotlib.pyplot.show(*args, **kw)>"
      ]
     },
     "execution_count": 124,
     "metadata": {},
     "output_type": "execute_result"
    },
    {
     "data": {
      "image/png": "[encoded data removed]",
      "text/plain": [
       "<Figure size 432x288 with 1 Axes>"
      ]
     },
     "metadata": {
      "needs_background": "light"
     },
     "output_type": "display_data"
    }
   ],
   "source": [
    "LMBD=np.linspace(1000,3000,20)\n",
    "error_test=[]\n",
    "for lambd in LMBD:\n",
    "  beta,ridge=gradient_descent_ridge(X_train,y_train,lambd=lambd,learningrate=1.3*step, epochs=1000,epsilon=1e-3,monit=False,arret=True)\n",
    "  error_test.append(ridge_error(y_test,X_test,beta=beta,lambd=lambd))\n",
    "plt.figure()\n",
    "plt.plot( LMBD,np.log(error_test))\n",
    "plt.title(\"Performance du test set en fonction de la pénalité ridge\")\n",
    "plt.show\n"
   ]
  },
  {
   "cell_type": "markdown",
   "metadata": {
    "id": "CWb2SeP6WRBr"
   },
   "source": [
    "Nous tracons ici le tableau des erreurs du le test set en fonction du paramètre λ."
   ]
  },
  {
   "cell_type": "code",
   "execution_count": null,
   "metadata": {
    "colab": {
     "base_uri": "https://localhost:8080/",
     "height": 657
    },
    "id": "untSymWZFhxp",
    "outputId": "b2fb8ec4-b208-4f08-a69c-03218324ba0e"
   },
   "outputs": [
    {
     "data": {
      "text/html": [
       "\n",
       "  <div id=\"df-d91edd61-2ff5-437b-9708-dd4c1f127be8\">\n",
       "    <div class=\"colab-df-container\">\n",
       "      <div>\n",
       "<style scoped>\n",
       "    .dataframe tbody tr th:only-of-type {\n",
       "        vertical-align: middle;\n",
       "    }\n",
       "\n",
       "    .dataframe tbody tr th {\n",
       "        vertical-align: top;\n",
       "    }\n",
       "\n",
       "    .dataframe thead th {\n",
       "        text-align: right;\n",
       "    }\n",
       "</style>\n",
       "<table border=\"1\" class=\"dataframe\">\n",
       "  <thead>\n",
       "    <tr style=\"text-align: right;\">\n",
       "      <th></th>\n",
       "      <th>0</th>\n",
       "    </tr>\n",
       "  </thead>\n",
       "  <tbody>\n",
       "    <tr>\n",
       "      <th>1000.000000</th>\n",
       "      <td>5.244026e+07</td>\n",
       "    </tr>\n",
       "    <tr>\n",
       "      <th>1105.263158</th>\n",
       "      <td>5.162819e+07</td>\n",
       "    </tr>\n",
       "    <tr>\n",
       "      <th>1210.526316</th>\n",
       "      <td>5.086497e+07</td>\n",
       "    </tr>\n",
       "    <tr>\n",
       "      <th>1315.789474</th>\n",
       "      <td>5.014660e+07</td>\n",
       "    </tr>\n",
       "    <tr>\n",
       "      <th>1421.052632</th>\n",
       "      <td>4.946946e+07</td>\n",
       "    </tr>\n",
       "    <tr>\n",
       "      <th>1526.315789</th>\n",
       "      <td>4.883035e+07</td>\n",
       "    </tr>\n",
       "    <tr>\n",
       "      <th>1631.578947</th>\n",
       "      <td>4.822636e+07</td>\n",
       "    </tr>\n",
       "    <tr>\n",
       "      <th>1736.842105</th>\n",
       "      <td>4.765487e+07</td>\n",
       "    </tr>\n",
       "    <tr>\n",
       "      <th>1842.105263</th>\n",
       "      <td>4.711352e+07</td>\n",
       "    </tr>\n",
       "    <tr>\n",
       "      <th>1947.368421</th>\n",
       "      <td>4.660017e+07</td>\n",
       "    </tr>\n",
       "    <tr>\n",
       "      <th>2052.631579</th>\n",
       "      <td>4.611285e+07</td>\n",
       "    </tr>\n",
       "    <tr>\n",
       "      <th>2157.894737</th>\n",
       "      <td>4.564979e+07</td>\n",
       "    </tr>\n",
       "    <tr>\n",
       "      <th>2263.157895</th>\n",
       "      <td>4.520936e+07</td>\n",
       "    </tr>\n",
       "    <tr>\n",
       "      <th>2368.421053</th>\n",
       "      <td>4.479008e+07</td>\n",
       "    </tr>\n",
       "    <tr>\n",
       "      <th>2473.684211</th>\n",
       "      <td>4.439059e+07</td>\n",
       "    </tr>\n",
       "    <tr>\n",
       "      <th>2578.947368</th>\n",
       "      <td>5.006028e+17</td>\n",
       "    </tr>\n",
       "    <tr>\n",
       "      <th>2684.210526</th>\n",
       "      <td>2.026971e+42</td>\n",
       "    </tr>\n",
       "    <tr>\n",
       "      <th>2789.473684</th>\n",
       "      <td>1.723444e+66</td>\n",
       "    </tr>\n",
       "    <tr>\n",
       "      <th>2894.736842</th>\n",
       "      <td>3.345612e+89</td>\n",
       "    </tr>\n",
       "    <tr>\n",
       "      <th>3000.000000</th>\n",
       "      <td>1.601676e+112</td>\n",
       "    </tr>\n",
       "  </tbody>\n",
       "</table>\n",
       "</div>\n",
       "      <button class=\"colab-df-convert\" onclick=\"convertToInteractive('df-d91edd61-2ff5-437b-9708-dd4c1f127be8')\"\n",
       "              title=\"Convert this dataframe to an interactive table.\"\n",
       "              style=\"display:none;\">\n",
       "        \n",
       "  <svg xmlns=\"http://www.w3.org/2000/svg\" height=\"24px\"viewBox=\"0 0 24 24\"\n",
       "       width=\"24px\">\n",
       "    <path d=\"M0 0h24v24H0V0z\" fill=\"none\"/>\n",
       "    <path d=\"M18.56 5.44l.94 2.06.94-2.06 2.06-.94-2.06-.94-.94-2.06-.94 2.06-2.06.94zm-11 1L8.5 8.5l.94-2.06 2.06-.94-2.06-.94L8.5 2.5l-.94 2.06-2.06.94zm10 10l.94 2.06.94-2.06 2.06-.94-2.06-.94-.94-2.06-.94 2.06-2.06.94z\"/><path d=\"M17.41 7.96l-1.37-1.37c-.4-.4-.92-.59-1.43-.59-.52 0-1.04.2-1.43.59L10.3 9.45l-7.72 7.72c-.78.78-.78 2.05 0 2.83L4 21.41c.39.39.9.59 1.41.59.51 0 1.02-.2 1.41-.59l7.78-7.78 2.81-2.81c.8-.78.8-2.07 0-2.86zM5.41 20L4 18.59l7.72-7.72 1.47 1.35L5.41 20z\"/>\n",
       "  </svg>\n",
       "      </button>\n",
       "      \n",
       "  <style>\n",
       "    .colab-df-container {\n",
       "      display:flex;\n",
       "      flex-wrap:wrap;\n",
       "      gap: 12px;\n",
       "    }\n",
       "\n",
       "    .colab-df-convert {\n",
       "      background-color: #E8F0FE;\n",
       "      border: none;\n",
       "      border-radius: 50%;\n",
       "      cursor: pointer;\n",
       "      display: none;\n",
       "      fill: #1967D2;\n",
       "      height: 32px;\n",
       "      padding: 0 0 0 0;\n",
       "      width: 32px;\n",
       "    }\n",
       "\n",
       "    .colab-df-convert:hover {\n",
       "      background-color: #E2EBFA;\n",
       "      box-shadow: 0px 1px 2px rgba(60, 64, 67, 0.3), 0px 1px 3px 1px rgba(60, 64, 67, 0.15);\n",
       "      fill: #174EA6;\n",
       "    }\n",
       "\n",
       "    [theme=dark] .colab-df-convert {\n",
       "      background-color: #3B4455;\n",
       "      fill: #D2E3FC;\n",
       "    }\n",
       "\n",
       "    [theme=dark] .colab-df-convert:hover {\n",
       "      background-color: #434B5C;\n",
       "      box-shadow: 0px 1px 3px 1px rgba(0, 0, 0, 0.15);\n",
       "      filter: drop-shadow(0px 1px 2px rgba(0, 0, 0, 0.3));\n",
       "      fill: #FFFFFF;\n",
       "    }\n",
       "  </style>\n",
       "\n",
       "      <script>\n",
       "        const buttonEl =\n",
       "          document.querySelector('#df-d91edd61-2ff5-437b-9708-dd4c1f127be8 button.colab-df-convert');\n",
       "        buttonEl.style.display =\n",
       "          google.colab.kernel.accessAllowed ? 'block' : 'none';\n",
       "\n",
       "        async function convertToInteractive(key) {\n",
       "          const element = document.querySelector('#df-d91edd61-2ff5-437b-9708-dd4c1f127be8');\n",
       "          const dataTable =\n",
       "            await google.colab.kernel.invokeFunction('convertToInteractive',\n",
       "                                                     [key], {});\n",
       "          if (!dataTable) return;\n",
       "\n",
       "          const docLinkHtml = 'Like what you see? Visit the ' +\n",
       "            '<a target=\"_blank\" href=https://colab.research.google.com/notebooks/data_table.ipynb>data table notebook</a>'\n",
       "            + ' to learn more about interactive tables.';\n",
       "          element.innerHTML = '';\n",
       "          dataTable['output_type'] = 'display_data';\n",
       "          await google.colab.output.renderOutput(dataTable, element);\n",
       "          const docLink = document.createElement('div');\n",
       "          docLink.innerHTML = docLinkHtml;\n",
       "          element.appendChild(docLink);\n",
       "        }\n",
       "      </script>\n",
       "    </div>\n",
       "  </div>\n",
       "  "
      ],
      "text/plain": [
       "                         0\n",
       "1000.000000   5.244026e+07\n",
       "1105.263158   5.162819e+07\n",
       "1210.526316   5.086497e+07\n",
       "1315.789474   5.014660e+07\n",
       "1421.052632   4.946946e+07\n",
       "1526.315789   4.883035e+07\n",
       "1631.578947   4.822636e+07\n",
       "1736.842105   4.765487e+07\n",
       "1842.105263   4.711352e+07\n",
       "1947.368421   4.660017e+07\n",
       "2052.631579   4.611285e+07\n",
       "2157.894737   4.564979e+07\n",
       "2263.157895   4.520936e+07\n",
       "2368.421053   4.479008e+07\n",
       "2473.684211   4.439059e+07\n",
       "2578.947368   5.006028e+17\n",
       "2684.210526   2.026971e+42\n",
       "2789.473684   1.723444e+66\n",
       "2894.736842   3.345612e+89\n",
       "3000.000000  1.601676e+112"
      ]
     },
     "execution_count": 128,
     "metadata": {},
     "output_type": "execute_result"
    }
   ],
   "source": [
    "pd.DataFrame(error_test, index=LMBD)"
   ]
  },
  {
   "cell_type": "markdown",
   "metadata": {
    "id": "MSgbiP3BU4Q2"
   },
   "source": [
    "On remarque que :\n",
    "- pour λ entre $10^3$ et $2.473 \\times 10^3$ l'erreur sur le test est décroissante \n",
    "- pour λ compris entre $2.473 \\times 10^3$ et $3 \\times 10^3$ l'erreur sur le test est croissante. \n",
    "\n",
    "La valeur optimale de λ est autour de $2.473\\times 10^3$, là où l'erreur sur le test set est minimale.\n",
    "On répète l'expérience avec des valeurs de λ dans un voisinage de $2.473\\times 10^3$."
   ]
  },
  {
   "cell_type": "code",
   "execution_count": null,
   "metadata": {
    "colab": {
     "base_uri": "https://localhost:8080/",
     "height": 296
    },
    "id": "1JQQKo6vJUCp",
    "outputId": "067665cd-3018-4609-f26b-8f66061d34a0"
   },
   "outputs": [
    {
     "data": {
      "text/plain": [
       "<function matplotlib.pyplot.show(*args, **kw)>"
      ]
     },
     "execution_count": 146,
     "metadata": {},
     "output_type": "execute_result"
    },
    {
     "data": {
      "image/png": "[encoded data removed]",
      "text/plain": [
       "<Figure size 432x288 with 1 Axes>"
      ]
     },
     "metadata": {
      "needs_background": "light"
     },
     "output_type": "display_data"
    }
   ],
   "source": [
    "LMBD=np.linspace(2.49*1e3,2.512*1e3,10)\n",
    "error_test=[]\n",
    "for lambd in LMBD:\n",
    "  beta,ridge=gradient_descent_ridge(X_train,y_train,lambd=lambd,learningrate=1.3*step, epochs=1000,epsilon=1e-3,monit=False,arret=True)\n",
    "  error_test.append(ridge_error(y_test,X_test,beta=beta,lambd=lambd))\n",
    "plt.figure()\n",
    "plt.plot( LMBD,np.log(error_test))\n",
    "plt.title(\"Performance du test set en fonction de la pénalité ridge\")\n",
    "plt.show"
   ]
  },
  {
   "cell_type": "markdown",
   "metadata": {
    "id": "GlPL6qpoRufD"
   },
   "source": [
    "On peut identifier sur le graphe ci dessus le lambda optimal. $λ_{optimal}=2507$"
   ]
  }
 ],
 "metadata": {
  "colab": {
   "provenance": []
  },
  "kernelspec": {
   "display_name": "Python 3",
   "language": "python",
   "name": "python3"
  },
  "language_info": {
   "codemirror_mode": {
    "name": "ipython",
    "version": 3
   },
   "file_extension": ".py",
   "mimetype": "text/x-python",
   "name": "python",
   "nbconvert_exporter": "python",
   "pygments_lexer": "ipython3",
   "version": "3.7.6"
  }
 },
 "nbformat": 4,
 "nbformat_minor": 1
}
