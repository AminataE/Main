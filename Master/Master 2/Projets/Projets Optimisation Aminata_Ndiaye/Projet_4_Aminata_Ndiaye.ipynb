{
 "cells": [
  {
   "cell_type": "markdown",
   "metadata": {
    "id": "SSe8rYstSuo-"
   },
   "source": [
    "# Projet 4: Convexité et Optimisation sous contrainte"
   ]
  },
  {
   "cell_type": "markdown",
   "metadata": {
    "id": "l-6TfXARS4Q7"
   },
   "source": [
    "## Préliminaires"
   ]
  },
  {
   "cell_type": "markdown",
   "metadata": {
    "id": "FMyPgOWVS-3a"
   },
   "source": [
    "Importation des packages"
   ]
  },
  {
   "cell_type": "code",
   "execution_count": 1,
   "metadata": {
    "id": "nnG_ayI-ShVY"
   },
   "outputs": [],
   "source": [
    "from math import *\n",
    "\n",
    "import numpy as np\n",
    "from numpy.random import multivariate_normal, randn # Probability distributions on vectors\n",
    "\n",
    "import pandas as pd  #pandas pour la gestion des données \n",
    "import matplotlib.pyplot as plt\n",
    "\n",
    "# SciPy - Efficient mathematical calculation\n",
    "from scipy.optimize import minimize_scalar\n",
    "from scipy.optimize import minimize"
   ]
  },
  {
   "cell_type": "markdown",
   "metadata": {
    "id": "UGB2dkulXDKF"
   },
   "source": [
    "Dans ce projet nous allons  implémenter le conditional gradient algorithm et l'algorithme du gradient projeté. Nous implémenterons ces deux méthodes de minimisation sous contraintes sur les ensembles convexes suivant:\n",
    "- la boule l-2\n",
    "- la boule l-1 \n",
    "\n"
   ]
  },
  {
   "cell_type": "markdown",
   "metadata": {
    "id": "jdIUiyXcl2Ub"
   },
   "source": [
    "Nous considérons la fonction suivante à minimiser:\n",
    "$$f(x)=2x^2+ 4x+2y^2 + 3y+5 $$\n",
    "\n",
    "dont le gradient est:\n",
    "\n",
    "$$∇f(x,y)= \\begin{pmatrix}\n",
    "4x+4\\\\\n",
    "4y+3\n",
    "\\end{pmatrix}$$\n",
    "\n",
    "Nous définissons ces différentes fonctions. Nous définissons également  une fonction initialisation pour générer des valeurs d'initialisation dans les contraintes que nous aurons définies ($\\lVert (x,y) \\rVert_1 \\leq1$ dans le cas de la boule l1 et $\\lVert (x,y) \\rVert_2 \\leq1$  dans le cas de la boule l2)\n",
    "\n",
    "De plus on a que:  \n",
    "$$\\lVert ∇f(x_1,y_1)-∇f(x_2,y_2)\\rVert_2 \\leq 4 \\lVert (x_1,y_1)-(x_2,y_2)\\rVert_2 $$\n",
    "\n",
    "On a le même résultat avec la norme 1."
   ]
  },
  {
   "cell_type": "code",
   "execution_count": 2,
   "metadata": {
    "id": "I7KBjxMmfhgR"
   },
   "outputs": [],
   "source": [
    "def f(x):\n",
    "    return 2*x[0]**2 + +4*x[0]+2*x[1]**2 + 3*x[1]+5\n",
    "\n",
    "def grad_f(x):\n",
    "    return  np.array([4*x[0]+4 , 4*x[1]+3])\n",
    "\n",
    "def initialisation(dim, constr='l2') :\n",
    "    if (constr=='l1'):\n",
    "      while True :\n",
    "        x = np.random.normal(size=dim)\n",
    "        if (np.linalg.norm(x,1) <= 1) :\n",
    "          return(x) \n",
    "            \n",
    "    else  :\n",
    "      while True :\n",
    "        x = np.random.normal(size=dim)\n",
    "        if (np.linalg.norm(x,2) <= 1) :\n",
    "          return(x)\n",
    "            \n",
    "   "
   ]
  },
  {
   "cell_type": "code",
   "execution_count": 3,
   "metadata": {
    "colab": {
     "base_uri": "https://localhost:8080/"
    },
    "id": "jvrHKfEdV-0_",
    "outputId": "a96d96e3-b1b0-4fff-9127-4e672e34d98e"
   },
   "outputs": [
    {
     "name": "stdout",
     "output_type": "stream",
     "text": [
      "La norme 2 de x0_l2  est   0.8651203432594243\n",
      "La norme 1 de x0_l1  est   0.26515467155478645\n"
     ]
    }
   ],
   "source": [
    "x_0_l2 = initialisation(2, constr='l2')\n",
    "print('La norme 2 de x0_l2  est  ', np.linalg.norm(x_0_l2))\n",
    "\n",
    "x_0_l1 = initialisation(2, constr='l1')\n",
    "print('La norme 1 de x0_l1  est  ', np.linalg.norm(x_0_l1))"
   ]
  },
  {
   "cell_type": "markdown",
   "metadata": {
    "id": "r9XpAiqSVWW7"
   },
   "source": [
    "On calcule le minimum réel et le minimiseur réel pour la contrainte de:\n",
    "- la boule l2\n",
    "- la boule L1"
   ]
  },
  {
   "cell_type": "code",
   "execution_count": 4,
   "metadata": {
    "id": "Na4JD0giiSMk"
   },
   "outputs": [],
   "source": [
    "# On utilise le package scipy pour calculer l'optimum et ainsi vérifier que nos algortithmes fonctionnent\n",
    "def vrai_optimum(f, x0, constr='l2') :\n",
    "\n",
    "  def contrainte(x):\n",
    "    if constr=='l1' :\n",
    "      return np.abs(x).sum() - 1\n",
    "\n",
    "    else :\n",
    "      return np.sqrt(np.sum(x**2)) - 1\n",
    "        \n",
    "  result = minimize(f, x0, constraints={'type': 'eq', 'fun': contrainte})\n",
    "\n",
    "  min = result.fun\n",
    "  opt = result.x\n",
    "  \n",
    "  return(min, opt)\n",
    "\n",
    "real_opt_l1 = vrai_optimum(f, x_0_l1, 'l1')\n",
    "min_f_l1 = np.round(real_opt_l1[0], 3)\n",
    "real_pt_l1 = np.round(real_opt_l1[1], 3)\n",
    "\n",
    "real_opt_l2 = vrai_optimum(f, x_0_l2, 'l2')\n",
    "min_f_l2 = np.round(real_opt_l2[0], 3)\n",
    "real_pt_l2 = np.round(real_opt_l2[1], 3)"
   ]
  },
  {
   "cell_type": "code",
   "execution_count": 5,
   "metadata": {
    "colab": {
     "base_uri": "https://localhost:8080/"
    },
    "id": "7hcys3LOVVBN",
    "outputId": "2591796a-a432-4148-8bd4-cfdca6980aa1"
   },
   "outputs": [
    {
     "name": "stdout",
     "output_type": "stream",
     "text": [
      "Optimum réel pour la boule l2\n"
     ]
    },
    {
     "data": {
      "text/plain": [
       "(1.9999999890771214, array([-0.80000441, -0.59999414]))"
      ]
     },
     "execution_count": 5,
     "metadata": {},
     "output_type": "execute_result"
    }
   ],
   "source": [
    "print('Optimum réel pour la boule l2')\n",
    "real_opt_l2"
   ]
  },
  {
   "cell_type": "code",
   "execution_count": 6,
   "metadata": {
    "colab": {
     "base_uri": "https://localhost:8080/"
    },
    "id": "0dIpBEkFcTIT",
    "outputId": "a711d9d8-dd9a-40bf-83ed-6e49f4c9c30c"
   },
   "outputs": [
    {
     "name": "stdout",
     "output_type": "stream",
     "text": [
      "Optimum réel pour la boule l1\n"
     ]
    },
    {
     "data": {
      "text/plain": [
       "(2.4375000000000004, array([-0.625, -0.375]))"
      ]
     },
     "execution_count": 6,
     "metadata": {},
     "output_type": "execute_result"
    }
   ],
   "source": [
    "print('Optimum réel pour la boule l1')\n",
    "real_opt_l1\n"
   ]
  },
  {
   "cell_type": "code",
   "execution_count": 7,
   "metadata": {
    "colab": {
     "base_uri": "https://localhost:8080/"
    },
    "id": "Ad_nwdi9RygH",
    "outputId": "864ce183-299f-4509-d6bf-8832293d1d4f"
   },
   "outputs": [
    {
     "name": "stderr",
     "output_type": "stream",
     "text": [
      "<ipython-input-7-faaf2db29335>:8: VisibleDeprecationWarning: Creating an ndarray from ragged nested sequences (which is a list-or-tuple of lists-or-tuples-or ndarrays with different lengths or shapes) is deprecated. If you meant to do this, you must specify 'dtype=object' when creating the ndarray.\n",
      "  resultats_l2.loc['Valeurs réelles']= np.array([real_pt_l2,min_f_l2,'non défini'])\n",
      "<ipython-input-7-faaf2db29335>:9: VisibleDeprecationWarning: Creating an ndarray from ragged nested sequences (which is a list-or-tuple of lists-or-tuples-or ndarrays with different lengths or shapes) is deprecated. If you meant to do this, you must specify 'dtype=object' when creating the ndarray.\n",
      "  resultats_l1.loc['Valeurs réelles']= np.array([real_pt_l1,min_f_l1,'non défini'])\n"
     ]
    }
   ],
   "source": [
    "# On initialise le tableau des résultats\n",
    "resultats_l2 = pd.DataFrame(columns = ['x_opt','f(x_opt)','nombre itérations'], \n",
    "                      index = ['Gradient conditionnel',\n",
    "                               'Gradient projeté','Valeurs réelles'])\n",
    "resultats_l1 = pd.DataFrame(columns = ['x_opt','f(x_opt)','nombre itérations'], \n",
    "                      index = ['Gradient conditionnel',\n",
    "                               'Gradient projeté','Valeurs réelles'])\n",
    "resultats_l2.loc['Valeurs réelles']= np.array([real_pt_l2,min_f_l2,'non défini'])\n",
    "resultats_l1.loc['Valeurs réelles']= np.array([real_pt_l1,min_f_l1,'non défini'])\n"
   ]
  },
  {
   "cell_type": "markdown",
   "metadata": {
    "id": "q2os__dqrdRg"
   },
   "source": [
    "## Algorithme du gradient conditionnel"
   ]
  },
  {
   "cell_type": "markdown",
   "metadata": {
    "id": "PKd9pxFXt12G"
   },
   "source": [
    "\n",
    "L'algorithme du gradient conditionnel résoud le problème de minimisation sous contraintes en linearisant la fonction objective en un point et en minimisant l'erreur de l'approximation linéaire. A chaque itération, 3 paramètres sont mis à jour:\n",
    "- $x_k$ : un minimiseur potentiel\n",
    "- $s_k$ : la direction de descente\n",
    "- $\\theta_k$ : la taille du pas\n",
    "\n"
   ]
  },
  {
   "cell_type": "code",
   "execution_count": 8,
   "metadata": {
    "id": "Ufy0H2IgTfrM"
   },
   "outputs": [],
   "source": [
    "def exact_ls(f, s, x) :\n",
    "    def comb_cvx(t):\n",
    "        return(f(t*s + (1-t)*x))\n",
    "    theta0 = np.random.uniform(0,1,1)\n",
    "    theta = minimize(comb_cvx, theta0, bounds=[(0,1)], method='SLSQP')\n",
    "    return theta.x\n",
    "def s_update_l1(grad_fx) :\n",
    "    k_0 = np.abs(grad_fx).argmax()\n",
    "    e = np.zeros(len(grad_fx))\n",
    "    e[k_0] = 1\n",
    "    return(- np.sign(grad_fx[k_0])*e)\n",
    "def s_update_l2(grad_fx):\n",
    "    return(- (np.sign(grad_fx)* (np.abs(grad_fx))) / np.linalg.norm(grad_fx))\n",
    "\n",
    "\n",
    "def cond_grad(f, grad_f, x0, constr, iter=1000, epsilon=1e-8, arret=True) :\n",
    "    \n",
    "    x = x0\n",
    "    # On choisit comment mettre à jour s_k\n",
    "    if (constr=='l2'):\n",
    "        s_update = s_update_l2\n",
    "    elif (constr=='l1') :\n",
    "        s_update = s_update_l1\n",
    "    else :\n",
    "        print(\"Contrainte inconnue\")\n",
    "        return(0)\n",
    "    #On initialise x et values\n",
    "    x_list = []\n",
    "    values = []\n",
    "    \n",
    "    for k in range(iter) :\n",
    "        \n",
    "        s = s_update(grad_f(x)) #mise à jour de sk\n",
    "        x_list.append(x)\n",
    "        values.append(f(x))\n",
    "        \n",
    "        if (np.dot(grad_f(x),(s-x)) >= 0) : #condition d'arret\n",
    "            print(\"x est dans le cone normal.\")\n",
    "            break\n",
    "            \n",
    "        theta = exact_ls(f, s, x) # mise à jour de theta\n",
    "        \n",
    "        x = theta*s + (1-theta)*x #mise à jour de x\n",
    "        \n",
    "        # Additional stopping condition\n",
    "        if arret :\n",
    "            if (np.linalg.norm(x-x_list[k-1]) < epsilon) :\n",
    "                print('Convergence')\n",
    "                break\n",
    "\n",
    "            if (np.all(grad_f(x) == 0)) :\n",
    "                print('Point critique atteint')\n",
    "                break\n",
    "\n",
    "        \n",
    "    \n",
    "    minim = np.round(f(x), 5)\n",
    "    opt_pt = np.round(x, 5)\n",
    "    # On sauvegarde les resultats dans le dataframe des resultats pour faire la comparaison\n",
    "    if (constr=='l2'):\n",
    "        resultats_l2.loc['Gradient conditionnel']= np.array([opt_pt,minim,k])\n",
    "    elif (constr=='l1') :\n",
    "        resultats_l1.loc['Gradient conditionnel']= np.array([opt_pt,minim,k])\n",
    "    else :\n",
    "        print(\"Contrainte inconnue\")\n",
    "        return(0)\n",
    "    # on crée un dictionnaire avec les résultats\n",
    "    resultat = {'f(x)': minim, 'x' : opt_pt, 'Valeurs' : np.round(values,3), 'Iterates' : np.round(x_list, 3)}  \n",
    "    return(resultat)\n",
    "        "
   ]
  },
  {
   "cell_type": "markdown",
   "metadata": {
    "id": "77H3FEcqrUer"
   },
   "source": [
    "## Algorithme du gradient projeté"
   ]
  },
  {
   "cell_type": "markdown",
   "metadata": {
    "id": "vvkKV-IPvC36"
   },
   "source": [
    "\n",
    "\n",
    "L'algorithme du gradient projeté minimise la fonction objective en restant dans la contrainte, en effet à chaque itération on projète la valeur obtenue à l'itération précedente sur la contrainte. Ainsi, il n'y a qu'une mise à jour à faire par itération, ce qui fait du gradient projeté une méthode moins couteuse que celle du gradient conditionnel."
   ]
  },
  {
   "cell_type": "markdown",
   "metadata": {
    "id": "ccrW0pALlqd9"
   },
   "source": [
    "Nous implémentons l'algorithme pour un pas fixe, le gradient de la fonction f etant 4- Lipschitz, nous pouvons choisir un pas τ tel que:\n",
    "$$0<τ<\\frac{1}{4}$$"
   ]
  },
  {
   "cell_type": "code",
   "execution_count": 9,
   "metadata": {
    "id": "GV-BzbgHrGLN"
   },
   "outputs": [],
   "source": [
    "def proj_l2(z) :\n",
    "    return(z/max(np.linalg.norm(z), 1))\n",
    "    \n",
    "def proj_l1(z) :\n",
    "    norm_z = np.linalg.norm(z)\n",
    "    if norm_z <= 1 :\n",
    "        return z\n",
    "    else :\n",
    "        return z/norm_z\n",
    "\n",
    "def proj_gradient(f, grad_f, x0, tau, epsilon = 1e-8, constr='l2', iter = 1000,arret=True) :\n",
    "    x = x0\n",
    " \n",
    "    # Determine type of projection\n",
    "    if (constr=='l2'):\n",
    "        proj = proj_l2\n",
    "    elif (constr=='l1') :\n",
    "        proj = proj_l1\n",
    "    else :\n",
    "        print(\"Contrainte inconnue\")\n",
    "        return(0)\n",
    "    \n",
    "    x_list = []\n",
    "    values = []\n",
    "    \n",
    "    for k in range(iter) :\n",
    "        x_list.append(x)\n",
    "        values.append(f(x))\n",
    "        \n",
    "        # Updating x\n",
    "        x_new = proj(x - tau * grad_f(x))\n",
    "        x = x_new\n",
    "        # Additional stopping condition\n",
    "        if arret :\n",
    "            if (np.linalg.norm(x-x_list[k-1]) < epsilon) :\n",
    "                print('Convergence')\n",
    "                break\n",
    "\n",
    "            if (np.all(grad_f(x) == 0)) :\n",
    "                print('Point critique atteint')\n",
    "                break\n",
    "\n",
    "\n",
    "    minim = np.round(f(x), 3)\n",
    "    opt_pt = np.round(x, 3)\n",
    "     # On sauvegarde les resultats dans le dataframe des resultats pour faire la comparaison\n",
    "    if (constr=='l2'):\n",
    "        resultats_l2.loc['Gradient projeté']= np.array([opt_pt,minim,k])\n",
    "    else:\n",
    "        resultats_l1.loc['Gradient projeté']= np.array([opt_pt,minim,k])\n",
    "    \n",
    "    # on crée un dictionnaire avec les résultats\n",
    "    resultat = { 'f(x)': minim, 'x' : opt_pt, 'Valeurs' : np.round(values,3), 'Iterates' : np.round(x_list, 3)}\n",
    "    \n",
    "    #print('Minimum réel : ', min_f, '\\n','Point optimal réel : ', real_pt, '\\n', 'x_opt : ', opt_pt, '\\n', 'f(x_opt) : ', minim)\n",
    "    #print(\"Nombre d'itérations : \", k, \" iterations.\")\n",
    "    \n",
    "    return(resultat)\n",
    "    \n"
   ]
  },
  {
   "cell_type": "markdown",
   "metadata": {
    "id": "9D6VH5I7rqnG"
   },
   "source": [
    "## Question 1: Contrainte: La boule L2"
   ]
  },
  {
   "cell_type": "markdown",
   "metadata": {
    "id": "zbpP7JeYqfNp"
   },
   "source": [
    "### Le gradient conditionnel sur la boule l-2"
   ]
  },
  {
   "cell_type": "code",
   "execution_count": 10,
   "metadata": {
    "colab": {
     "base_uri": "https://localhost:8080/"
    },
    "id": "PumjtDk6qv3U",
    "outputId": "c7b9d224-0e39-4313-d6c9-a9b0fbb77b40"
   },
   "outputs": [
    {
     "name": "stdout",
     "output_type": "stream",
     "text": [
      "Convergence\n"
     ]
    },
    {
     "name": "stderr",
     "output_type": "stream",
     "text": [
      "<ipython-input-8-469a503b38db>:61: VisibleDeprecationWarning: Creating an ndarray from ragged nested sequences (which is a list-or-tuple of lists-or-tuples-or ndarrays with different lengths or shapes) is deprecated. If you meant to do this, you must specify 'dtype=object' when creating the ndarray.\n",
      "  resultats_l2.loc['Gradient conditionnel']= np.array([opt_pt,minim,k])\n"
     ]
    }
   ],
   "source": [
    "res_l2_GC= cond_grad(f, grad_f, x_0_l2, constr='l2')\n"
   ]
  },
  {
   "cell_type": "markdown",
   "metadata": {
    "id": "oC-MOXHfsCXl"
   },
   "source": [
    "### Le gradient projeté sur la boule l-2\n",
    "\n",
    "\n"
   ]
  },
  {
   "cell_type": "code",
   "execution_count": 11,
   "metadata": {
    "id": "-M72XgE4swf6"
   },
   "outputs": [],
   "source": [
    "L_l2 = 1/4"
   ]
  },
  {
   "cell_type": "code",
   "execution_count": 12,
   "metadata": {
    "colab": {
     "base_uri": "https://localhost:8080/"
    },
    "id": "fSj6XIgbs0Ql",
    "outputId": "a8c7a6d8-22ce-4db1-9ff1-919a91bdcfc5"
   },
   "outputs": [
    {
     "name": "stdout",
     "output_type": "stream",
     "text": [
      "Convergence\n"
     ]
    },
    {
     "name": "stderr",
     "output_type": "stream",
     "text": [
      "<ipython-input-9-99c45a546043>:48: VisibleDeprecationWarning: Creating an ndarray from ragged nested sequences (which is a list-or-tuple of lists-or-tuples-or ndarrays with different lengths or shapes) is deprecated. If you meant to do this, you must specify 'dtype=object' when creating the ndarray.\n",
      "  resultats_l2.loc['Gradient projeté']= np.array([opt_pt,minim,k])\n"
     ]
    }
   ],
   "source": [
    "res_l2_PG = proj_gradient(f, grad_f, x_0_l2, L_l2, epsilon = 1e-8, constr = 'l2', iter = 1000)\n"
   ]
  },
  {
   "cell_type": "markdown",
   "metadata": {
    "id": "Ib7XjQWds8es"
   },
   "source": [
    "### Comparaison des algorithmes du gradient condtionnel et du gradient projeté sur la boule l-2"
   ]
  },
  {
   "cell_type": "code",
   "execution_count": 13,
   "metadata": {
    "colab": {
     "base_uri": "https://localhost:8080/"
    },
    "id": "m7xA3JmZYAfh",
    "outputId": "85e5b0a2-2499-471b-d54d-cd93466c66cb"
   },
   "outputs": [
    {
     "name": "stdout",
     "output_type": "stream",
     "text": [
      "                              x_opt f(x_opt) nombre itérations\n",
      "Gradient conditionnel  [-0.8, -0.6]      2.0               109\n",
      "Gradient projeté       [-0.8, -0.6]      2.0                 2\n",
      "Valeurs réelles        [-0.8, -0.6]      2.0        non défini\n"
     ]
    }
   ],
   "source": [
    "print(resultats_l2)\n"
   ]
  },
  {
   "cell_type": "code",
   "execution_count": 14,
   "metadata": {
    "colab": {
     "base_uri": "https://localhost:8080/"
    },
    "id": "ilqOueNGmqWl",
    "outputId": "96fa3dd3-09e7-4b90-a851-5d2b5be1740b"
   },
   "outputs": [
    {
     "name": "stderr",
     "output_type": "stream",
     "text": [
      "<ipython-input-9-99c45a546043>:48: VisibleDeprecationWarning: Creating an ndarray from ragged nested sequences (which is a list-or-tuple of lists-or-tuples-or ndarrays with different lengths or shapes) is deprecated. If you meant to do this, you must specify 'dtype=object' when creating the ndarray.\n",
      "  resultats_l2.loc['Gradient projeté']= np.array([opt_pt,minim,k])\n"
     ]
    }
   ],
   "source": [
    "res_l2_PG = proj_gradient(f, grad_f, x_0_l2, L_l2, epsilon = 1e-8, constr = 'l2', iter = 1000,arret=False)"
   ]
  },
  {
   "cell_type": "code",
   "execution_count": 15,
   "metadata": {
    "colab": {
     "base_uri": "https://localhost:8080/",
     "height": 294
    },
    "id": "R-YGvrsZs7yl",
    "outputId": "558fbb40-057c-4818-bae1-9f1b43e0fa33"
   },
   "outputs": [
    {
     "data": {
      "image/png": "[encoded data removed]",
      "text/plain": [
       "<Figure size 432x288 with 1 Axes>"
      ]
     },
     "metadata": {
      "needs_background": "light"
     },
     "output_type": "display_data"
    }
   ],
   "source": [
    "plt.plot(res_l2_GC[\"Valeurs\"], label='CGD')\n",
    "plt.plot(res_l2_PG[\"Valeurs\"], label='PG')\n",
    "plt.axhline(y=min_f_l2, label=r'solution', linestyle='--', color='red')\n",
    "plt.title('Comparaison des vitesse de convergence du CGD et du PG')\n",
    "plt.xlabel('Iterations')\n",
    "\n",
    "plt.legend()\n",
    "plt.show()"
   ]
  },
  {
   "cell_type": "markdown",
   "metadata": {
    "id": "UzS5aXURmUwy"
   },
   "source": [
    "Dans le cas de la boule l2, le gradient contionnel et le gradient projeté convergent tous les deux vers la solution réelle, cependant l'algorithme du gradient projeté converge beaucoup plus vite(en seulement 2 itérations contre 46 pour le gradient conditionnel)."
   ]
  },
  {
   "cell_type": "markdown",
   "metadata": {
    "id": "wdmuUDAUyJ4Q"
   },
   "source": [
    "## Question 2: Contrainte: La boule L1"
   ]
  },
  {
   "cell_type": "markdown",
   "metadata": {
    "id": "dGgZARZyygNb"
   },
   "source": [
    "### Le gradient conditionnel sur la boule l-1"
   ]
  },
  {
   "cell_type": "code",
   "execution_count": 16,
   "metadata": {
    "colab": {
     "base_uri": "https://localhost:8080/"
    },
    "id": "37juz62DyUnM",
    "outputId": "3a9f1bf6-3eba-48bd-c4bd-2884285ee742"
   },
   "outputs": [
    {
     "name": "stdout",
     "output_type": "stream",
     "text": [
      "Convergence\n"
     ]
    },
    {
     "name": "stderr",
     "output_type": "stream",
     "text": [
      "<ipython-input-8-469a503b38db>:63: VisibleDeprecationWarning: Creating an ndarray from ragged nested sequences (which is a list-or-tuple of lists-or-tuples-or ndarrays with different lengths or shapes) is deprecated. If you meant to do this, you must specify 'dtype=object' when creating the ndarray.\n",
      "  resultats_l1.loc['Gradient conditionnel']= np.array([opt_pt,minim,k])\n"
     ]
    }
   ],
   "source": [
    "res_l1 = cond_grad(f, grad_f, x_0_l1, constr='l1', iter = 5000)"
   ]
  },
  {
   "cell_type": "markdown",
   "metadata": {
    "id": "Kf92llZhkpAk"
   },
   "source": [
    "### Le gradient projeté sur la boule l-1"
   ]
  },
  {
   "cell_type": "code",
   "execution_count": 17,
   "metadata": {
    "id": "iQpxTvt9gYm5"
   },
   "outputs": [],
   "source": [
    "L_l1=1/4"
   ]
  },
  {
   "cell_type": "code",
   "execution_count": 18,
   "metadata": {
    "colab": {
     "base_uri": "https://localhost:8080/"
    },
    "id": "6IofXpaTy7Z0",
    "outputId": "ecda907e-56f9-4284-a2cf-a60d3a5c8a2b"
   },
   "outputs": [
    {
     "name": "stdout",
     "output_type": "stream",
     "text": [
      "Convergence\n"
     ]
    },
    {
     "name": "stderr",
     "output_type": "stream",
     "text": [
      "<ipython-input-9-99c45a546043>:50: VisibleDeprecationWarning: Creating an ndarray from ragged nested sequences (which is a list-or-tuple of lists-or-tuples-or ndarrays with different lengths or shapes) is deprecated. If you meant to do this, you must specify 'dtype=object' when creating the ndarray.\n",
      "  resultats_l1.loc['Gradient projeté']= np.array([opt_pt,minim,k])\n"
     ]
    }
   ],
   "source": [
    "res_l1_PG = proj_gradient(f, grad_f, x_0_l1, L_l1, epsilon= 1e-8, constr = 'l1', iter = 5000)"
   ]
  },
  {
   "cell_type": "markdown",
   "metadata": {
    "id": "4UQQjBunzD5S"
   },
   "source": [
    "### Comparaison des algorithmes du gradient condtionnel et du gradient projeté sur la boule l-1"
   ]
  },
  {
   "cell_type": "code",
   "execution_count": 19,
   "metadata": {
    "colab": {
     "base_uri": "https://localhost:8080/",
     "height": 140
    },
    "id": "NtdnLaCycnVu",
    "outputId": "8c1ef503-e05c-4d97-a096-975f40b5c52e"
   },
   "outputs": [
    {
     "data": {
      "text/html": [
       "\n",
       "  <div id=\"df-74472d07-c72e-467b-b4a6-62b534ace661\">\n",
       "    <div class=\"colab-df-container\">\n",
       "      <div>\n",
       "<style scoped>\n",
       "    .dataframe tbody tr th:only-of-type {\n",
       "        vertical-align: middle;\n",
       "    }\n",
       "\n",
       "    .dataframe tbody tr th {\n",
       "        vertical-align: top;\n",
       "    }\n",
       "\n",
       "    .dataframe thead th {\n",
       "        text-align: right;\n",
       "    }\n",
       "</style>\n",
       "<table border=\"1\" class=\"dataframe\">\n",
       "  <thead>\n",
       "    <tr style=\"text-align: right;\">\n",
       "      <th></th>\n",
       "      <th>x_opt</th>\n",
       "      <th>f(x_opt)</th>\n",
       "      <th>nombre itérations</th>\n",
       "    </tr>\n",
       "  </thead>\n",
       "  <tbody>\n",
       "    <tr>\n",
       "      <th>Gradient conditionnel</th>\n",
       "      <td>[-0.62471, -0.37478]</td>\n",
       "      <td>2.43825</td>\n",
       "      <td>1138</td>\n",
       "    </tr>\n",
       "    <tr>\n",
       "      <th>Gradient projeté</th>\n",
       "      <td>[-0.8, -0.6]</td>\n",
       "      <td>2.0</td>\n",
       "      <td>2</td>\n",
       "    </tr>\n",
       "    <tr>\n",
       "      <th>Valeurs réelles</th>\n",
       "      <td>[-0.625, -0.375]</td>\n",
       "      <td>2.438</td>\n",
       "      <td>non défini</td>\n",
       "    </tr>\n",
       "  </tbody>\n",
       "</table>\n",
       "</div>\n",
       "      <button class=\"colab-df-convert\" onclick=\"convertToInteractive('df-74472d07-c72e-467b-b4a6-62b534ace661')\"\n",
       "              title=\"Convert this dataframe to an interactive table.\"\n",
       "              style=\"display:none;\">\n",
       "        \n",
       "  <svg xmlns=\"http://www.w3.org/2000/svg\" height=\"24px\"viewBox=\"0 0 24 24\"\n",
       "       width=\"24px\">\n",
       "    <path d=\"M0 0h24v24H0V0z\" fill=\"none\"/>\n",
       "    <path d=\"M18.56 5.44l.94 2.06.94-2.06 2.06-.94-2.06-.94-.94-2.06-.94 2.06-2.06.94zm-11 1L8.5 8.5l.94-2.06 2.06-.94-2.06-.94L8.5 2.5l-.94 2.06-2.06.94zm10 10l.94 2.06.94-2.06 2.06-.94-2.06-.94-.94-2.06-.94 2.06-2.06.94z\"/><path d=\"M17.41 7.96l-1.37-1.37c-.4-.4-.92-.59-1.43-.59-.52 0-1.04.2-1.43.59L10.3 9.45l-7.72 7.72c-.78.78-.78 2.05 0 2.83L4 21.41c.39.39.9.59 1.41.59.51 0 1.02-.2 1.41-.59l7.78-7.78 2.81-2.81c.8-.78.8-2.07 0-2.86zM5.41 20L4 18.59l7.72-7.72 1.47 1.35L5.41 20z\"/>\n",
       "  </svg>\n",
       "      </button>\n",
       "      \n",
       "  <style>\n",
       "    .colab-df-container {\n",
       "      display:flex;\n",
       "      flex-wrap:wrap;\n",
       "      gap: 12px;\n",
       "    }\n",
       "\n",
       "    .colab-df-convert {\n",
       "      background-color: #E8F0FE;\n",
       "      border: none;\n",
       "      border-radius: 50%;\n",
       "      cursor: pointer;\n",
       "      display: none;\n",
       "      fill: #1967D2;\n",
       "      height: 32px;\n",
       "      padding: 0 0 0 0;\n",
       "      width: 32px;\n",
       "    }\n",
       "\n",
       "    .colab-df-convert:hover {\n",
       "      background-color: #E2EBFA;\n",
       "      box-shadow: 0px 1px 2px rgba(60, 64, 67, 0.3), 0px 1px 3px 1px rgba(60, 64, 67, 0.15);\n",
       "      fill: #174EA6;\n",
       "    }\n",
       "\n",
       "    [theme=dark] .colab-df-convert {\n",
       "      background-color: #3B4455;\n",
       "      fill: #D2E3FC;\n",
       "    }\n",
       "\n",
       "    [theme=dark] .colab-df-convert:hover {\n",
       "      background-color: #434B5C;\n",
       "      box-shadow: 0px 1px 3px 1px rgba(0, 0, 0, 0.15);\n",
       "      filter: drop-shadow(0px 1px 2px rgba(0, 0, 0, 0.3));\n",
       "      fill: #FFFFFF;\n",
       "    }\n",
       "  </style>\n",
       "\n",
       "      <script>\n",
       "        const buttonEl =\n",
       "          document.querySelector('#df-74472d07-c72e-467b-b4a6-62b534ace661 button.colab-df-convert');\n",
       "        buttonEl.style.display =\n",
       "          google.colab.kernel.accessAllowed ? 'block' : 'none';\n",
       "\n",
       "        async function convertToInteractive(key) {\n",
       "          const element = document.querySelector('#df-74472d07-c72e-467b-b4a6-62b534ace661');\n",
       "          const dataTable =\n",
       "            await google.colab.kernel.invokeFunction('convertToInteractive',\n",
       "                                                     [key], {});\n",
       "          if (!dataTable) return;\n",
       "\n",
       "          const docLinkHtml = 'Like what you see? Visit the ' +\n",
       "            '<a target=\"_blank\" href=https://colab.research.google.com/notebooks/data_table.ipynb>data table notebook</a>'\n",
       "            + ' to learn more about interactive tables.';\n",
       "          element.innerHTML = '';\n",
       "          dataTable['output_type'] = 'display_data';\n",
       "          await google.colab.output.renderOutput(dataTable, element);\n",
       "          const docLink = document.createElement('div');\n",
       "          docLink.innerHTML = docLinkHtml;\n",
       "          element.appendChild(docLink);\n",
       "        }\n",
       "      </script>\n",
       "    </div>\n",
       "  </div>\n",
       "  "
      ],
      "text/plain": [
       "                                      x_opt f(x_opt) nombre itérations\n",
       "Gradient conditionnel  [-0.62471, -0.37478]  2.43825              1138\n",
       "Gradient projeté               [-0.8, -0.6]      2.0                 2\n",
       "Valeurs réelles            [-0.625, -0.375]    2.438        non défini"
      ]
     },
     "execution_count": 19,
     "metadata": {},
     "output_type": "execute_result"
    }
   ],
   "source": [
    "resultats_l1"
   ]
  },
  {
   "cell_type": "code",
   "execution_count": 20,
   "metadata": {
    "colab": {
     "base_uri": "https://localhost:8080/"
    },
    "id": "7LcgpsJig6by",
    "outputId": "bae34913-283b-4eae-ca0d-05c85780ed68"
   },
   "outputs": [
    {
     "name": "stderr",
     "output_type": "stream",
     "text": [
      "<ipython-input-9-99c45a546043>:50: VisibleDeprecationWarning: Creating an ndarray from ragged nested sequences (which is a list-or-tuple of lists-or-tuples-or ndarrays with different lengths or shapes) is deprecated. If you meant to do this, you must specify 'dtype=object' when creating the ndarray.\n",
      "  resultats_l1.loc['Gradient projeté']= np.array([opt_pt,minim,k])\n"
     ]
    }
   ],
   "source": [
    "res_l1_PG = proj_gradient(f, grad_f, x_0_l1, L_l1, epsilon= 1e-8, constr = 'l1', iter = 1000,arret=False)"
   ]
  },
  {
   "cell_type": "code",
   "execution_count": 21,
   "metadata": {
    "colab": {
     "base_uri": "https://localhost:8080/",
     "height": 294
    },
    "id": "lrRTbEeZzK66",
    "outputId": "a9b90353-b29e-45fd-eb27-bd70e4f976ff"
   },
   "outputs": [
    {
     "data": {
      "image/png": "[encoded data removed]",
      "text/plain": [
       "<Figure size 432x288 with 1 Axes>"
      ]
     },
     "metadata": {
      "needs_background": "light"
     },
     "output_type": "display_data"
    }
   ],
   "source": [
    "plt.plot(res_l1_PG[\"Valeurs\"],  linestyle='-.',label='PG')\n",
    "plt.axhline(y=min_f_l1, label=r'solution', linestyle='--', color='red')\n",
    "plt.plot(res_l1[\"Valeurs\"],label='CGD',  linestyle='--', color='black')\n",
    "plt.title('Comparaison des vitesses de convergence du CGD et du PG : boule l-1')\n",
    "plt.xlabel('Iterations ')\n",
    "plt.legend()\n",
    "plt.show()\n"
   ]
  },
  {
   "cell_type": "markdown",
   "metadata": {
    "id": "VbVuFBV_n0TE"
   },
   "source": [
    "Dans le cas de la boule l1, le gradient contionnel converge  vers la solution réelle tandis que le gradient projeté ne converge que vers un voisinage de la solution, cependant l'algorithme du gradient projeté converge beaucoup plus vite(en seulement 2 itérations contre 973 pour le gradient conditionnel)."
   ]
  }
 ],
 "metadata": {
  "colab": {
   "provenance": []
  },
  "kernelspec": {
   "display_name": "Python 3",
   "language": "python",
   "name": "python3"
  },
  "language_info": {
   "codemirror_mode": {
    "name": "ipython",
    "version": 3
   },
   "file_extension": ".py",
   "mimetype": "text/x-python",
   "name": "python",
   "nbconvert_exporter": "python",
   "pygments_lexer": "ipython3",
   "version": "3.7.6"
  }
 },
 "nbformat": 4,
 "nbformat_minor": 1
}
